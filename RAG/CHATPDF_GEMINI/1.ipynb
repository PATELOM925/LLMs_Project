{
 "cells": [
  {
   "cell_type": "code",
   "execution_count": 1,
   "id": "17dddd1f",
   "metadata": {},
   "outputs": [
    {
     "name": "stdout",
     "output_type": "stream",
     "text": [
      "Requirement already satisfied: clarifai in /Users/om-college/miniconda3/lib/python3.12/site-packages (10.5.0)\n",
      "Requirement already satisfied: clarifai-grpc>=10.5.0 in /Users/om-college/miniconda3/lib/python3.12/site-packages (from clarifai) (10.5.2)\n",
      "Requirement already satisfied: numpy>=1.22.0 in /Users/om-college/miniconda3/lib/python3.12/site-packages (from clarifai) (1.26.4)\n",
      "Requirement already satisfied: tqdm>=4.65.0 in /Users/om-college/miniconda3/lib/python3.12/site-packages (from clarifai) (4.66.4)\n",
      "Requirement already satisfied: tritonclient>=2.34.0 in /Users/om-college/miniconda3/lib/python3.12/site-packages (from clarifai) (2.46.0)\n",
      "Requirement already satisfied: rich>=13.4.2 in /Users/om-college/miniconda3/lib/python3.12/site-packages (from clarifai) (13.7.1)\n",
      "Requirement already satisfied: PyYAML>=6.0.1 in /Users/om-college/miniconda3/lib/python3.12/site-packages (from clarifai) (6.0.1)\n",
      "Requirement already satisfied: schema==0.7.5 in /Users/om-college/miniconda3/lib/python3.12/site-packages (from clarifai) (0.7.5)\n",
      "Requirement already satisfied: Pillow>=9.5.0 in /Users/om-college/miniconda3/lib/python3.12/site-packages (from clarifai) (10.3.0)\n",
      "Requirement already satisfied: inquirerpy==0.3.4 in /Users/om-college/miniconda3/lib/python3.12/site-packages (from clarifai) (0.3.4)\n",
      "Requirement already satisfied: tabulate>=0.9.0 in /Users/om-college/miniconda3/lib/python3.12/site-packages (from clarifai) (0.9.0)\n",
      "Requirement already satisfied: pfzy<0.4.0,>=0.3.1 in /Users/om-college/miniconda3/lib/python3.12/site-packages (from inquirerpy==0.3.4->clarifai) (0.3.4)\n",
      "Requirement already satisfied: prompt-toolkit<4.0.0,>=3.0.1 in /Users/om-college/miniconda3/lib/python3.12/site-packages (from inquirerpy==0.3.4->clarifai) (3.0.47)\n",
      "Requirement already satisfied: contextlib2>=0.5.5 in /Users/om-college/miniconda3/lib/python3.12/site-packages (from schema==0.7.5->clarifai) (21.6.0)\n",
      "Requirement already satisfied: grpcio>=1.44.0 in /Users/om-college/miniconda3/lib/python3.12/site-packages (from clarifai-grpc>=10.5.0->clarifai) (1.64.1)\n",
      "Requirement already satisfied: protobuf>=3.20.3 in /Users/om-college/miniconda3/lib/python3.12/site-packages (from clarifai-grpc>=10.5.0->clarifai) (5.27.1)\n",
      "Requirement already satisfied: googleapis-common-protos>=1.53.0 in /Users/om-college/miniconda3/lib/python3.12/site-packages (from clarifai-grpc>=10.5.0->clarifai) (1.63.1)\n",
      "Requirement already satisfied: requests>=2.25.1 in /Users/om-college/miniconda3/lib/python3.12/site-packages (from clarifai-grpc>=10.5.0->clarifai) (2.31.0)\n",
      "Requirement already satisfied: markdown-it-py>=2.2.0 in /Users/om-college/miniconda3/lib/python3.12/site-packages (from rich>=13.4.2->clarifai) (3.0.0)\n",
      "Requirement already satisfied: pygments<3.0.0,>=2.13.0 in /Users/om-college/miniconda3/lib/python3.12/site-packages (from rich>=13.4.2->clarifai) (2.18.0)\n",
      "Requirement already satisfied: python-rapidjson>=0.9.1 in /Users/om-college/miniconda3/lib/python3.12/site-packages (from tritonclient>=2.34.0->clarifai) (1.17)\n",
      "Requirement already satisfied: urllib3>=2.0.7 in /Users/om-college/miniconda3/lib/python3.12/site-packages (from tritonclient>=2.34.0->clarifai) (2.1.0)\n",
      "Requirement already satisfied: mdurl~=0.1 in /Users/om-college/miniconda3/lib/python3.12/site-packages (from markdown-it-py>=2.2.0->rich>=13.4.2->clarifai) (0.1.2)\n",
      "Requirement already satisfied: wcwidth in /Users/om-college/miniconda3/lib/python3.12/site-packages (from prompt-toolkit<4.0.0,>=3.0.1->inquirerpy==0.3.4->clarifai) (0.2.13)\n",
      "Requirement already satisfied: charset-normalizer<4,>=2 in /Users/om-college/miniconda3/lib/python3.12/site-packages (from requests>=2.25.1->clarifai-grpc>=10.5.0->clarifai) (2.0.4)\n",
      "Requirement already satisfied: idna<4,>=2.5 in /Users/om-college/miniconda3/lib/python3.12/site-packages (from requests>=2.25.1->clarifai-grpc>=10.5.0->clarifai) (3.4)\n",
      "Requirement already satisfied: certifi>=2017.4.17 in /Users/om-college/miniconda3/lib/python3.12/site-packages (from requests>=2.25.1->clarifai-grpc>=10.5.0->clarifai) (2024.2.2)\n",
      "Requirement already satisfied: llama-index-core==0.10.24 in /Users/om-college/miniconda3/lib/python3.12/site-packages (0.10.24)\n",
      "Requirement already satisfied: PyYAML>=6.0.1 in /Users/om-college/miniconda3/lib/python3.12/site-packages (from llama-index-core==0.10.24) (6.0.1)\n",
      "Requirement already satisfied: SQLAlchemy>=1.4.49 in /Users/om-college/miniconda3/lib/python3.12/site-packages (from SQLAlchemy[asyncio]>=1.4.49->llama-index-core==0.10.24) (2.0.30)\n",
      "Requirement already satisfied: aiohttp<4.0.0,>=3.8.6 in /Users/om-college/miniconda3/lib/python3.12/site-packages (from llama-index-core==0.10.24) (3.9.5)\n",
      "Requirement already satisfied: dataclasses-json in /Users/om-college/miniconda3/lib/python3.12/site-packages (from llama-index-core==0.10.24) (0.6.7)\n",
      "Requirement already satisfied: deprecated>=1.2.9.3 in /Users/om-college/miniconda3/lib/python3.12/site-packages (from llama-index-core==0.10.24) (1.2.14)\n",
      "Requirement already satisfied: dirtyjson<2.0.0,>=1.0.8 in /Users/om-college/miniconda3/lib/python3.12/site-packages (from llama-index-core==0.10.24) (1.0.8)\n",
      "Requirement already satisfied: fsspec>=2023.5.0 in /Users/om-college/miniconda3/lib/python3.12/site-packages (from llama-index-core==0.10.24) (2024.6.0)\n",
      "Requirement already satisfied: httpx in /Users/om-college/miniconda3/lib/python3.12/site-packages (from llama-index-core==0.10.24) (0.27.0)\n",
      "Requirement already satisfied: llamaindex-py-client<0.2.0,>=0.1.13 in /Users/om-college/miniconda3/lib/python3.12/site-packages (from llama-index-core==0.10.24) (0.1.19)\n",
      "Requirement already satisfied: nest-asyncio<2.0.0,>=1.5.8 in /Users/om-college/miniconda3/lib/python3.12/site-packages (from llama-index-core==0.10.24) (1.6.0)\n",
      "Requirement already satisfied: networkx>=3.0 in /Users/om-college/miniconda3/lib/python3.12/site-packages (from llama-index-core==0.10.24) (3.3)\n",
      "Requirement already satisfied: nltk<4.0.0,>=3.8.1 in /Users/om-college/miniconda3/lib/python3.12/site-packages (from llama-index-core==0.10.24) (3.8.1)\n",
      "Requirement already satisfied: numpy in /Users/om-college/miniconda3/lib/python3.12/site-packages (from llama-index-core==0.10.24) (1.26.4)\n",
      "Requirement already satisfied: openai>=1.1.0 in /Users/om-college/miniconda3/lib/python3.12/site-packages (from llama-index-core==0.10.24) (1.34.0)\n",
      "Requirement already satisfied: pandas in /Users/om-college/miniconda3/lib/python3.12/site-packages (from llama-index-core==0.10.24) (2.2.2)\n",
      "Requirement already satisfied: pillow>=9.0.0 in /Users/om-college/miniconda3/lib/python3.12/site-packages (from llama-index-core==0.10.24) (10.3.0)\n",
      "Requirement already satisfied: requests>=2.31.0 in /Users/om-college/miniconda3/lib/python3.12/site-packages (from llama-index-core==0.10.24) (2.31.0)\n",
      "Requirement already satisfied: tenacity<9.0.0,>=8.2.0 in /Users/om-college/miniconda3/lib/python3.12/site-packages (from llama-index-core==0.10.24) (8.3.0)\n",
      "Requirement already satisfied: tiktoken>=0.3.3 in /Users/om-college/miniconda3/lib/python3.12/site-packages (from llama-index-core==0.10.24) (0.7.0)\n",
      "Requirement already satisfied: tqdm<5.0.0,>=4.66.1 in /Users/om-college/miniconda3/lib/python3.12/site-packages (from llama-index-core==0.10.24) (4.66.4)\n",
      "Requirement already satisfied: typing-extensions>=4.5.0 in /Users/om-college/miniconda3/lib/python3.12/site-packages (from llama-index-core==0.10.24) (4.11.0)\n",
      "Requirement already satisfied: typing-inspect>=0.8.0 in /Users/om-college/miniconda3/lib/python3.12/site-packages (from llama-index-core==0.10.24) (0.9.0)\n",
      "Requirement already satisfied: aiosignal>=1.1.2 in /Users/om-college/miniconda3/lib/python3.12/site-packages (from aiohttp<4.0.0,>=3.8.6->llama-index-core==0.10.24) (1.3.1)\n",
      "Requirement already satisfied: attrs>=17.3.0 in /Users/om-college/miniconda3/lib/python3.12/site-packages (from aiohttp<4.0.0,>=3.8.6->llama-index-core==0.10.24) (23.2.0)\n",
      "Requirement already satisfied: frozenlist>=1.1.1 in /Users/om-college/miniconda3/lib/python3.12/site-packages (from aiohttp<4.0.0,>=3.8.6->llama-index-core==0.10.24) (1.4.1)\n",
      "Requirement already satisfied: multidict<7.0,>=4.5 in /Users/om-college/miniconda3/lib/python3.12/site-packages (from aiohttp<4.0.0,>=3.8.6->llama-index-core==0.10.24) (6.0.5)\n",
      "Requirement already satisfied: yarl<2.0,>=1.0 in /Users/om-college/miniconda3/lib/python3.12/site-packages (from aiohttp<4.0.0,>=3.8.6->llama-index-core==0.10.24) (1.9.4)\n",
      "Requirement already satisfied: wrapt<2,>=1.10 in /Users/om-college/miniconda3/lib/python3.12/site-packages (from deprecated>=1.2.9.3->llama-index-core==0.10.24) (1.16.0)\n",
      "Requirement already satisfied: pydantic>=1.10 in /Users/om-college/miniconda3/lib/python3.12/site-packages (from llamaindex-py-client<0.2.0,>=0.1.13->llama-index-core==0.10.24) (2.7.4)\n",
      "Requirement already satisfied: anyio in /Users/om-college/miniconda3/lib/python3.12/site-packages (from httpx->llama-index-core==0.10.24) (4.4.0)\n",
      "Requirement already satisfied: certifi in /Users/om-college/miniconda3/lib/python3.12/site-packages (from httpx->llama-index-core==0.10.24) (2024.2.2)\n",
      "Requirement already satisfied: httpcore==1.* in /Users/om-college/miniconda3/lib/python3.12/site-packages (from httpx->llama-index-core==0.10.24) (1.0.5)\n",
      "Requirement already satisfied: idna in /Users/om-college/miniconda3/lib/python3.12/site-packages (from httpx->llama-index-core==0.10.24) (3.4)\n",
      "Requirement already satisfied: sniffio in /Users/om-college/miniconda3/lib/python3.12/site-packages (from httpx->llama-index-core==0.10.24) (1.3.1)\n",
      "Requirement already satisfied: h11<0.15,>=0.13 in /Users/om-college/miniconda3/lib/python3.12/site-packages (from httpcore==1.*->httpx->llama-index-core==0.10.24) (0.14.0)\n",
      "Requirement already satisfied: click in /Users/om-college/miniconda3/lib/python3.12/site-packages (from nltk<4.0.0,>=3.8.1->llama-index-core==0.10.24) (8.1.7)\n",
      "Requirement already satisfied: joblib in /Users/om-college/miniconda3/lib/python3.12/site-packages (from nltk<4.0.0,>=3.8.1->llama-index-core==0.10.24) (1.4.2)\n",
      "Requirement already satisfied: regex>=2021.8.3 in /Users/om-college/miniconda3/lib/python3.12/site-packages (from nltk<4.0.0,>=3.8.1->llama-index-core==0.10.24) (2024.5.15)\n",
      "Requirement already satisfied: distro<2,>=1.7.0 in /Users/om-college/miniconda3/lib/python3.12/site-packages (from openai>=1.1.0->llama-index-core==0.10.24) (1.8.0)\n",
      "Requirement already satisfied: charset-normalizer<4,>=2 in /Users/om-college/miniconda3/lib/python3.12/site-packages (from requests>=2.31.0->llama-index-core==0.10.24) (2.0.4)\n",
      "Requirement already satisfied: urllib3<3,>=1.21.1 in /Users/om-college/miniconda3/lib/python3.12/site-packages (from requests>=2.31.0->llama-index-core==0.10.24) (2.1.0)\n",
      "Requirement already satisfied: greenlet!=0.4.17 in /Users/om-college/miniconda3/lib/python3.12/site-packages (from SQLAlchemy[asyncio]>=1.4.49->llama-index-core==0.10.24) (3.0.3)\n",
      "Requirement already satisfied: mypy-extensions>=0.3.0 in /Users/om-college/miniconda3/lib/python3.12/site-packages (from typing-inspect>=0.8.0->llama-index-core==0.10.24) (1.0.0)\n",
      "Requirement already satisfied: marshmallow<4.0.0,>=3.18.0 in /Users/om-college/miniconda3/lib/python3.12/site-packages (from dataclasses-json->llama-index-core==0.10.24) (3.21.3)\n",
      "Requirement already satisfied: python-dateutil>=2.8.2 in /Users/om-college/miniconda3/lib/python3.12/site-packages (from pandas->llama-index-core==0.10.24) (2.9.0.post0)\n",
      "Requirement already satisfied: pytz>=2020.1 in /Users/om-college/miniconda3/lib/python3.12/site-packages (from pandas->llama-index-core==0.10.24) (2024.1)\n",
      "Requirement already satisfied: tzdata>=2022.7 in /Users/om-college/miniconda3/lib/python3.12/site-packages (from pandas->llama-index-core==0.10.24) (2024.1)\n",
      "Requirement already satisfied: packaging>=17.0 in /Users/om-college/miniconda3/lib/python3.12/site-packages (from marshmallow<4.0.0,>=3.18.0->dataclasses-json->llama-index-core==0.10.24) (23.1)\n",
      "Requirement already satisfied: annotated-types>=0.4.0 in /Users/om-college/miniconda3/lib/python3.12/site-packages (from pydantic>=1.10->llamaindex-py-client<0.2.0,>=0.1.13->llama-index-core==0.10.24) (0.7.0)\n",
      "Requirement already satisfied: pydantic-core==2.18.4 in /Users/om-college/miniconda3/lib/python3.12/site-packages (from pydantic>=1.10->llamaindex-py-client<0.2.0,>=0.1.13->llama-index-core==0.10.24) (2.18.4)\n",
      "Requirement already satisfied: six>=1.5 in /Users/om-college/miniconda3/lib/python3.12/site-packages (from python-dateutil>=2.8.2->pandas->llama-index-core==0.10.24) (1.16.0)\n",
      "Requirement already satisfied: clarifai in /Users/om-college/miniconda3/lib/python3.12/site-packages (10.5.0)\n",
      "Requirement already satisfied: ipywidgets in /Users/om-college/miniconda3/lib/python3.12/site-packages (8.1.3)\n",
      "Requirement already satisfied: clarifai-grpc>=10.5.0 in /Users/om-college/miniconda3/lib/python3.12/site-packages (from clarifai) (10.5.2)\n",
      "Requirement already satisfied: numpy>=1.22.0 in /Users/om-college/miniconda3/lib/python3.12/site-packages (from clarifai) (1.26.4)\n",
      "Requirement already satisfied: tqdm>=4.65.0 in /Users/om-college/miniconda3/lib/python3.12/site-packages (from clarifai) (4.66.4)\n",
      "Requirement already satisfied: tritonclient>=2.34.0 in /Users/om-college/miniconda3/lib/python3.12/site-packages (from clarifai) (2.46.0)\n",
      "Requirement already satisfied: rich>=13.4.2 in /Users/om-college/miniconda3/lib/python3.12/site-packages (from clarifai) (13.7.1)\n",
      "Requirement already satisfied: PyYAML>=6.0.1 in /Users/om-college/miniconda3/lib/python3.12/site-packages (from clarifai) (6.0.1)\n",
      "Requirement already satisfied: schema==0.7.5 in /Users/om-college/miniconda3/lib/python3.12/site-packages (from clarifai) (0.7.5)\n",
      "Requirement already satisfied: Pillow>=9.5.0 in /Users/om-college/miniconda3/lib/python3.12/site-packages (from clarifai) (10.3.0)\n",
      "Requirement already satisfied: inquirerpy==0.3.4 in /Users/om-college/miniconda3/lib/python3.12/site-packages (from clarifai) (0.3.4)\n",
      "Requirement already satisfied: tabulate>=0.9.0 in /Users/om-college/miniconda3/lib/python3.12/site-packages (from clarifai) (0.9.0)\n",
      "Requirement already satisfied: pfzy<0.4.0,>=0.3.1 in /Users/om-college/miniconda3/lib/python3.12/site-packages (from inquirerpy==0.3.4->clarifai) (0.3.4)\n",
      "Requirement already satisfied: prompt-toolkit<4.0.0,>=3.0.1 in /Users/om-college/miniconda3/lib/python3.12/site-packages (from inquirerpy==0.3.4->clarifai) (3.0.47)\n",
      "Requirement already satisfied: contextlib2>=0.5.5 in /Users/om-college/miniconda3/lib/python3.12/site-packages (from schema==0.7.5->clarifai) (21.6.0)\n",
      "Requirement already satisfied: comm>=0.1.3 in /Users/om-college/miniconda3/lib/python3.12/site-packages (from ipywidgets) (0.2.2)\n",
      "Requirement already satisfied: ipython>=6.1.0 in /Users/om-college/miniconda3/lib/python3.12/site-packages (from ipywidgets) (8.25.0)\n",
      "Requirement already satisfied: traitlets>=4.3.1 in /Users/om-college/miniconda3/lib/python3.12/site-packages (from ipywidgets) (5.14.3)\n",
      "Requirement already satisfied: widgetsnbextension~=4.0.11 in /Users/om-college/miniconda3/lib/python3.12/site-packages (from ipywidgets) (4.0.11)\n",
      "Requirement already satisfied: jupyterlab-widgets~=3.0.11 in /Users/om-college/miniconda3/lib/python3.12/site-packages (from ipywidgets) (3.0.11)\n",
      "Requirement already satisfied: grpcio>=1.44.0 in /Users/om-college/miniconda3/lib/python3.12/site-packages (from clarifai-grpc>=10.5.0->clarifai) (1.64.1)\n",
      "Requirement already satisfied: protobuf>=3.20.3 in /Users/om-college/miniconda3/lib/python3.12/site-packages (from clarifai-grpc>=10.5.0->clarifai) (5.27.1)\n",
      "Requirement already satisfied: googleapis-common-protos>=1.53.0 in /Users/om-college/miniconda3/lib/python3.12/site-packages (from clarifai-grpc>=10.5.0->clarifai) (1.63.1)\n",
      "Requirement already satisfied: requests>=2.25.1 in /Users/om-college/miniconda3/lib/python3.12/site-packages (from clarifai-grpc>=10.5.0->clarifai) (2.31.0)\n",
      "Requirement already satisfied: decorator in /Users/om-college/miniconda3/lib/python3.12/site-packages (from ipython>=6.1.0->ipywidgets) (5.1.1)\n",
      "Requirement already satisfied: jedi>=0.16 in /Users/om-college/miniconda3/lib/python3.12/site-packages (from ipython>=6.1.0->ipywidgets) (0.19.1)\n",
      "Requirement already satisfied: matplotlib-inline in /Users/om-college/miniconda3/lib/python3.12/site-packages (from ipython>=6.1.0->ipywidgets) (0.1.7)\n",
      "Requirement already satisfied: pygments>=2.4.0 in /Users/om-college/miniconda3/lib/python3.12/site-packages (from ipython>=6.1.0->ipywidgets) (2.18.0)\n",
      "Requirement already satisfied: stack-data in /Users/om-college/miniconda3/lib/python3.12/site-packages (from ipython>=6.1.0->ipywidgets) (0.6.3)\n",
      "Requirement already satisfied: pexpect>4.3 in /Users/om-college/miniconda3/lib/python3.12/site-packages (from ipython>=6.1.0->ipywidgets) (4.9.0)\n",
      "Requirement already satisfied: markdown-it-py>=2.2.0 in /Users/om-college/miniconda3/lib/python3.12/site-packages (from rich>=13.4.2->clarifai) (3.0.0)\n",
      "Requirement already satisfied: python-rapidjson>=0.9.1 in /Users/om-college/miniconda3/lib/python3.12/site-packages (from tritonclient>=2.34.0->clarifai) (1.17)\n",
      "Requirement already satisfied: urllib3>=2.0.7 in /Users/om-college/miniconda3/lib/python3.12/site-packages (from tritonclient>=2.34.0->clarifai) (2.1.0)\n",
      "Requirement already satisfied: parso<0.9.0,>=0.8.3 in /Users/om-college/miniconda3/lib/python3.12/site-packages (from jedi>=0.16->ipython>=6.1.0->ipywidgets) (0.8.4)\n",
      "Requirement already satisfied: mdurl~=0.1 in /Users/om-college/miniconda3/lib/python3.12/site-packages (from markdown-it-py>=2.2.0->rich>=13.4.2->clarifai) (0.1.2)\n",
      "Requirement already satisfied: ptyprocess>=0.5 in /Users/om-college/miniconda3/lib/python3.12/site-packages (from pexpect>4.3->ipython>=6.1.0->ipywidgets) (0.7.0)\n",
      "Requirement already satisfied: wcwidth in /Users/om-college/miniconda3/lib/python3.12/site-packages (from prompt-toolkit<4.0.0,>=3.0.1->inquirerpy==0.3.4->clarifai) (0.2.13)\n",
      "Requirement already satisfied: charset-normalizer<4,>=2 in /Users/om-college/miniconda3/lib/python3.12/site-packages (from requests>=2.25.1->clarifai-grpc>=10.5.0->clarifai) (2.0.4)\n",
      "Requirement already satisfied: idna<4,>=2.5 in /Users/om-college/miniconda3/lib/python3.12/site-packages (from requests>=2.25.1->clarifai-grpc>=10.5.0->clarifai) (3.4)\n",
      "Requirement already satisfied: certifi>=2017.4.17 in /Users/om-college/miniconda3/lib/python3.12/site-packages (from requests>=2.25.1->clarifai-grpc>=10.5.0->clarifai) (2024.2.2)\n",
      "Requirement already satisfied: executing>=1.2.0 in /Users/om-college/miniconda3/lib/python3.12/site-packages (from stack-data->ipython>=6.1.0->ipywidgets) (2.0.1)\n",
      "Requirement already satisfied: asttokens>=2.1.0 in /Users/om-college/miniconda3/lib/python3.12/site-packages (from stack-data->ipython>=6.1.0->ipywidgets) (2.4.1)\n",
      "Requirement already satisfied: pure-eval in /Users/om-college/miniconda3/lib/python3.12/site-packages (from stack-data->ipython>=6.1.0->ipywidgets) (0.2.2)\n",
      "Requirement already satisfied: six>=1.12.0 in /Users/om-college/miniconda3/lib/python3.12/site-packages (from asttokens>=2.1.0->stack-data->ipython>=6.1.0->ipywidgets) (1.16.0)\n"
     ]
    }
   ],
   "source": [
    "!pip install clarifai\n",
    "!pip install llama-index-core==0.10.24\n",
    "!pip install clarifai ipywidgets"
   ]
  },
  {
   "cell_type": "code",
   "execution_count": 3,
   "id": "155d7161",
   "metadata": {},
   "outputs": [],
   "source": [
    "from clarifai.rag import RAG\n",
    "from ipywidgets import FileUpload\n",
    "from IPython.display import display\n",
    "import os"
   ]
  },
  {
   "cell_type": "code",
   "execution_count": 4,
   "id": "5ef337ee",
   "metadata": {},
   "outputs": [
    {
     "data": {
      "text/html": [
       "<pre style=\"white-space:pre;overflow-x:auto;line-height:normal;font-family:Menlo,'DejaVu Sans Mono',consolas,'Courier New',monospace\"><span style=\"color: #7fbfbf; text-decoration-color: #7fbfbf\">2024-06-14 16:21:27 </span><span style=\"color: #000080; text-decoration-color: #000080\">INFO    </span> clarifai.client.user:                                                      <a href=\"file:///Users/om-college/miniconda3/lib/python3.12/site-packages/clarifai/client/user.py\" target=\"_blank\"><span style=\"color: #7f7f7f; text-decoration-color: #7f7f7f\">user.py</span></a><span style=\"color: #7f7f7f; text-decoration-color: #7f7f7f\">:</span><a href=\"file:///Users/om-college/miniconda3/lib/python3.12/site-packages/clarifai/client/user.py#134\" target=\"_blank\"><span style=\"color: #7f7f7f; text-decoration-color: #7f7f7f\">134</span></a>\n",
       "<span style=\"color: #7fbfbf; text-decoration-color: #7fbfbf\">                    </span>         App created                                                                <span style=\"color: #7f7f7f; text-decoration-color: #7f7f7f\">           </span>\n",
       "<span style=\"color: #7fbfbf; text-decoration-color: #7fbfbf\">                    </span>         code: SUCCESS                                                              <span style=\"color: #7f7f7f; text-decoration-color: #7f7f7f\">           </span>\n",
       "<span style=\"color: #7fbfbf; text-decoration-color: #7fbfbf\">                    </span>         description: <span style=\"color: #008000; text-decoration-color: #008000\">\"Ok\"</span>                                                          <span style=\"color: #7f7f7f; text-decoration-color: #7f7f7f\">           </span>\n",
       "<span style=\"color: #7fbfbf; text-decoration-color: #7fbfbf\">                    </span>         req_id: <span style=\"color: #008000; text-decoration-color: #008000\">\"911f161cd9cb4cc0b24290be18529d9b\"</span>                                 <span style=\"color: #7f7f7f; text-decoration-color: #7f7f7f\">           </span>\n",
       "<span style=\"color: #7fbfbf; text-decoration-color: #7fbfbf\">                    </span>                                                                                    <span style=\"color: #7f7f7f; text-decoration-color: #7f7f7f\">           </span>\n",
       "</pre>\n"
      ],
      "text/plain": [
       "\u001b[2;36m2024-06-14 16:21:27\u001b[0m\u001b[2;36m \u001b[0m\u001b[34mINFO    \u001b[0m clarifai.client.user:                                                      \u001b]8;id=799753;file:///Users/om-college/miniconda3/lib/python3.12/site-packages/clarifai/client/user.py\u001b\\\u001b[2muser.py\u001b[0m\u001b]8;;\u001b\\\u001b[2m:\u001b[0m\u001b]8;id=423137;file:///Users/om-college/miniconda3/lib/python3.12/site-packages/clarifai/client/user.py#134\u001b\\\u001b[2m134\u001b[0m\u001b]8;;\u001b\\\n",
       "\u001b[2;36m                    \u001b[0m         App created                                                                \u001b[2m           \u001b[0m\n",
       "\u001b[2;36m                    \u001b[0m         code: SUCCESS                                                              \u001b[2m           \u001b[0m\n",
       "\u001b[2;36m                    \u001b[0m         description: \u001b[32m\"Ok\"\u001b[0m                                                          \u001b[2m           \u001b[0m\n",
       "\u001b[2;36m                    \u001b[0m         req_id: \u001b[32m\"911f161cd9cb4cc0b24290be18529d9b\"\u001b[0m                                 \u001b[2m           \u001b[0m\n",
       "\u001b[2;36m                    \u001b[0m                                                                                    \u001b[2m           \u001b[0m\n"
      ]
     },
     "metadata": {},
     "output_type": "display_data"
    },
    {
     "data": {
      "text/html": [
       "<pre style=\"white-space:pre;overflow-x:auto;line-height:normal;font-family:Menlo,'DejaVu Sans Mono',consolas,'Courier New',monospace\"><span style=\"color: #7fbfbf; text-decoration-color: #7fbfbf\">2024-06-14 16:21:28 </span><span style=\"color: #000080; text-decoration-color: #000080\">INFO    </span> clarifai.client.app:                                                        <a href=\"file:///Users/om-college/miniconda3/lib/python3.12/site-packages/clarifai/client/app.py\" target=\"_blank\"><span style=\"color: #7f7f7f; text-decoration-color: #7f7f7f\">app.py</span></a><span style=\"color: #7f7f7f; text-decoration-color: #7f7f7f\">:</span><a href=\"file:///Users/om-college/miniconda3/lib/python3.12/site-packages/clarifai/client/app.py#343\" target=\"_blank\"><span style=\"color: #7f7f7f; text-decoration-color: #7f7f7f\">343</span></a>\n",
       "<span style=\"color: #7fbfbf; text-decoration-color: #7fbfbf\">                    </span>         Model created                                                               <span style=\"color: #7f7f7f; text-decoration-color: #7f7f7f\">          </span>\n",
       "<span style=\"color: #7fbfbf; text-decoration-color: #7fbfbf\">                    </span>         code: SUCCESS                                                               <span style=\"color: #7f7f7f; text-decoration-color: #7f7f7f\">          </span>\n",
       "<span style=\"color: #7fbfbf; text-decoration-color: #7fbfbf\">                    </span>         description: <span style=\"color: #008000; text-decoration-color: #008000\">\"Ok\"</span>                                                           <span style=\"color: #7f7f7f; text-decoration-color: #7f7f7f\">          </span>\n",
       "<span style=\"color: #7fbfbf; text-decoration-color: #7fbfbf\">                    </span>         req_id: <span style=\"color: #008000; text-decoration-color: #008000\">\"e60f4711246f48bab04359b5f98762f3\"</span>                                  <span style=\"color: #7f7f7f; text-decoration-color: #7f7f7f\">          </span>\n",
       "<span style=\"color: #7fbfbf; text-decoration-color: #7fbfbf\">                    </span>                                                                                     <span style=\"color: #7f7f7f; text-decoration-color: #7f7f7f\">          </span>\n",
       "</pre>\n"
      ],
      "text/plain": [
       "\u001b[2;36m2024-06-14 16:21:28\u001b[0m\u001b[2;36m \u001b[0m\u001b[34mINFO    \u001b[0m clarifai.client.app:                                                        \u001b]8;id=648616;file:///Users/om-college/miniconda3/lib/python3.12/site-packages/clarifai/client/app.py\u001b\\\u001b[2mapp.py\u001b[0m\u001b]8;;\u001b\\\u001b[2m:\u001b[0m\u001b]8;id=602442;file:///Users/om-college/miniconda3/lib/python3.12/site-packages/clarifai/client/app.py#343\u001b\\\u001b[2m343\u001b[0m\u001b]8;;\u001b\\\n",
       "\u001b[2;36m                    \u001b[0m         Model created                                                               \u001b[2m          \u001b[0m\n",
       "\u001b[2;36m                    \u001b[0m         code: SUCCESS                                                               \u001b[2m          \u001b[0m\n",
       "\u001b[2;36m                    \u001b[0m         description: \u001b[32m\"Ok\"\u001b[0m                                                           \u001b[2m          \u001b[0m\n",
       "\u001b[2;36m                    \u001b[0m         req_id: \u001b[32m\"e60f4711246f48bab04359b5f98762f3\"\u001b[0m                                  \u001b[2m          \u001b[0m\n",
       "\u001b[2;36m                    \u001b[0m                                                                                     \u001b[2m          \u001b[0m\n"
      ]
     },
     "metadata": {},
     "output_type": "display_data"
    },
    {
     "data": {
      "text/html": [
       "<pre style=\"white-space:pre;overflow-x:auto;line-height:normal;font-family:Menlo,'DejaVu Sans Mono',consolas,'Courier New',monospace\"><span style=\"color: #7fbfbf; text-decoration-color: #7fbfbf\">2024-06-14 16:21:30 </span><span style=\"color: #000080; text-decoration-color: #000080\">INFO    </span> clarifai.client.model:                                                    <a href=\"file:///Users/om-college/miniconda3/lib/python3.12/site-packages/clarifai/client/model.py\" target=\"_blank\"><span style=\"color: #7f7f7f; text-decoration-color: #7f7f7f\">model.py</span></a><span style=\"color: #7f7f7f; text-decoration-color: #7f7f7f\">:</span><a href=\"file:///Users/om-college/miniconda3/lib/python3.12/site-packages/clarifai/client/model.py#353\" target=\"_blank\"><span style=\"color: #7f7f7f; text-decoration-color: #7f7f7f\">353</span></a>\n",
       "<span style=\"color: #7fbfbf; text-decoration-color: #7fbfbf\">                    </span>         Model Version created                                                     <span style=\"color: #7f7f7f; text-decoration-color: #7f7f7f\">            </span>\n",
       "<span style=\"color: #7fbfbf; text-decoration-color: #7fbfbf\">                    </span>         code: SUCCESS                                                             <span style=\"color: #7f7f7f; text-decoration-color: #7f7f7f\">            </span>\n",
       "<span style=\"color: #7fbfbf; text-decoration-color: #7fbfbf\">                    </span>         description: <span style=\"color: #008000; text-decoration-color: #008000\">\"Ok\"</span>                                                         <span style=\"color: #7f7f7f; text-decoration-color: #7f7f7f\">            </span>\n",
       "<span style=\"color: #7fbfbf; text-decoration-color: #7fbfbf\">                    </span>         req_id: <span style=\"color: #008000; text-decoration-color: #008000\">\"edf8278b58ac4ea49e759f7531890e62\"</span>                                <span style=\"color: #7f7f7f; text-decoration-color: #7f7f7f\">            </span>\n",
       "<span style=\"color: #7fbfbf; text-decoration-color: #7fbfbf\">                    </span>                                                                                   <span style=\"color: #7f7f7f; text-decoration-color: #7f7f7f\">            </span>\n",
       "</pre>\n"
      ],
      "text/plain": [
       "\u001b[2;36m2024-06-14 16:21:30\u001b[0m\u001b[2;36m \u001b[0m\u001b[34mINFO    \u001b[0m clarifai.client.model:                                                    \u001b]8;id=201095;file:///Users/om-college/miniconda3/lib/python3.12/site-packages/clarifai/client/model.py\u001b\\\u001b[2mmodel.py\u001b[0m\u001b]8;;\u001b\\\u001b[2m:\u001b[0m\u001b]8;id=290055;file:///Users/om-college/miniconda3/lib/python3.12/site-packages/clarifai/client/model.py#353\u001b\\\u001b[2m353\u001b[0m\u001b]8;;\u001b\\\n",
       "\u001b[2;36m                    \u001b[0m         Model Version created                                                     \u001b[2m            \u001b[0m\n",
       "\u001b[2;36m                    \u001b[0m         code: SUCCESS                                                             \u001b[2m            \u001b[0m\n",
       "\u001b[2;36m                    \u001b[0m         description: \u001b[32m\"Ok\"\u001b[0m                                                         \u001b[2m            \u001b[0m\n",
       "\u001b[2;36m                    \u001b[0m         req_id: \u001b[32m\"edf8278b58ac4ea49e759f7531890e62\"\u001b[0m                                \u001b[2m            \u001b[0m\n",
       "\u001b[2;36m                    \u001b[0m                                                                                   \u001b[2m            \u001b[0m\n"
      ]
     },
     "metadata": {},
     "output_type": "display_data"
    },
    {
     "data": {
      "text/html": [
       "<pre style=\"white-space:pre;overflow-x:auto;line-height:normal;font-family:Menlo,'DejaVu Sans Mono',consolas,'Courier New',monospace\"><span style=\"color: #7fbfbf; text-decoration-color: #7fbfbf\">2024-06-14 16:21:31 </span><span style=\"color: #000080; text-decoration-color: #000080\">INFO    </span> clarifai.client.app:                                                        <a href=\"file:///Users/om-college/miniconda3/lib/python3.12/site-packages/clarifai/client/app.py\" target=\"_blank\"><span style=\"color: #7f7f7f; text-decoration-color: #7f7f7f\">app.py</span></a><span style=\"color: #7f7f7f; text-decoration-color: #7f7f7f\">:</span><a href=\"file:///Users/om-college/miniconda3/lib/python3.12/site-packages/clarifai/client/app.py#431\" target=\"_blank\"><span style=\"color: #7f7f7f; text-decoration-color: #7f7f7f\">431</span></a>\n",
       "<span style=\"color: #7fbfbf; text-decoration-color: #7fbfbf\">                    </span>         Workflow created                                                            <span style=\"color: #7f7f7f; text-decoration-color: #7f7f7f\">          </span>\n",
       "<span style=\"color: #7fbfbf; text-decoration-color: #7fbfbf\">                    </span>         code: SUCCESS                                                               <span style=\"color: #7f7f7f; text-decoration-color: #7f7f7f\">          </span>\n",
       "<span style=\"color: #7fbfbf; text-decoration-color: #7fbfbf\">                    </span>         description: <span style=\"color: #008000; text-decoration-color: #008000\">\"Ok\"</span>                                                           <span style=\"color: #7f7f7f; text-decoration-color: #7f7f7f\">          </span>\n",
       "<span style=\"color: #7fbfbf; text-decoration-color: #7fbfbf\">                    </span>         req_id: <span style=\"color: #008000; text-decoration-color: #008000\">\"5e848e40279c493abe7c682d9968a2c3\"</span>                                  <span style=\"color: #7f7f7f; text-decoration-color: #7f7f7f\">          </span>\n",
       "<span style=\"color: #7fbfbf; text-decoration-color: #7fbfbf\">                    </span>                                                                                     <span style=\"color: #7f7f7f; text-decoration-color: #7f7f7f\">          </span>\n",
       "</pre>\n"
      ],
      "text/plain": [
       "\u001b[2;36m2024-06-14 16:21:31\u001b[0m\u001b[2;36m \u001b[0m\u001b[34mINFO    \u001b[0m clarifai.client.app:                                                        \u001b]8;id=32357;file:///Users/om-college/miniconda3/lib/python3.12/site-packages/clarifai/client/app.py\u001b\\\u001b[2mapp.py\u001b[0m\u001b]8;;\u001b\\\u001b[2m:\u001b[0m\u001b]8;id=966125;file:///Users/om-college/miniconda3/lib/python3.12/site-packages/clarifai/client/app.py#431\u001b\\\u001b[2m431\u001b[0m\u001b]8;;\u001b\\\n",
       "\u001b[2;36m                    \u001b[0m         Workflow created                                                            \u001b[2m          \u001b[0m\n",
       "\u001b[2;36m                    \u001b[0m         code: SUCCESS                                                               \u001b[2m          \u001b[0m\n",
       "\u001b[2;36m                    \u001b[0m         description: \u001b[32m\"Ok\"\u001b[0m                                                           \u001b[2m          \u001b[0m\n",
       "\u001b[2;36m                    \u001b[0m         req_id: \u001b[32m\"5e848e40279c493abe7c682d9968a2c3\"\u001b[0m                                  \u001b[2m          \u001b[0m\n",
       "\u001b[2;36m                    \u001b[0m                                                                                     \u001b[2m          \u001b[0m\n"
      ]
     },
     "metadata": {},
     "output_type": "display_data"
    },
    {
     "data": {
      "text/html": [
       "<pre style=\"white-space:pre;overflow-x:auto;line-height:normal;font-family:Menlo,'DejaVu Sans Mono',consolas,'Courier New',monospace\"><span style=\"color: #008000; text-decoration-color: #008000\"> Input</span>\n",
       "<span style=\"color: #c0c0c0; text-decoration-color: #c0c0c0\">╚══ </span><span style=\"color: #c0c0c0; text-decoration-color: #c0c0c0; font-style: italic\">                              Node: rag-prompter                               </span>\n",
       "<span style=\"color: #c0c0c0; text-decoration-color: #c0c0c0\">    </span><span style=\"color: #c0c0c0; text-decoration-color: #c0c0c0\">┏━━━━━━━━━━━━━━━━━━━━━━━━━┳━━━━━━━━━━━━━━━┳━━━━━━━━━━━━━━━━━━━━┳━━━━━━━━━━━━━━┓</span>\n",
       "<span style=\"color: #c0c0c0; text-decoration-color: #c0c0c0\">    </span><span style=\"color: #c0c0c0; text-decoration-color: #c0c0c0\">┃</span><span style=\"color: #000080; text-decoration-color: #000080\"> id                      </span><span style=\"color: #c0c0c0; text-decoration-color: #c0c0c0\">┃</span><span style=\"color: #000080; text-decoration-color: #000080\"> model_type_id </span><span style=\"color: #c0c0c0; text-decoration-color: #c0c0c0\">┃</span><span style=\"color: #000080; text-decoration-color: #000080\"> app_id             </span><span style=\"color: #c0c0c0; text-decoration-color: #c0c0c0\">┃</span><span style=\"color: #000080; text-decoration-color: #000080\"> user_id      </span><span style=\"color: #c0c0c0; text-decoration-color: #c0c0c0\">┃</span>\n",
       "<span style=\"color: #c0c0c0; text-decoration-color: #c0c0c0\">    </span><span style=\"color: #c0c0c0; text-decoration-color: #c0c0c0\">┡━━━━━━━━━━━━━━━━━━━━━━━━━╇━━━━━━━━━━━━━━━╇━━━━━━━━━━━━━━━━━━━━╇━━━━━━━━━━━━━━┩</span>\n",
       "<span style=\"color: #c0c0c0; text-decoration-color: #c0c0c0\">    </span><span style=\"color: #c0c0c0; text-decoration-color: #c0c0c0\">│ rag-prompter-2ae5425822 │ rag-prompter  │ rag_app_2ae5425822 │ askompatel-1 │</span>\n",
       "<span style=\"color: #c0c0c0; text-decoration-color: #c0c0c0\">    </span><span style=\"color: #c0c0c0; text-decoration-color: #c0c0c0\">└─────────────────────────┴───────────────┴────────────────────┴──────────────┘</span>\n",
       "<span style=\"color: #c0c0c0; text-decoration-color: #c0c0c0\">    ╚══ </span><span style=\"color: #008000; text-decoration-color: #008000; font-style: italic\">                          Node: llm                           </span>\n",
       "<span style=\"color: #c0c0c0; text-decoration-color: #c0c0c0\">        </span><span style=\"color: #008000; text-decoration-color: #008000\">┏━━━━━━━━━━━━━━━━━━┳━━━━━━━━━━━━━━━━━━━━┳━━━━━━━━━━┳━━━━━━━━━┓</span>\n",
       "<span style=\"color: #c0c0c0; text-decoration-color: #c0c0c0\">        </span><span style=\"color: #008000; text-decoration-color: #008000\">┃</span><span style=\"color: #000080; text-decoration-color: #000080\"> id               </span><span style=\"color: #008000; text-decoration-color: #008000\">┃</span><span style=\"color: #000080; text-decoration-color: #000080\"> model_type_id      </span><span style=\"color: #008000; text-decoration-color: #008000\">┃</span><span style=\"color: #000080; text-decoration-color: #000080\"> app_id   </span><span style=\"color: #008000; text-decoration-color: #008000\">┃</span><span style=\"color: #000080; text-decoration-color: #000080\"> user_id </span><span style=\"color: #008000; text-decoration-color: #008000\">┃</span>\n",
       "<span style=\"color: #c0c0c0; text-decoration-color: #c0c0c0\">        </span><span style=\"color: #008000; text-decoration-color: #008000\">┡━━━━━━━━━━━━━━━━━━╇━━━━━━━━━━━━━━━━━━━━╇━━━━━━━━━━╇━━━━━━━━━┩</span>\n",
       "<span style=\"color: #c0c0c0; text-decoration-color: #c0c0c0\">        </span><span style=\"color: #008000; text-decoration-color: #008000\">│ gemini-1_5-flash │ multimodal-to-text │ generate │ gcp     │</span>\n",
       "<span style=\"color: #c0c0c0; text-decoration-color: #c0c0c0\">        </span><span style=\"color: #008000; text-decoration-color: #008000\">└──────────────────┴────────────────────┴──────────┴─────────┘</span>\n",
       "</pre>\n"
      ],
      "text/plain": [
       "\u001b[32m Input\u001b[0m\n",
       "\u001b[37m╚══ \u001b[0m\u001b[3;37m                              Node: rag-prompter                               \u001b[0m\n",
       "\u001b[37m    \u001b[0m\u001b[37m┏━━━━━━━━━━━━━━━━━━━━━━━━━┳━━━━━━━━━━━━━━━┳━━━━━━━━━━━━━━━━━━━━┳━━━━━━━━━━━━━━┓\u001b[0m\n",
       "\u001b[37m    \u001b[0m\u001b[37m┃\u001b[0m\u001b[34m \u001b[0m\u001b[34mid                     \u001b[0m\u001b[34m \u001b[0m\u001b[37m┃\u001b[0m\u001b[34m \u001b[0m\u001b[34mmodel_type_id\u001b[0m\u001b[34m \u001b[0m\u001b[37m┃\u001b[0m\u001b[34m \u001b[0m\u001b[34mapp_id            \u001b[0m\u001b[34m \u001b[0m\u001b[37m┃\u001b[0m\u001b[34m \u001b[0m\u001b[34muser_id     \u001b[0m\u001b[34m \u001b[0m\u001b[37m┃\u001b[0m\n",
       "\u001b[37m    \u001b[0m\u001b[37m┡━━━━━━━━━━━━━━━━━━━━━━━━━╇━━━━━━━━━━━━━━━╇━━━━━━━━━━━━━━━━━━━━╇━━━━━━━━━━━━━━┩\u001b[0m\n",
       "\u001b[37m    \u001b[0m\u001b[37m│\u001b[0m\u001b[37m \u001b[0m\u001b[37mrag-prompter-2ae5425822\u001b[0m\u001b[37m \u001b[0m\u001b[37m│\u001b[0m\u001b[37m \u001b[0m\u001b[37mrag-prompter \u001b[0m\u001b[37m \u001b[0m\u001b[37m│\u001b[0m\u001b[37m \u001b[0m\u001b[37mrag_app_2ae5425822\u001b[0m\u001b[37m \u001b[0m\u001b[37m│\u001b[0m\u001b[37m \u001b[0m\u001b[37maskompatel-1\u001b[0m\u001b[37m \u001b[0m\u001b[37m│\u001b[0m\n",
       "\u001b[37m    \u001b[0m\u001b[37m└─────────────────────────┴───────────────┴────────────────────┴──────────────┘\u001b[0m\n",
       "\u001b[37m    \u001b[0m\u001b[37m╚══ \u001b[0m\u001b[3;32m                          Node: llm                           \u001b[0m\n",
       "\u001b[37m    \u001b[0m\u001b[37m    \u001b[0m\u001b[32m┏━━━━━━━━━━━━━━━━━━┳━━━━━━━━━━━━━━━━━━━━┳━━━━━━━━━━┳━━━━━━━━━┓\u001b[0m\n",
       "\u001b[37m    \u001b[0m\u001b[37m    \u001b[0m\u001b[32m┃\u001b[0m\u001b[34m \u001b[0m\u001b[34mid              \u001b[0m\u001b[34m \u001b[0m\u001b[32m┃\u001b[0m\u001b[34m \u001b[0m\u001b[34mmodel_type_id     \u001b[0m\u001b[34m \u001b[0m\u001b[32m┃\u001b[0m\u001b[34m \u001b[0m\u001b[34mapp_id  \u001b[0m\u001b[34m \u001b[0m\u001b[32m┃\u001b[0m\u001b[34m \u001b[0m\u001b[34muser_id\u001b[0m\u001b[34m \u001b[0m\u001b[32m┃\u001b[0m\n",
       "\u001b[37m    \u001b[0m\u001b[37m    \u001b[0m\u001b[32m┡━━━━━━━━━━━━━━━━━━╇━━━━━━━━━━━━━━━━━━━━╇━━━━━━━━━━╇━━━━━━━━━┩\u001b[0m\n",
       "\u001b[37m    \u001b[0m\u001b[37m    \u001b[0m\u001b[32m│\u001b[0m\u001b[32m \u001b[0m\u001b[32mgemini-1_5-flash\u001b[0m\u001b[32m \u001b[0m\u001b[32m│\u001b[0m\u001b[32m \u001b[0m\u001b[32mmultimodal-to-text\u001b[0m\u001b[32m \u001b[0m\u001b[32m│\u001b[0m\u001b[32m \u001b[0m\u001b[32mgenerate\u001b[0m\u001b[32m \u001b[0m\u001b[32m│\u001b[0m\u001b[32m \u001b[0m\u001b[32mgcp    \u001b[0m\u001b[32m \u001b[0m\u001b[32m│\u001b[0m\n",
       "\u001b[37m    \u001b[0m\u001b[37m    \u001b[0m\u001b[32m└──────────────────┴────────────────────┴──────────┴─────────┘\u001b[0m\n"
      ]
     },
     "metadata": {},
     "output_type": "display_data"
    }
   ],
   "source": [
    "\n",
    "\n",
    "PAT = '318e358a234f4537a4777674696f9807'\n",
    "user_id = \"askompatel-1\"\n",
    "\n",
    "rag_agent = RAG.setup(user_id=user_id, llm_url=\"https://clarifai.com/gcp/generate/models/gemini-1_5-flash\", pat=PAT)"
   ]
  },
  {
   "cell_type": "code",
   "execution_count": 13,
   "id": "3365440e",
   "metadata": {},
   "outputs": [],
   "source": [
    "def upload_document(file_path):\n",
    "    try:\n",
    "        with open(file_path, 'rb') as file:\n",
    "            content = file.read()\n",
    "            print(f\"Uploaded document: {file_path}\")\n",
    "            main(content)\n",
    "    except FileNotFoundError:\n",
    "        print(f\"Error: File '{file_path}' not found.\")\n",
    "    except Exception as e:\n",
    "        print(f\"Error uploading document: {str(e)}\")\n"
   ]
  },
  {
   "cell_type": "code",
   "execution_count": 14,
   "id": "11598a20",
   "metadata": {},
   "outputs": [],
   "source": [
    "\n",
    "def main(content):\n",
    "    if content:\n",
    "        rag_agent.upload(content=content)\n",
    "        print(\"Document uploaded successfully to Clarifai's vector database.\")\n",
    "        messages = \"Summarize this PDF\"\n",
    "        response = rag_agent.chat(messages=messages)\n",
    "        if 'summary' in response:\n",
    "            print(\"Summarized PDF:\")\n",
    "            print(response['summary'])\n",
    "        else:\n",
    "            print(\"No summary found.\")\n",
    "    else:\n",
    "        print(\"No document uploaded.\")"
   ]
  },
  {
   "cell_type": "code",
   "execution_count": 15,
   "id": "92f1cb97",
   "metadata": {},
   "outputs": [
    {
     "name": "stdout",
     "output_type": "stream",
     "text": [
      "Error: File '/Users/om-college/Downloads/Laptop preferences' not found.\n"
     ]
    }
   ],
   "source": [
    "def start_app():\n",
    "    file_path = input(\"Enter the file path of the document to upload: \").strip()\n",
    "    upload_document(file_path)\n",
    "\n",
    "start_app()"
   ]
  },
  {
   "cell_type": "code",
   "execution_count": 27,
   "id": "2fe9b9ea",
   "metadata": {},
   "outputs": [
    {
     "data": {
      "text/html": [
       "<pre style=\"white-space:pre;overflow-x:auto;line-height:normal;font-family:Menlo,'DejaVu Sans Mono',consolas,'Courier New',monospace\"><span style=\"color: #7fbfbf; text-decoration-color: #7fbfbf\">2024-06-14 16:47:11 </span><span style=\"color: #000080; text-decoration-color: #000080\">INFO    </span> clarifai.client.user:                                                      <a href=\"file:///Users/om-college/miniconda3/lib/python3.12/site-packages/clarifai/client/user.py\" target=\"_blank\"><span style=\"color: #7f7f7f; text-decoration-color: #7f7f7f\">user.py</span></a><span style=\"color: #7f7f7f; text-decoration-color: #7f7f7f\">:</span><a href=\"file:///Users/om-college/miniconda3/lib/python3.12/site-packages/clarifai/client/user.py#134\" target=\"_blank\"><span style=\"color: #7f7f7f; text-decoration-color: #7f7f7f\">134</span></a>\n",
       "<span style=\"color: #7fbfbf; text-decoration-color: #7fbfbf\">                    </span>         App created                                                                <span style=\"color: #7f7f7f; text-decoration-color: #7f7f7f\">           </span>\n",
       "<span style=\"color: #7fbfbf; text-decoration-color: #7fbfbf\">                    </span>         code: SUCCESS                                                              <span style=\"color: #7f7f7f; text-decoration-color: #7f7f7f\">           </span>\n",
       "<span style=\"color: #7fbfbf; text-decoration-color: #7fbfbf\">                    </span>         description: <span style=\"color: #008000; text-decoration-color: #008000\">\"Ok\"</span>                                                          <span style=\"color: #7f7f7f; text-decoration-color: #7f7f7f\">           </span>\n",
       "<span style=\"color: #7fbfbf; text-decoration-color: #7fbfbf\">                    </span>         req_id: <span style=\"color: #008000; text-decoration-color: #008000\">\"7570841d45874520adc754d613c44651\"</span>                                 <span style=\"color: #7f7f7f; text-decoration-color: #7f7f7f\">           </span>\n",
       "<span style=\"color: #7fbfbf; text-decoration-color: #7fbfbf\">                    </span>                                                                                    <span style=\"color: #7f7f7f; text-decoration-color: #7f7f7f\">           </span>\n",
       "</pre>\n"
      ],
      "text/plain": [
       "\u001b[2;36m2024-06-14 16:47:11\u001b[0m\u001b[2;36m \u001b[0m\u001b[34mINFO    \u001b[0m clarifai.client.user:                                                      \u001b]8;id=600376;file:///Users/om-college/miniconda3/lib/python3.12/site-packages/clarifai/client/user.py\u001b\\\u001b[2muser.py\u001b[0m\u001b]8;;\u001b\\\u001b[2m:\u001b[0m\u001b]8;id=346870;file:///Users/om-college/miniconda3/lib/python3.12/site-packages/clarifai/client/user.py#134\u001b\\\u001b[2m134\u001b[0m\u001b]8;;\u001b\\\n",
       "\u001b[2;36m                    \u001b[0m         App created                                                                \u001b[2m           \u001b[0m\n",
       "\u001b[2;36m                    \u001b[0m         code: SUCCESS                                                              \u001b[2m           \u001b[0m\n",
       "\u001b[2;36m                    \u001b[0m         description: \u001b[32m\"Ok\"\u001b[0m                                                          \u001b[2m           \u001b[0m\n",
       "\u001b[2;36m                    \u001b[0m         req_id: \u001b[32m\"7570841d45874520adc754d613c44651\"\u001b[0m                                 \u001b[2m           \u001b[0m\n",
       "\u001b[2;36m                    \u001b[0m                                                                                    \u001b[2m           \u001b[0m\n"
      ]
     },
     "metadata": {},
     "output_type": "display_data"
    },
    {
     "data": {
      "text/html": [
       "<pre style=\"white-space:pre;overflow-x:auto;line-height:normal;font-family:Menlo,'DejaVu Sans Mono',consolas,'Courier New',monospace\"><span style=\"color: #7fbfbf; text-decoration-color: #7fbfbf\">2024-06-14 16:47:12 </span><span style=\"color: #000080; text-decoration-color: #000080\">INFO    </span> clarifai.client.app:                                                        <a href=\"file:///Users/om-college/miniconda3/lib/python3.12/site-packages/clarifai/client/app.py\" target=\"_blank\"><span style=\"color: #7f7f7f; text-decoration-color: #7f7f7f\">app.py</span></a><span style=\"color: #7f7f7f; text-decoration-color: #7f7f7f\">:</span><a href=\"file:///Users/om-college/miniconda3/lib/python3.12/site-packages/clarifai/client/app.py#343\" target=\"_blank\"><span style=\"color: #7f7f7f; text-decoration-color: #7f7f7f\">343</span></a>\n",
       "<span style=\"color: #7fbfbf; text-decoration-color: #7fbfbf\">                    </span>         Model created                                                               <span style=\"color: #7f7f7f; text-decoration-color: #7f7f7f\">          </span>\n",
       "<span style=\"color: #7fbfbf; text-decoration-color: #7fbfbf\">                    </span>         code: SUCCESS                                                               <span style=\"color: #7f7f7f; text-decoration-color: #7f7f7f\">          </span>\n",
       "<span style=\"color: #7fbfbf; text-decoration-color: #7fbfbf\">                    </span>         description: <span style=\"color: #008000; text-decoration-color: #008000\">\"Ok\"</span>                                                           <span style=\"color: #7f7f7f; text-decoration-color: #7f7f7f\">          </span>\n",
       "<span style=\"color: #7fbfbf; text-decoration-color: #7fbfbf\">                    </span>         req_id: <span style=\"color: #008000; text-decoration-color: #008000\">\"ab9e6480de5848609d242021dddc44b6\"</span>                                  <span style=\"color: #7f7f7f; text-decoration-color: #7f7f7f\">          </span>\n",
       "<span style=\"color: #7fbfbf; text-decoration-color: #7fbfbf\">                    </span>                                                                                     <span style=\"color: #7f7f7f; text-decoration-color: #7f7f7f\">          </span>\n",
       "</pre>\n"
      ],
      "text/plain": [
       "\u001b[2;36m2024-06-14 16:47:12\u001b[0m\u001b[2;36m \u001b[0m\u001b[34mINFO    \u001b[0m clarifai.client.app:                                                        \u001b]8;id=744150;file:///Users/om-college/miniconda3/lib/python3.12/site-packages/clarifai/client/app.py\u001b\\\u001b[2mapp.py\u001b[0m\u001b]8;;\u001b\\\u001b[2m:\u001b[0m\u001b]8;id=639012;file:///Users/om-college/miniconda3/lib/python3.12/site-packages/clarifai/client/app.py#343\u001b\\\u001b[2m343\u001b[0m\u001b]8;;\u001b\\\n",
       "\u001b[2;36m                    \u001b[0m         Model created                                                               \u001b[2m          \u001b[0m\n",
       "\u001b[2;36m                    \u001b[0m         code: SUCCESS                                                               \u001b[2m          \u001b[0m\n",
       "\u001b[2;36m                    \u001b[0m         description: \u001b[32m\"Ok\"\u001b[0m                                                           \u001b[2m          \u001b[0m\n",
       "\u001b[2;36m                    \u001b[0m         req_id: \u001b[32m\"ab9e6480de5848609d242021dddc44b6\"\u001b[0m                                  \u001b[2m          \u001b[0m\n",
       "\u001b[2;36m                    \u001b[0m                                                                                     \u001b[2m          \u001b[0m\n"
      ]
     },
     "metadata": {},
     "output_type": "display_data"
    },
    {
     "data": {
      "text/html": [
       "<pre style=\"white-space:pre;overflow-x:auto;line-height:normal;font-family:Menlo,'DejaVu Sans Mono',consolas,'Courier New',monospace\"><span style=\"color: #7fbfbf; text-decoration-color: #7fbfbf\">2024-06-14 16:47:13 </span><span style=\"color: #000080; text-decoration-color: #000080\">INFO    </span> clarifai.client.model:                                                    <a href=\"file:///Users/om-college/miniconda3/lib/python3.12/site-packages/clarifai/client/model.py\" target=\"_blank\"><span style=\"color: #7f7f7f; text-decoration-color: #7f7f7f\">model.py</span></a><span style=\"color: #7f7f7f; text-decoration-color: #7f7f7f\">:</span><a href=\"file:///Users/om-college/miniconda3/lib/python3.12/site-packages/clarifai/client/model.py#353\" target=\"_blank\"><span style=\"color: #7f7f7f; text-decoration-color: #7f7f7f\">353</span></a>\n",
       "<span style=\"color: #7fbfbf; text-decoration-color: #7fbfbf\">                    </span>         Model Version created                                                     <span style=\"color: #7f7f7f; text-decoration-color: #7f7f7f\">            </span>\n",
       "<span style=\"color: #7fbfbf; text-decoration-color: #7fbfbf\">                    </span>         code: SUCCESS                                                             <span style=\"color: #7f7f7f; text-decoration-color: #7f7f7f\">            </span>\n",
       "<span style=\"color: #7fbfbf; text-decoration-color: #7fbfbf\">                    </span>         description: <span style=\"color: #008000; text-decoration-color: #008000\">\"Ok\"</span>                                                         <span style=\"color: #7f7f7f; text-decoration-color: #7f7f7f\">            </span>\n",
       "<span style=\"color: #7fbfbf; text-decoration-color: #7fbfbf\">                    </span>         req_id: <span style=\"color: #008000; text-decoration-color: #008000\">\"7056e184542e451caa3a68d911fbf6ca\"</span>                                <span style=\"color: #7f7f7f; text-decoration-color: #7f7f7f\">            </span>\n",
       "<span style=\"color: #7fbfbf; text-decoration-color: #7fbfbf\">                    </span>                                                                                   <span style=\"color: #7f7f7f; text-decoration-color: #7f7f7f\">            </span>\n",
       "</pre>\n"
      ],
      "text/plain": [
       "\u001b[2;36m2024-06-14 16:47:13\u001b[0m\u001b[2;36m \u001b[0m\u001b[34mINFO    \u001b[0m clarifai.client.model:                                                    \u001b]8;id=875980;file:///Users/om-college/miniconda3/lib/python3.12/site-packages/clarifai/client/model.py\u001b\\\u001b[2mmodel.py\u001b[0m\u001b]8;;\u001b\\\u001b[2m:\u001b[0m\u001b]8;id=772042;file:///Users/om-college/miniconda3/lib/python3.12/site-packages/clarifai/client/model.py#353\u001b\\\u001b[2m353\u001b[0m\u001b]8;;\u001b\\\n",
       "\u001b[2;36m                    \u001b[0m         Model Version created                                                     \u001b[2m            \u001b[0m\n",
       "\u001b[2;36m                    \u001b[0m         code: SUCCESS                                                             \u001b[2m            \u001b[0m\n",
       "\u001b[2;36m                    \u001b[0m         description: \u001b[32m\"Ok\"\u001b[0m                                                         \u001b[2m            \u001b[0m\n",
       "\u001b[2;36m                    \u001b[0m         req_id: \u001b[32m\"7056e184542e451caa3a68d911fbf6ca\"\u001b[0m                                \u001b[2m            \u001b[0m\n",
       "\u001b[2;36m                    \u001b[0m                                                                                   \u001b[2m            \u001b[0m\n"
      ]
     },
     "metadata": {},
     "output_type": "display_data"
    },
    {
     "data": {
      "text/html": [
       "<pre style=\"white-space:pre;overflow-x:auto;line-height:normal;font-family:Menlo,'DejaVu Sans Mono',consolas,'Courier New',monospace\"><span style=\"color: #7fbfbf; text-decoration-color: #7fbfbf\">2024-06-14 16:47:14 </span><span style=\"color: #000080; text-decoration-color: #000080\">INFO    </span> clarifai.client.app:                                                        <a href=\"file:///Users/om-college/miniconda3/lib/python3.12/site-packages/clarifai/client/app.py\" target=\"_blank\"><span style=\"color: #7f7f7f; text-decoration-color: #7f7f7f\">app.py</span></a><span style=\"color: #7f7f7f; text-decoration-color: #7f7f7f\">:</span><a href=\"file:///Users/om-college/miniconda3/lib/python3.12/site-packages/clarifai/client/app.py#431\" target=\"_blank\"><span style=\"color: #7f7f7f; text-decoration-color: #7f7f7f\">431</span></a>\n",
       "<span style=\"color: #7fbfbf; text-decoration-color: #7fbfbf\">                    </span>         Workflow created                                                            <span style=\"color: #7f7f7f; text-decoration-color: #7f7f7f\">          </span>\n",
       "<span style=\"color: #7fbfbf; text-decoration-color: #7fbfbf\">                    </span>         code: SUCCESS                                                               <span style=\"color: #7f7f7f; text-decoration-color: #7f7f7f\">          </span>\n",
       "<span style=\"color: #7fbfbf; text-decoration-color: #7fbfbf\">                    </span>         description: <span style=\"color: #008000; text-decoration-color: #008000\">\"Ok\"</span>                                                           <span style=\"color: #7f7f7f; text-decoration-color: #7f7f7f\">          </span>\n",
       "<span style=\"color: #7fbfbf; text-decoration-color: #7fbfbf\">                    </span>         req_id: <span style=\"color: #008000; text-decoration-color: #008000\">\"7eb0674456c24f19b53efedd67c28569\"</span>                                  <span style=\"color: #7f7f7f; text-decoration-color: #7f7f7f\">          </span>\n",
       "<span style=\"color: #7fbfbf; text-decoration-color: #7fbfbf\">                    </span>                                                                                     <span style=\"color: #7f7f7f; text-decoration-color: #7f7f7f\">          </span>\n",
       "</pre>\n"
      ],
      "text/plain": [
       "\u001b[2;36m2024-06-14 16:47:14\u001b[0m\u001b[2;36m \u001b[0m\u001b[34mINFO    \u001b[0m clarifai.client.app:                                                        \u001b]8;id=106637;file:///Users/om-college/miniconda3/lib/python3.12/site-packages/clarifai/client/app.py\u001b\\\u001b[2mapp.py\u001b[0m\u001b]8;;\u001b\\\u001b[2m:\u001b[0m\u001b]8;id=341630;file:///Users/om-college/miniconda3/lib/python3.12/site-packages/clarifai/client/app.py#431\u001b\\\u001b[2m431\u001b[0m\u001b]8;;\u001b\\\n",
       "\u001b[2;36m                    \u001b[0m         Workflow created                                                            \u001b[2m          \u001b[0m\n",
       "\u001b[2;36m                    \u001b[0m         code: SUCCESS                                                               \u001b[2m          \u001b[0m\n",
       "\u001b[2;36m                    \u001b[0m         description: \u001b[32m\"Ok\"\u001b[0m                                                           \u001b[2m          \u001b[0m\n",
       "\u001b[2;36m                    \u001b[0m         req_id: \u001b[32m\"7eb0674456c24f19b53efedd67c28569\"\u001b[0m                                  \u001b[2m          \u001b[0m\n",
       "\u001b[2;36m                    \u001b[0m                                                                                     \u001b[2m          \u001b[0m\n"
      ]
     },
     "metadata": {},
     "output_type": "display_data"
    },
    {
     "data": {
      "text/html": [
       "<pre style=\"white-space:pre;overflow-x:auto;line-height:normal;font-family:Menlo,'DejaVu Sans Mono',consolas,'Courier New',monospace\"><span style=\"color: #008000; text-decoration-color: #008000\"> Input</span>\n",
       "<span style=\"color: #c0c0c0; text-decoration-color: #c0c0c0\">╚══ </span><span style=\"color: #c0c0c0; text-decoration-color: #c0c0c0; font-style: italic\">                              Node: rag-prompter                               </span>\n",
       "<span style=\"color: #c0c0c0; text-decoration-color: #c0c0c0\">    </span><span style=\"color: #c0c0c0; text-decoration-color: #c0c0c0\">┏━━━━━━━━━━━━━━━━━━━━━━━━━┳━━━━━━━━━━━━━━━┳━━━━━━━━━━━━━━━━━━━━┳━━━━━━━━━━━━━━┓</span>\n",
       "<span style=\"color: #c0c0c0; text-decoration-color: #c0c0c0\">    </span><span style=\"color: #c0c0c0; text-decoration-color: #c0c0c0\">┃</span><span style=\"color: #000080; text-decoration-color: #000080\"> id                      </span><span style=\"color: #c0c0c0; text-decoration-color: #c0c0c0\">┃</span><span style=\"color: #000080; text-decoration-color: #000080\"> model_type_id </span><span style=\"color: #c0c0c0; text-decoration-color: #c0c0c0\">┃</span><span style=\"color: #000080; text-decoration-color: #000080\"> app_id             </span><span style=\"color: #c0c0c0; text-decoration-color: #c0c0c0\">┃</span><span style=\"color: #000080; text-decoration-color: #000080\"> user_id      </span><span style=\"color: #c0c0c0; text-decoration-color: #c0c0c0\">┃</span>\n",
       "<span style=\"color: #c0c0c0; text-decoration-color: #c0c0c0\">    </span><span style=\"color: #c0c0c0; text-decoration-color: #c0c0c0\">┡━━━━━━━━━━━━━━━━━━━━━━━━━╇━━━━━━━━━━━━━━━╇━━━━━━━━━━━━━━━━━━━━╇━━━━━━━━━━━━━━┩</span>\n",
       "<span style=\"color: #c0c0c0; text-decoration-color: #c0c0c0\">    </span><span style=\"color: #c0c0c0; text-decoration-color: #c0c0c0\">│ rag-prompter-d8a970e335 │ rag-prompter  │ rag_app_d8a970e335 │ askompatel-1 │</span>\n",
       "<span style=\"color: #c0c0c0; text-decoration-color: #c0c0c0\">    </span><span style=\"color: #c0c0c0; text-decoration-color: #c0c0c0\">└─────────────────────────┴───────────────┴────────────────────┴──────────────┘</span>\n",
       "<span style=\"color: #c0c0c0; text-decoration-color: #c0c0c0\">    ╚══ </span><span style=\"color: #008000; text-decoration-color: #008000; font-style: italic\">                           Node: llm                            </span>\n",
       "<span style=\"color: #c0c0c0; text-decoration-color: #c0c0c0\">        </span><span style=\"color: #008000; text-decoration-color: #008000\">┏━━━━━━━━━━━━━━━━━━━━━┳━━━━━━━━━━━━━━━┳━━━━━━━━━━━━┳━━━━━━━━━━━┓</span>\n",
       "<span style=\"color: #c0c0c0; text-decoration-color: #c0c0c0\">        </span><span style=\"color: #008000; text-decoration-color: #008000\">┃</span><span style=\"color: #000080; text-decoration-color: #000080\"> id                  </span><span style=\"color: #008000; text-decoration-color: #008000\">┃</span><span style=\"color: #000080; text-decoration-color: #000080\"> model_type_id </span><span style=\"color: #008000; text-decoration-color: #008000\">┃</span><span style=\"color: #000080; text-decoration-color: #000080\"> app_id     </span><span style=\"color: #008000; text-decoration-color: #008000\">┃</span><span style=\"color: #000080; text-decoration-color: #000080\"> user_id   </span><span style=\"color: #008000; text-decoration-color: #008000\">┃</span>\n",
       "<span style=\"color: #c0c0c0; text-decoration-color: #c0c0c0\">        </span><span style=\"color: #008000; text-decoration-color: #008000\">┡━━━━━━━━━━━━━━━━━━━━━╇━━━━━━━━━━━━━━━╇━━━━━━━━━━━━╇━━━━━━━━━━━┩</span>\n",
       "<span style=\"color: #c0c0c0; text-decoration-color: #c0c0c0\">        </span><span style=\"color: #008000; text-decoration-color: #008000\">│ mistral-7B-Instruct │ text-to-text  │ completion │ mistralai │</span>\n",
       "<span style=\"color: #c0c0c0; text-decoration-color: #c0c0c0\">        </span><span style=\"color: #008000; text-decoration-color: #008000\">└─────────────────────┴───────────────┴────────────┴───────────┘</span>\n",
       "</pre>\n"
      ],
      "text/plain": [
       "\u001b[32m Input\u001b[0m\n",
       "\u001b[37m╚══ \u001b[0m\u001b[3;37m                              Node: rag-prompter                               \u001b[0m\n",
       "\u001b[37m    \u001b[0m\u001b[37m┏━━━━━━━━━━━━━━━━━━━━━━━━━┳━━━━━━━━━━━━━━━┳━━━━━━━━━━━━━━━━━━━━┳━━━━━━━━━━━━━━┓\u001b[0m\n",
       "\u001b[37m    \u001b[0m\u001b[37m┃\u001b[0m\u001b[34m \u001b[0m\u001b[34mid                     \u001b[0m\u001b[34m \u001b[0m\u001b[37m┃\u001b[0m\u001b[34m \u001b[0m\u001b[34mmodel_type_id\u001b[0m\u001b[34m \u001b[0m\u001b[37m┃\u001b[0m\u001b[34m \u001b[0m\u001b[34mapp_id            \u001b[0m\u001b[34m \u001b[0m\u001b[37m┃\u001b[0m\u001b[34m \u001b[0m\u001b[34muser_id     \u001b[0m\u001b[34m \u001b[0m\u001b[37m┃\u001b[0m\n",
       "\u001b[37m    \u001b[0m\u001b[37m┡━━━━━━━━━━━━━━━━━━━━━━━━━╇━━━━━━━━━━━━━━━╇━━━━━━━━━━━━━━━━━━━━╇━━━━━━━━━━━━━━┩\u001b[0m\n",
       "\u001b[37m    \u001b[0m\u001b[37m│\u001b[0m\u001b[37m \u001b[0m\u001b[37mrag-prompter-d8a970e335\u001b[0m\u001b[37m \u001b[0m\u001b[37m│\u001b[0m\u001b[37m \u001b[0m\u001b[37mrag-prompter \u001b[0m\u001b[37m \u001b[0m\u001b[37m│\u001b[0m\u001b[37m \u001b[0m\u001b[37mrag_app_d8a970e335\u001b[0m\u001b[37m \u001b[0m\u001b[37m│\u001b[0m\u001b[37m \u001b[0m\u001b[37maskompatel-1\u001b[0m\u001b[37m \u001b[0m\u001b[37m│\u001b[0m\n",
       "\u001b[37m    \u001b[0m\u001b[37m└─────────────────────────┴───────────────┴────────────────────┴──────────────┘\u001b[0m\n",
       "\u001b[37m    \u001b[0m\u001b[37m╚══ \u001b[0m\u001b[3;32m                           Node: llm                            \u001b[0m\n",
       "\u001b[37m    \u001b[0m\u001b[37m    \u001b[0m\u001b[32m┏━━━━━━━━━━━━━━━━━━━━━┳━━━━━━━━━━━━━━━┳━━━━━━━━━━━━┳━━━━━━━━━━━┓\u001b[0m\n",
       "\u001b[37m    \u001b[0m\u001b[37m    \u001b[0m\u001b[32m┃\u001b[0m\u001b[34m \u001b[0m\u001b[34mid                 \u001b[0m\u001b[34m \u001b[0m\u001b[32m┃\u001b[0m\u001b[34m \u001b[0m\u001b[34mmodel_type_id\u001b[0m\u001b[34m \u001b[0m\u001b[32m┃\u001b[0m\u001b[34m \u001b[0m\u001b[34mapp_id    \u001b[0m\u001b[34m \u001b[0m\u001b[32m┃\u001b[0m\u001b[34m \u001b[0m\u001b[34muser_id  \u001b[0m\u001b[34m \u001b[0m\u001b[32m┃\u001b[0m\n",
       "\u001b[37m    \u001b[0m\u001b[37m    \u001b[0m\u001b[32m┡━━━━━━━━━━━━━━━━━━━━━╇━━━━━━━━━━━━━━━╇━━━━━━━━━━━━╇━━━━━━━━━━━┩\u001b[0m\n",
       "\u001b[37m    \u001b[0m\u001b[37m    \u001b[0m\u001b[32m│\u001b[0m\u001b[32m \u001b[0m\u001b[32mmistral-7B-Instruct\u001b[0m\u001b[32m \u001b[0m\u001b[32m│\u001b[0m\u001b[32m \u001b[0m\u001b[32mtext-to-text \u001b[0m\u001b[32m \u001b[0m\u001b[32m│\u001b[0m\u001b[32m \u001b[0m\u001b[32mcompletion\u001b[0m\u001b[32m \u001b[0m\u001b[32m│\u001b[0m\u001b[32m \u001b[0m\u001b[32mmistralai\u001b[0m\u001b[32m \u001b[0m\u001b[32m│\u001b[0m\n",
       "\u001b[37m    \u001b[0m\u001b[37m    \u001b[0m\u001b[32m└─────────────────────┴───────────────┴────────────┴───────────┘\u001b[0m\n"
      ]
     },
     "metadata": {},
     "output_type": "display_data"
    },
    {
     "name": "stdout",
     "output_type": "stream",
     "text": [
      "Attempting to upload document: /Users/om-college/DataScience/LLM/Gemini/GeminiLLM/llm.pdf\n",
      "Requirement already satisfied: llama-index-readers-file in /Users/om-college/miniconda3/lib/python3.12/site-packages (0.1.25)\n",
      "Requirement already satisfied: beautifulsoup4<5.0.0,>=4.12.3 in /Users/om-college/miniconda3/lib/python3.12/site-packages (from llama-index-readers-file) (4.12.3)\n",
      "Requirement already satisfied: llama-index-core<0.11.0,>=0.10.37.post1 in /Users/om-college/miniconda3/lib/python3.12/site-packages (from llama-index-readers-file) (0.10.44)\n",
      "Requirement already satisfied: pypdf<5.0.0,>=4.0.1 in /Users/om-college/miniconda3/lib/python3.12/site-packages (from llama-index-readers-file) (4.2.0)\n",
      "Requirement already satisfied: striprtf<0.0.27,>=0.0.26 in /Users/om-college/miniconda3/lib/python3.12/site-packages (from llama-index-readers-file) (0.0.26)\n",
      "Requirement already satisfied: soupsieve>1.2 in /Users/om-college/miniconda3/lib/python3.12/site-packages (from beautifulsoup4<5.0.0,>=4.12.3->llama-index-readers-file) (2.5)\n",
      "Requirement already satisfied: PyYAML>=6.0.1 in /Users/om-college/miniconda3/lib/python3.12/site-packages (from llama-index-core<0.11.0,>=0.10.37.post1->llama-index-readers-file) (6.0.1)\n",
      "Requirement already satisfied: SQLAlchemy>=1.4.49 in /Users/om-college/miniconda3/lib/python3.12/site-packages (from SQLAlchemy[asyncio]>=1.4.49->llama-index-core<0.11.0,>=0.10.37.post1->llama-index-readers-file) (2.0.30)\n",
      "Requirement already satisfied: aiohttp<4.0.0,>=3.8.6 in /Users/om-college/miniconda3/lib/python3.12/site-packages (from llama-index-core<0.11.0,>=0.10.37.post1->llama-index-readers-file) (3.9.5)\n",
      "Requirement already satisfied: dataclasses-json in /Users/om-college/miniconda3/lib/python3.12/site-packages (from llama-index-core<0.11.0,>=0.10.37.post1->llama-index-readers-file) (0.6.7)\n",
      "Requirement already satisfied: deprecated>=1.2.9.3 in /Users/om-college/miniconda3/lib/python3.12/site-packages (from llama-index-core<0.11.0,>=0.10.37.post1->llama-index-readers-file) (1.2.14)\n",
      "Requirement already satisfied: dirtyjson<2.0.0,>=1.0.8 in /Users/om-college/miniconda3/lib/python3.12/site-packages (from llama-index-core<0.11.0,>=0.10.37.post1->llama-index-readers-file) (1.0.8)\n",
      "Requirement already satisfied: fsspec>=2023.5.0 in /Users/om-college/miniconda3/lib/python3.12/site-packages (from llama-index-core<0.11.0,>=0.10.37.post1->llama-index-readers-file) (2024.6.0)\n",
      "Requirement already satisfied: httpx in /Users/om-college/miniconda3/lib/python3.12/site-packages (from llama-index-core<0.11.0,>=0.10.37.post1->llama-index-readers-file) (0.27.0)\n",
      "Requirement already satisfied: llamaindex-py-client<0.2.0,>=0.1.18 in /Users/om-college/miniconda3/lib/python3.12/site-packages (from llama-index-core<0.11.0,>=0.10.37.post1->llama-index-readers-file) (0.1.19)\n",
      "Requirement already satisfied: nest-asyncio<2.0.0,>=1.5.8 in /Users/om-college/miniconda3/lib/python3.12/site-packages (from llama-index-core<0.11.0,>=0.10.37.post1->llama-index-readers-file) (1.6.0)\n",
      "Requirement already satisfied: networkx>=3.0 in /Users/om-college/miniconda3/lib/python3.12/site-packages (from llama-index-core<0.11.0,>=0.10.37.post1->llama-index-readers-file) (3.3)\n",
      "Requirement already satisfied: nltk<4.0.0,>=3.8.1 in /Users/om-college/miniconda3/lib/python3.12/site-packages (from llama-index-core<0.11.0,>=0.10.37.post1->llama-index-readers-file) (3.8.1)\n",
      "Requirement already satisfied: numpy in /Users/om-college/miniconda3/lib/python3.12/site-packages (from llama-index-core<0.11.0,>=0.10.37.post1->llama-index-readers-file) (1.26.4)\n",
      "Requirement already satisfied: openai>=1.1.0 in /Users/om-college/miniconda3/lib/python3.12/site-packages (from llama-index-core<0.11.0,>=0.10.37.post1->llama-index-readers-file) (1.34.0)\n",
      "Requirement already satisfied: pandas in /Users/om-college/miniconda3/lib/python3.12/site-packages (from llama-index-core<0.11.0,>=0.10.37.post1->llama-index-readers-file) (2.2.2)\n",
      "Requirement already satisfied: pillow>=9.0.0 in /Users/om-college/miniconda3/lib/python3.12/site-packages (from llama-index-core<0.11.0,>=0.10.37.post1->llama-index-readers-file) (10.3.0)\n",
      "Requirement already satisfied: requests>=2.31.0 in /Users/om-college/miniconda3/lib/python3.12/site-packages (from llama-index-core<0.11.0,>=0.10.37.post1->llama-index-readers-file) (2.31.0)\n",
      "Requirement already satisfied: tenacity<9.0.0,>=8.2.0 in /Users/om-college/miniconda3/lib/python3.12/site-packages (from llama-index-core<0.11.0,>=0.10.37.post1->llama-index-readers-file) (8.3.0)\n",
      "Requirement already satisfied: tiktoken>=0.3.3 in /Users/om-college/miniconda3/lib/python3.12/site-packages (from llama-index-core<0.11.0,>=0.10.37.post1->llama-index-readers-file) (0.7.0)\n",
      "Requirement already satisfied: tqdm<5.0.0,>=4.66.1 in /Users/om-college/miniconda3/lib/python3.12/site-packages (from llama-index-core<0.11.0,>=0.10.37.post1->llama-index-readers-file) (4.66.4)\n",
      "Requirement already satisfied: typing-extensions>=4.5.0 in /Users/om-college/miniconda3/lib/python3.12/site-packages (from llama-index-core<0.11.0,>=0.10.37.post1->llama-index-readers-file) (4.11.0)\n",
      "Requirement already satisfied: typing-inspect>=0.8.0 in /Users/om-college/miniconda3/lib/python3.12/site-packages (from llama-index-core<0.11.0,>=0.10.37.post1->llama-index-readers-file) (0.9.0)\n",
      "Requirement already satisfied: wrapt in /Users/om-college/miniconda3/lib/python3.12/site-packages (from llama-index-core<0.11.0,>=0.10.37.post1->llama-index-readers-file) (1.16.0)\n",
      "Requirement already satisfied: aiosignal>=1.1.2 in /Users/om-college/miniconda3/lib/python3.12/site-packages (from aiohttp<4.0.0,>=3.8.6->llama-index-core<0.11.0,>=0.10.37.post1->llama-index-readers-file) (1.3.1)\n",
      "Requirement already satisfied: attrs>=17.3.0 in /Users/om-college/miniconda3/lib/python3.12/site-packages (from aiohttp<4.0.0,>=3.8.6->llama-index-core<0.11.0,>=0.10.37.post1->llama-index-readers-file) (23.2.0)\n",
      "Requirement already satisfied: frozenlist>=1.1.1 in /Users/om-college/miniconda3/lib/python3.12/site-packages (from aiohttp<4.0.0,>=3.8.6->llama-index-core<0.11.0,>=0.10.37.post1->llama-index-readers-file) (1.4.1)\n",
      "Requirement already satisfied: multidict<7.0,>=4.5 in /Users/om-college/miniconda3/lib/python3.12/site-packages (from aiohttp<4.0.0,>=3.8.6->llama-index-core<0.11.0,>=0.10.37.post1->llama-index-readers-file) (6.0.5)\n",
      "Requirement already satisfied: yarl<2.0,>=1.0 in /Users/om-college/miniconda3/lib/python3.12/site-packages (from aiohttp<4.0.0,>=3.8.6->llama-index-core<0.11.0,>=0.10.37.post1->llama-index-readers-file) (1.9.4)\n",
      "Requirement already satisfied: pydantic>=1.10 in /Users/om-college/miniconda3/lib/python3.12/site-packages (from llamaindex-py-client<0.2.0,>=0.1.18->llama-index-core<0.11.0,>=0.10.37.post1->llama-index-readers-file) (2.7.4)\n",
      "Requirement already satisfied: anyio in /Users/om-college/miniconda3/lib/python3.12/site-packages (from httpx->llama-index-core<0.11.0,>=0.10.37.post1->llama-index-readers-file) (4.4.0)\n",
      "Requirement already satisfied: certifi in /Users/om-college/miniconda3/lib/python3.12/site-packages (from httpx->llama-index-core<0.11.0,>=0.10.37.post1->llama-index-readers-file) (2024.2.2)\n",
      "Requirement already satisfied: httpcore==1.* in /Users/om-college/miniconda3/lib/python3.12/site-packages (from httpx->llama-index-core<0.11.0,>=0.10.37.post1->llama-index-readers-file) (1.0.5)\n",
      "Requirement already satisfied: idna in /Users/om-college/miniconda3/lib/python3.12/site-packages (from httpx->llama-index-core<0.11.0,>=0.10.37.post1->llama-index-readers-file) (3.4)\n",
      "Requirement already satisfied: sniffio in /Users/om-college/miniconda3/lib/python3.12/site-packages (from httpx->llama-index-core<0.11.0,>=0.10.37.post1->llama-index-readers-file) (1.3.1)\n",
      "Requirement already satisfied: h11<0.15,>=0.13 in /Users/om-college/miniconda3/lib/python3.12/site-packages (from httpcore==1.*->httpx->llama-index-core<0.11.0,>=0.10.37.post1->llama-index-readers-file) (0.14.0)\n",
      "Requirement already satisfied: click in /Users/om-college/miniconda3/lib/python3.12/site-packages (from nltk<4.0.0,>=3.8.1->llama-index-core<0.11.0,>=0.10.37.post1->llama-index-readers-file) (8.1.7)\n",
      "Requirement already satisfied: joblib in /Users/om-college/miniconda3/lib/python3.12/site-packages (from nltk<4.0.0,>=3.8.1->llama-index-core<0.11.0,>=0.10.37.post1->llama-index-readers-file) (1.4.2)\n",
      "Requirement already satisfied: regex>=2021.8.3 in /Users/om-college/miniconda3/lib/python3.12/site-packages (from nltk<4.0.0,>=3.8.1->llama-index-core<0.11.0,>=0.10.37.post1->llama-index-readers-file) (2024.5.15)\n",
      "Requirement already satisfied: distro<2,>=1.7.0 in /Users/om-college/miniconda3/lib/python3.12/site-packages (from openai>=1.1.0->llama-index-core<0.11.0,>=0.10.37.post1->llama-index-readers-file) (1.8.0)\n",
      "Requirement already satisfied: charset-normalizer<4,>=2 in /Users/om-college/miniconda3/lib/python3.12/site-packages (from requests>=2.31.0->llama-index-core<0.11.0,>=0.10.37.post1->llama-index-readers-file) (2.0.4)\n",
      "Requirement already satisfied: urllib3<3,>=1.21.1 in /Users/om-college/miniconda3/lib/python3.12/site-packages (from requests>=2.31.0->llama-index-core<0.11.0,>=0.10.37.post1->llama-index-readers-file) (2.1.0)\n",
      "Requirement already satisfied: greenlet!=0.4.17 in /Users/om-college/miniconda3/lib/python3.12/site-packages (from SQLAlchemy[asyncio]>=1.4.49->llama-index-core<0.11.0,>=0.10.37.post1->llama-index-readers-file) (3.0.3)\n",
      "Requirement already satisfied: mypy-extensions>=0.3.0 in /Users/om-college/miniconda3/lib/python3.12/site-packages (from typing-inspect>=0.8.0->llama-index-core<0.11.0,>=0.10.37.post1->llama-index-readers-file) (1.0.0)\n",
      "Requirement already satisfied: marshmallow<4.0.0,>=3.18.0 in /Users/om-college/miniconda3/lib/python3.12/site-packages (from dataclasses-json->llama-index-core<0.11.0,>=0.10.37.post1->llama-index-readers-file) (3.21.3)\n",
      "Requirement already satisfied: python-dateutil>=2.8.2 in /Users/om-college/miniconda3/lib/python3.12/site-packages (from pandas->llama-index-core<0.11.0,>=0.10.37.post1->llama-index-readers-file) (2.9.0.post0)\n",
      "Requirement already satisfied: pytz>=2020.1 in /Users/om-college/miniconda3/lib/python3.12/site-packages (from pandas->llama-index-core<0.11.0,>=0.10.37.post1->llama-index-readers-file) (2024.1)\n",
      "Requirement already satisfied: tzdata>=2022.7 in /Users/om-college/miniconda3/lib/python3.12/site-packages (from pandas->llama-index-core<0.11.0,>=0.10.37.post1->llama-index-readers-file) (2024.1)\n",
      "Requirement already satisfied: packaging>=17.0 in /Users/om-college/miniconda3/lib/python3.12/site-packages (from marshmallow<4.0.0,>=3.18.0->dataclasses-json->llama-index-core<0.11.0,>=0.10.37.post1->llama-index-readers-file) (23.1)\n",
      "Requirement already satisfied: annotated-types>=0.4.0 in /Users/om-college/miniconda3/lib/python3.12/site-packages (from pydantic>=1.10->llamaindex-py-client<0.2.0,>=0.1.18->llama-index-core<0.11.0,>=0.10.37.post1->llama-index-readers-file) (0.7.0)\n",
      "Requirement already satisfied: pydantic-core==2.18.4 in /Users/om-college/miniconda3/lib/python3.12/site-packages (from pydantic>=1.10->llamaindex-py-client<0.2.0,>=0.1.18->llama-index-core<0.11.0,>=0.10.37.post1->llama-index-readers-file) (2.18.4)\n",
      "Requirement already satisfied: six>=1.5 in /Users/om-college/miniconda3/lib/python3.12/site-packages (from python-dateutil>=2.8.2->pandas->llama-index-core<0.11.0,>=0.10.37.post1->llama-index-readers-file) (1.16.0)\n"
     ]
    },
    {
     "data": {
      "text/html": [
       "<pre style=\"white-space:pre;overflow-x:auto;line-height:normal;font-family:Menlo,'DejaVu Sans Mono',consolas,'Courier New',monospace\"><span style=\"color: #7fbfbf; text-decoration-color: #7fbfbf\">2024-06-14 16:47:25 </span><span style=\"color: #000080; text-decoration-color: #000080\">INFO    </span> clarifai.client.input:                                                    <a href=\"file:///Users/om-college/miniconda3/lib/python3.12/site-packages/clarifai/client/input.py\" target=\"_blank\"><span style=\"color: #7f7f7f; text-decoration-color: #7f7f7f\">input.py</span></a><span style=\"color: #7f7f7f; text-decoration-color: #7f7f7f\">:</span><a href=\"file:///Users/om-college/miniconda3/lib/python3.12/site-packages/clarifai/client/input.py#706\" target=\"_blank\"><span style=\"color: #7f7f7f; text-decoration-color: #7f7f7f\">706</span></a>\n",
       "<span style=\"color: #7fbfbf; text-decoration-color: #7fbfbf\">                    </span>         Inputs Uploaded                                                           <span style=\"color: #7f7f7f; text-decoration-color: #7f7f7f\">            </span>\n",
       "<span style=\"color: #7fbfbf; text-decoration-color: #7fbfbf\">                    </span>         code: SUCCESS                                                             <span style=\"color: #7f7f7f; text-decoration-color: #7f7f7f\">            </span>\n",
       "<span style=\"color: #7fbfbf; text-decoration-color: #7fbfbf\">                    </span>         description: <span style=\"color: #008000; text-decoration-color: #008000\">\"Ok\"</span>                                                         <span style=\"color: #7f7f7f; text-decoration-color: #7f7f7f\">            </span>\n",
       "<span style=\"color: #7fbfbf; text-decoration-color: #7fbfbf\">                    </span>         details: <span style=\"color: #008000; text-decoration-color: #008000\">\"All inputs successfully added\"</span>                                  <span style=\"color: #7f7f7f; text-decoration-color: #7f7f7f\">            </span>\n",
       "<span style=\"color: #7fbfbf; text-decoration-color: #7fbfbf\">                    </span>         req_id: <span style=\"color: #008000; text-decoration-color: #008000\">\"e7e2a2d693bf4cc690990c3ba29a6022\"</span>                                <span style=\"color: #7f7f7f; text-decoration-color: #7f7f7f\">            </span>\n",
       "<span style=\"color: #7fbfbf; text-decoration-color: #7fbfbf\">                    </span>                                                                                   <span style=\"color: #7f7f7f; text-decoration-color: #7f7f7f\">            </span>\n",
       "</pre>\n"
      ],
      "text/plain": [
       "\u001b[2;36m2024-06-14 16:47:25\u001b[0m\u001b[2;36m \u001b[0m\u001b[34mINFO    \u001b[0m clarifai.client.input:                                                    \u001b]8;id=710845;file:///Users/om-college/miniconda3/lib/python3.12/site-packages/clarifai/client/input.py\u001b\\\u001b[2minput.py\u001b[0m\u001b]8;;\u001b\\\u001b[2m:\u001b[0m\u001b]8;id=794228;file:///Users/om-college/miniconda3/lib/python3.12/site-packages/clarifai/client/input.py#706\u001b\\\u001b[2m706\u001b[0m\u001b]8;;\u001b\\\n",
       "\u001b[2;36m                    \u001b[0m         Inputs Uploaded                                                           \u001b[2m            \u001b[0m\n",
       "\u001b[2;36m                    \u001b[0m         code: SUCCESS                                                             \u001b[2m            \u001b[0m\n",
       "\u001b[2;36m                    \u001b[0m         description: \u001b[32m\"Ok\"\u001b[0m                                                         \u001b[2m            \u001b[0m\n",
       "\u001b[2;36m                    \u001b[0m         details: \u001b[32m\"All inputs successfully added\"\u001b[0m                                  \u001b[2m            \u001b[0m\n",
       "\u001b[2;36m                    \u001b[0m         req_id: \u001b[32m\"e7e2a2d693bf4cc690990c3ba29a6022\"\u001b[0m                                \u001b[2m            \u001b[0m\n",
       "\u001b[2;36m                    \u001b[0m                                                                                   \u001b[2m            \u001b[0m\n"
      ]
     },
     "metadata": {},
     "output_type": "display_data"
    },
    {
     "name": "stdout",
     "output_type": "stream",
     "text": [
      "Upload response: None\n",
      "Error uploading document: 'NoneType' object has no attribute 'get'\n"
     ]
    }
   ],
   "source": [
    "from clarifai.rag import RAG\n",
    "\n",
    "PAT = '318e358a234f4537a4777674696f9807'\n",
    "user_id = \"askompatel-1\"\n",
    "\n",
    "# Set up the RAG agent using the PAT\n",
    "rag_agent = RAG.setup(user_id=user_id, pat=PAT)\n",
    "\n",
    "def upload_document(file_path):\n",
    "    try:\n",
    "        print(f\"Attempting to upload document: {file_path}\")\n",
    "        \n",
    "        # Upload the document to Clarifai's vector database\n",
    "        upload_response = rag_agent.upload(file_path=file_path)\n",
    "        print(\"Upload response:\", upload_response)\n",
    "        \n",
    "        if upload_response.get('status').get('description') == \"Ok\":\n",
    "            print(\"Document uploaded successfully to Clarifai's vector database.\")\n",
    "            return True\n",
    "        else:\n",
    "            print(\"Upload failed with response:\", upload_response)\n",
    "            return False\n",
    "    except FileNotFoundError:\n",
    "        print(f\"Error: File '{file_path}' not found.\")\n",
    "        return False\n",
    "    except Exception as e:\n",
    "        print(f\"Error uploading document: {str(e)}\")\n",
    "        return False\n",
    "\n",
    "def chat_with_document():\n",
    "    try:\n",
    "        messages = [{\"role\": \"human\", \"content\": \"Summarize this PDF\"}]\n",
    "        chat_response = rag_agent.chat(messages=messages)\n",
    "        print(\"Chat response:\", chat_response)\n",
    "        \n",
    "        if chat_response and 'summary' in chat_response:\n",
    "            print(\"Summarized PDF:\")\n",
    "            print(chat_response['summary'])\n",
    "        else:\n",
    "            print(\"No summary found.\")\n",
    "    except Exception as e:\n",
    "        print(f\"Error during the chat process: {str(e)}\")\n",
    "\n",
    "def start_app():\n",
    "    file_path = \"/Users/om-college/DataScience/LLM/Gemini/GeminiLLM/llm.pdf\"  # Specify your file path here\n",
    "    if upload_document(file_path):\n",
    "        chat_with_document()\n",
    "\n",
    "start_app()"
   ]
  },
  {
   "cell_type": "code",
   "execution_count": 30,
   "id": "0461a646",
   "metadata": {},
   "outputs": [
    {
     "data": {
      "text/html": [
       "<pre style=\"white-space:pre;overflow-x:auto;line-height:normal;font-family:Menlo,'DejaVu Sans Mono',consolas,'Courier New',monospace\"><span style=\"color: #7fbfbf; text-decoration-color: #7fbfbf\">2024-06-14 17:17:07 </span><span style=\"color: #000080; text-decoration-color: #000080\">INFO    </span> clarifai.client.user:                                                      <a href=\"file:///Users/om-college/miniconda3/lib/python3.12/site-packages/clarifai/client/user.py\" target=\"_blank\"><span style=\"color: #7f7f7f; text-decoration-color: #7f7f7f\">user.py</span></a><span style=\"color: #7f7f7f; text-decoration-color: #7f7f7f\">:</span><a href=\"file:///Users/om-college/miniconda3/lib/python3.12/site-packages/clarifai/client/user.py#134\" target=\"_blank\"><span style=\"color: #7f7f7f; text-decoration-color: #7f7f7f\">134</span></a>\n",
       "<span style=\"color: #7fbfbf; text-decoration-color: #7fbfbf\">                    </span>         App created                                                                <span style=\"color: #7f7f7f; text-decoration-color: #7f7f7f\">           </span>\n",
       "<span style=\"color: #7fbfbf; text-decoration-color: #7fbfbf\">                    </span>         code: SUCCESS                                                              <span style=\"color: #7f7f7f; text-decoration-color: #7f7f7f\">           </span>\n",
       "<span style=\"color: #7fbfbf; text-decoration-color: #7fbfbf\">                    </span>         description: <span style=\"color: #008000; text-decoration-color: #008000\">\"Ok\"</span>                                                          <span style=\"color: #7f7f7f; text-decoration-color: #7f7f7f\">           </span>\n",
       "<span style=\"color: #7fbfbf; text-decoration-color: #7fbfbf\">                    </span>         req_id: <span style=\"color: #008000; text-decoration-color: #008000\">\"f16e8906ef484cb6989120d58baae184\"</span>                                 <span style=\"color: #7f7f7f; text-decoration-color: #7f7f7f\">           </span>\n",
       "<span style=\"color: #7fbfbf; text-decoration-color: #7fbfbf\">                    </span>                                                                                    <span style=\"color: #7f7f7f; text-decoration-color: #7f7f7f\">           </span>\n",
       "</pre>\n"
      ],
      "text/plain": [
       "\u001b[2;36m2024-06-14 17:17:07\u001b[0m\u001b[2;36m \u001b[0m\u001b[34mINFO    \u001b[0m clarifai.client.user:                                                      \u001b]8;id=377284;file:///Users/om-college/miniconda3/lib/python3.12/site-packages/clarifai/client/user.py\u001b\\\u001b[2muser.py\u001b[0m\u001b]8;;\u001b\\\u001b[2m:\u001b[0m\u001b]8;id=472047;file:///Users/om-college/miniconda3/lib/python3.12/site-packages/clarifai/client/user.py#134\u001b\\\u001b[2m134\u001b[0m\u001b]8;;\u001b\\\n",
       "\u001b[2;36m                    \u001b[0m         App created                                                                \u001b[2m           \u001b[0m\n",
       "\u001b[2;36m                    \u001b[0m         code: SUCCESS                                                              \u001b[2m           \u001b[0m\n",
       "\u001b[2;36m                    \u001b[0m         description: \u001b[32m\"Ok\"\u001b[0m                                                          \u001b[2m           \u001b[0m\n",
       "\u001b[2;36m                    \u001b[0m         req_id: \u001b[32m\"f16e8906ef484cb6989120d58baae184\"\u001b[0m                                 \u001b[2m           \u001b[0m\n",
       "\u001b[2;36m                    \u001b[0m                                                                                    \u001b[2m           \u001b[0m\n"
      ]
     },
     "metadata": {},
     "output_type": "display_data"
    },
    {
     "data": {
      "text/html": [
       "<pre style=\"white-space:pre;overflow-x:auto;line-height:normal;font-family:Menlo,'DejaVu Sans Mono',consolas,'Courier New',monospace\"><span style=\"color: #7fbfbf; text-decoration-color: #7fbfbf\">2024-06-14 17:17:08 </span><span style=\"color: #000080; text-decoration-color: #000080\">INFO    </span> clarifai.client.app:                                                        <a href=\"file:///Users/om-college/miniconda3/lib/python3.12/site-packages/clarifai/client/app.py\" target=\"_blank\"><span style=\"color: #7f7f7f; text-decoration-color: #7f7f7f\">app.py</span></a><span style=\"color: #7f7f7f; text-decoration-color: #7f7f7f\">:</span><a href=\"file:///Users/om-college/miniconda3/lib/python3.12/site-packages/clarifai/client/app.py#343\" target=\"_blank\"><span style=\"color: #7f7f7f; text-decoration-color: #7f7f7f\">343</span></a>\n",
       "<span style=\"color: #7fbfbf; text-decoration-color: #7fbfbf\">                    </span>         Model created                                                               <span style=\"color: #7f7f7f; text-decoration-color: #7f7f7f\">          </span>\n",
       "<span style=\"color: #7fbfbf; text-decoration-color: #7fbfbf\">                    </span>         code: SUCCESS                                                               <span style=\"color: #7f7f7f; text-decoration-color: #7f7f7f\">          </span>\n",
       "<span style=\"color: #7fbfbf; text-decoration-color: #7fbfbf\">                    </span>         description: <span style=\"color: #008000; text-decoration-color: #008000\">\"Ok\"</span>                                                           <span style=\"color: #7f7f7f; text-decoration-color: #7f7f7f\">          </span>\n",
       "<span style=\"color: #7fbfbf; text-decoration-color: #7fbfbf\">                    </span>         req_id: <span style=\"color: #008000; text-decoration-color: #008000\">\"ac8dbeb4ad694a12b5103a2a69aebed2\"</span>                                  <span style=\"color: #7f7f7f; text-decoration-color: #7f7f7f\">          </span>\n",
       "<span style=\"color: #7fbfbf; text-decoration-color: #7fbfbf\">                    </span>                                                                                     <span style=\"color: #7f7f7f; text-decoration-color: #7f7f7f\">          </span>\n",
       "</pre>\n"
      ],
      "text/plain": [
       "\u001b[2;36m2024-06-14 17:17:08\u001b[0m\u001b[2;36m \u001b[0m\u001b[34mINFO    \u001b[0m clarifai.client.app:                                                        \u001b]8;id=766757;file:///Users/om-college/miniconda3/lib/python3.12/site-packages/clarifai/client/app.py\u001b\\\u001b[2mapp.py\u001b[0m\u001b]8;;\u001b\\\u001b[2m:\u001b[0m\u001b]8;id=187117;file:///Users/om-college/miniconda3/lib/python3.12/site-packages/clarifai/client/app.py#343\u001b\\\u001b[2m343\u001b[0m\u001b]8;;\u001b\\\n",
       "\u001b[2;36m                    \u001b[0m         Model created                                                               \u001b[2m          \u001b[0m\n",
       "\u001b[2;36m                    \u001b[0m         code: SUCCESS                                                               \u001b[2m          \u001b[0m\n",
       "\u001b[2;36m                    \u001b[0m         description: \u001b[32m\"Ok\"\u001b[0m                                                           \u001b[2m          \u001b[0m\n",
       "\u001b[2;36m                    \u001b[0m         req_id: \u001b[32m\"ac8dbeb4ad694a12b5103a2a69aebed2\"\u001b[0m                                  \u001b[2m          \u001b[0m\n",
       "\u001b[2;36m                    \u001b[0m                                                                                     \u001b[2m          \u001b[0m\n"
      ]
     },
     "metadata": {},
     "output_type": "display_data"
    },
    {
     "data": {
      "text/html": [
       "<pre style=\"white-space:pre;overflow-x:auto;line-height:normal;font-family:Menlo,'DejaVu Sans Mono',consolas,'Courier New',monospace\"><span style=\"color: #7fbfbf; text-decoration-color: #7fbfbf\">2024-06-14 17:17:09 </span><span style=\"color: #000080; text-decoration-color: #000080\">INFO    </span> clarifai.client.model:                                                    <a href=\"file:///Users/om-college/miniconda3/lib/python3.12/site-packages/clarifai/client/model.py\" target=\"_blank\"><span style=\"color: #7f7f7f; text-decoration-color: #7f7f7f\">model.py</span></a><span style=\"color: #7f7f7f; text-decoration-color: #7f7f7f\">:</span><a href=\"file:///Users/om-college/miniconda3/lib/python3.12/site-packages/clarifai/client/model.py#353\" target=\"_blank\"><span style=\"color: #7f7f7f; text-decoration-color: #7f7f7f\">353</span></a>\n",
       "<span style=\"color: #7fbfbf; text-decoration-color: #7fbfbf\">                    </span>         Model Version created                                                     <span style=\"color: #7f7f7f; text-decoration-color: #7f7f7f\">            </span>\n",
       "<span style=\"color: #7fbfbf; text-decoration-color: #7fbfbf\">                    </span>         code: SUCCESS                                                             <span style=\"color: #7f7f7f; text-decoration-color: #7f7f7f\">            </span>\n",
       "<span style=\"color: #7fbfbf; text-decoration-color: #7fbfbf\">                    </span>         description: <span style=\"color: #008000; text-decoration-color: #008000\">\"Ok\"</span>                                                         <span style=\"color: #7f7f7f; text-decoration-color: #7f7f7f\">            </span>\n",
       "<span style=\"color: #7fbfbf; text-decoration-color: #7fbfbf\">                    </span>         req_id: <span style=\"color: #008000; text-decoration-color: #008000\">\"dbf28e8012a64ae7b06f6b4647c633aa\"</span>                                <span style=\"color: #7f7f7f; text-decoration-color: #7f7f7f\">            </span>\n",
       "<span style=\"color: #7fbfbf; text-decoration-color: #7fbfbf\">                    </span>                                                                                   <span style=\"color: #7f7f7f; text-decoration-color: #7f7f7f\">            </span>\n",
       "</pre>\n"
      ],
      "text/plain": [
       "\u001b[2;36m2024-06-14 17:17:09\u001b[0m\u001b[2;36m \u001b[0m\u001b[34mINFO    \u001b[0m clarifai.client.model:                                                    \u001b]8;id=673526;file:///Users/om-college/miniconda3/lib/python3.12/site-packages/clarifai/client/model.py\u001b\\\u001b[2mmodel.py\u001b[0m\u001b]8;;\u001b\\\u001b[2m:\u001b[0m\u001b]8;id=157382;file:///Users/om-college/miniconda3/lib/python3.12/site-packages/clarifai/client/model.py#353\u001b\\\u001b[2m353\u001b[0m\u001b]8;;\u001b\\\n",
       "\u001b[2;36m                    \u001b[0m         Model Version created                                                     \u001b[2m            \u001b[0m\n",
       "\u001b[2;36m                    \u001b[0m         code: SUCCESS                                                             \u001b[2m            \u001b[0m\n",
       "\u001b[2;36m                    \u001b[0m         description: \u001b[32m\"Ok\"\u001b[0m                                                         \u001b[2m            \u001b[0m\n",
       "\u001b[2;36m                    \u001b[0m         req_id: \u001b[32m\"dbf28e8012a64ae7b06f6b4647c633aa\"\u001b[0m                                \u001b[2m            \u001b[0m\n",
       "\u001b[2;36m                    \u001b[0m                                                                                   \u001b[2m            \u001b[0m\n"
      ]
     },
     "metadata": {},
     "output_type": "display_data"
    },
    {
     "data": {
      "text/html": [
       "<pre style=\"white-space:pre;overflow-x:auto;line-height:normal;font-family:Menlo,'DejaVu Sans Mono',consolas,'Courier New',monospace\"><span style=\"color: #7fbfbf; text-decoration-color: #7fbfbf\">2024-06-14 17:17:10 </span><span style=\"color: #000080; text-decoration-color: #000080\">INFO    </span> clarifai.client.app:                                                        <a href=\"file:///Users/om-college/miniconda3/lib/python3.12/site-packages/clarifai/client/app.py\" target=\"_blank\"><span style=\"color: #7f7f7f; text-decoration-color: #7f7f7f\">app.py</span></a><span style=\"color: #7f7f7f; text-decoration-color: #7f7f7f\">:</span><a href=\"file:///Users/om-college/miniconda3/lib/python3.12/site-packages/clarifai/client/app.py#431\" target=\"_blank\"><span style=\"color: #7f7f7f; text-decoration-color: #7f7f7f\">431</span></a>\n",
       "<span style=\"color: #7fbfbf; text-decoration-color: #7fbfbf\">                    </span>         Workflow created                                                            <span style=\"color: #7f7f7f; text-decoration-color: #7f7f7f\">          </span>\n",
       "<span style=\"color: #7fbfbf; text-decoration-color: #7fbfbf\">                    </span>         code: SUCCESS                                                               <span style=\"color: #7f7f7f; text-decoration-color: #7f7f7f\">          </span>\n",
       "<span style=\"color: #7fbfbf; text-decoration-color: #7fbfbf\">                    </span>         description: <span style=\"color: #008000; text-decoration-color: #008000\">\"Ok\"</span>                                                           <span style=\"color: #7f7f7f; text-decoration-color: #7f7f7f\">          </span>\n",
       "<span style=\"color: #7fbfbf; text-decoration-color: #7fbfbf\">                    </span>         req_id: <span style=\"color: #008000; text-decoration-color: #008000\">\"59b9820ff8234695982e451de9dc790e\"</span>                                  <span style=\"color: #7f7f7f; text-decoration-color: #7f7f7f\">          </span>\n",
       "<span style=\"color: #7fbfbf; text-decoration-color: #7fbfbf\">                    </span>                                                                                     <span style=\"color: #7f7f7f; text-decoration-color: #7f7f7f\">          </span>\n",
       "</pre>\n"
      ],
      "text/plain": [
       "\u001b[2;36m2024-06-14 17:17:10\u001b[0m\u001b[2;36m \u001b[0m\u001b[34mINFO    \u001b[0m clarifai.client.app:                                                        \u001b]8;id=404727;file:///Users/om-college/miniconda3/lib/python3.12/site-packages/clarifai/client/app.py\u001b\\\u001b[2mapp.py\u001b[0m\u001b]8;;\u001b\\\u001b[2m:\u001b[0m\u001b]8;id=695344;file:///Users/om-college/miniconda3/lib/python3.12/site-packages/clarifai/client/app.py#431\u001b\\\u001b[2m431\u001b[0m\u001b]8;;\u001b\\\n",
       "\u001b[2;36m                    \u001b[0m         Workflow created                                                            \u001b[2m          \u001b[0m\n",
       "\u001b[2;36m                    \u001b[0m         code: SUCCESS                                                               \u001b[2m          \u001b[0m\n",
       "\u001b[2;36m                    \u001b[0m         description: \u001b[32m\"Ok\"\u001b[0m                                                           \u001b[2m          \u001b[0m\n",
       "\u001b[2;36m                    \u001b[0m         req_id: \u001b[32m\"59b9820ff8234695982e451de9dc790e\"\u001b[0m                                  \u001b[2m          \u001b[0m\n",
       "\u001b[2;36m                    \u001b[0m                                                                                     \u001b[2m          \u001b[0m\n"
      ]
     },
     "metadata": {},
     "output_type": "display_data"
    },
    {
     "data": {
      "text/html": [
       "<pre style=\"white-space:pre;overflow-x:auto;line-height:normal;font-family:Menlo,'DejaVu Sans Mono',consolas,'Courier New',monospace\"><span style=\"color: #008000; text-decoration-color: #008000\"> Input</span>\n",
       "<span style=\"color: #c0c0c0; text-decoration-color: #c0c0c0\">╚══ </span><span style=\"color: #c0c0c0; text-decoration-color: #c0c0c0; font-style: italic\">                              Node: rag-prompter                               </span>\n",
       "<span style=\"color: #c0c0c0; text-decoration-color: #c0c0c0\">    </span><span style=\"color: #c0c0c0; text-decoration-color: #c0c0c0\">┏━━━━━━━━━━━━━━━━━━━━━━━━━┳━━━━━━━━━━━━━━━┳━━━━━━━━━━━━━━━━━━━━┳━━━━━━━━━━━━━━┓</span>\n",
       "<span style=\"color: #c0c0c0; text-decoration-color: #c0c0c0\">    </span><span style=\"color: #c0c0c0; text-decoration-color: #c0c0c0\">┃</span><span style=\"color: #000080; text-decoration-color: #000080\"> id                      </span><span style=\"color: #c0c0c0; text-decoration-color: #c0c0c0\">┃</span><span style=\"color: #000080; text-decoration-color: #000080\"> model_type_id </span><span style=\"color: #c0c0c0; text-decoration-color: #c0c0c0\">┃</span><span style=\"color: #000080; text-decoration-color: #000080\"> app_id             </span><span style=\"color: #c0c0c0; text-decoration-color: #c0c0c0\">┃</span><span style=\"color: #000080; text-decoration-color: #000080\"> user_id      </span><span style=\"color: #c0c0c0; text-decoration-color: #c0c0c0\">┃</span>\n",
       "<span style=\"color: #c0c0c0; text-decoration-color: #c0c0c0\">    </span><span style=\"color: #c0c0c0; text-decoration-color: #c0c0c0\">┡━━━━━━━━━━━━━━━━━━━━━━━━━╇━━━━━━━━━━━━━━━╇━━━━━━━━━━━━━━━━━━━━╇━━━━━━━━━━━━━━┩</span>\n",
       "<span style=\"color: #c0c0c0; text-decoration-color: #c0c0c0\">    </span><span style=\"color: #c0c0c0; text-decoration-color: #c0c0c0\">│ rag-prompter-8cc253e67f │ rag-prompter  │ rag_app_8cc253e67f │ askompatel-1 │</span>\n",
       "<span style=\"color: #c0c0c0; text-decoration-color: #c0c0c0\">    </span><span style=\"color: #c0c0c0; text-decoration-color: #c0c0c0\">└─────────────────────────┴───────────────┴────────────────────┴──────────────┘</span>\n",
       "<span style=\"color: #c0c0c0; text-decoration-color: #c0c0c0\">    ╚══ </span><span style=\"color: #008000; text-decoration-color: #008000; font-style: italic\">                           Node: llm                            </span>\n",
       "<span style=\"color: #c0c0c0; text-decoration-color: #c0c0c0\">        </span><span style=\"color: #008000; text-decoration-color: #008000\">┏━━━━━━━━━━━━━━━━━━━━━┳━━━━━━━━━━━━━━━┳━━━━━━━━━━━━┳━━━━━━━━━━━┓</span>\n",
       "<span style=\"color: #c0c0c0; text-decoration-color: #c0c0c0\">        </span><span style=\"color: #008000; text-decoration-color: #008000\">┃</span><span style=\"color: #000080; text-decoration-color: #000080\"> id                  </span><span style=\"color: #008000; text-decoration-color: #008000\">┃</span><span style=\"color: #000080; text-decoration-color: #000080\"> model_type_id </span><span style=\"color: #008000; text-decoration-color: #008000\">┃</span><span style=\"color: #000080; text-decoration-color: #000080\"> app_id     </span><span style=\"color: #008000; text-decoration-color: #008000\">┃</span><span style=\"color: #000080; text-decoration-color: #000080\"> user_id   </span><span style=\"color: #008000; text-decoration-color: #008000\">┃</span>\n",
       "<span style=\"color: #c0c0c0; text-decoration-color: #c0c0c0\">        </span><span style=\"color: #008000; text-decoration-color: #008000\">┡━━━━━━━━━━━━━━━━━━━━━╇━━━━━━━━━━━━━━━╇━━━━━━━━━━━━╇━━━━━━━━━━━┩</span>\n",
       "<span style=\"color: #c0c0c0; text-decoration-color: #c0c0c0\">        </span><span style=\"color: #008000; text-decoration-color: #008000\">│ mistral-7B-Instruct │ text-to-text  │ completion │ mistralai │</span>\n",
       "<span style=\"color: #c0c0c0; text-decoration-color: #c0c0c0\">        </span><span style=\"color: #008000; text-decoration-color: #008000\">└─────────────────────┴───────────────┴────────────┴───────────┘</span>\n",
       "</pre>\n"
      ],
      "text/plain": [
       "\u001b[32m Input\u001b[0m\n",
       "\u001b[37m╚══ \u001b[0m\u001b[3;37m                              Node: rag-prompter                               \u001b[0m\n",
       "\u001b[37m    \u001b[0m\u001b[37m┏━━━━━━━━━━━━━━━━━━━━━━━━━┳━━━━━━━━━━━━━━━┳━━━━━━━━━━━━━━━━━━━━┳━━━━━━━━━━━━━━┓\u001b[0m\n",
       "\u001b[37m    \u001b[0m\u001b[37m┃\u001b[0m\u001b[34m \u001b[0m\u001b[34mid                     \u001b[0m\u001b[34m \u001b[0m\u001b[37m┃\u001b[0m\u001b[34m \u001b[0m\u001b[34mmodel_type_id\u001b[0m\u001b[34m \u001b[0m\u001b[37m┃\u001b[0m\u001b[34m \u001b[0m\u001b[34mapp_id            \u001b[0m\u001b[34m \u001b[0m\u001b[37m┃\u001b[0m\u001b[34m \u001b[0m\u001b[34muser_id     \u001b[0m\u001b[34m \u001b[0m\u001b[37m┃\u001b[0m\n",
       "\u001b[37m    \u001b[0m\u001b[37m┡━━━━━━━━━━━━━━━━━━━━━━━━━╇━━━━━━━━━━━━━━━╇━━━━━━━━━━━━━━━━━━━━╇━━━━━━━━━━━━━━┩\u001b[0m\n",
       "\u001b[37m    \u001b[0m\u001b[37m│\u001b[0m\u001b[37m \u001b[0m\u001b[37mrag-prompter-8cc253e67f\u001b[0m\u001b[37m \u001b[0m\u001b[37m│\u001b[0m\u001b[37m \u001b[0m\u001b[37mrag-prompter \u001b[0m\u001b[37m \u001b[0m\u001b[37m│\u001b[0m\u001b[37m \u001b[0m\u001b[37mrag_app_8cc253e67f\u001b[0m\u001b[37m \u001b[0m\u001b[37m│\u001b[0m\u001b[37m \u001b[0m\u001b[37maskompatel-1\u001b[0m\u001b[37m \u001b[0m\u001b[37m│\u001b[0m\n",
       "\u001b[37m    \u001b[0m\u001b[37m└─────────────────────────┴───────────────┴────────────────────┴──────────────┘\u001b[0m\n",
       "\u001b[37m    \u001b[0m\u001b[37m╚══ \u001b[0m\u001b[3;32m                           Node: llm                            \u001b[0m\n",
       "\u001b[37m    \u001b[0m\u001b[37m    \u001b[0m\u001b[32m┏━━━━━━━━━━━━━━━━━━━━━┳━━━━━━━━━━━━━━━┳━━━━━━━━━━━━┳━━━━━━━━━━━┓\u001b[0m\n",
       "\u001b[37m    \u001b[0m\u001b[37m    \u001b[0m\u001b[32m┃\u001b[0m\u001b[34m \u001b[0m\u001b[34mid                 \u001b[0m\u001b[34m \u001b[0m\u001b[32m┃\u001b[0m\u001b[34m \u001b[0m\u001b[34mmodel_type_id\u001b[0m\u001b[34m \u001b[0m\u001b[32m┃\u001b[0m\u001b[34m \u001b[0m\u001b[34mapp_id    \u001b[0m\u001b[34m \u001b[0m\u001b[32m┃\u001b[0m\u001b[34m \u001b[0m\u001b[34muser_id  \u001b[0m\u001b[34m \u001b[0m\u001b[32m┃\u001b[0m\n",
       "\u001b[37m    \u001b[0m\u001b[37m    \u001b[0m\u001b[32m┡━━━━━━━━━━━━━━━━━━━━━╇━━━━━━━━━━━━━━━╇━━━━━━━━━━━━╇━━━━━━━━━━━┩\u001b[0m\n",
       "\u001b[37m    \u001b[0m\u001b[37m    \u001b[0m\u001b[32m│\u001b[0m\u001b[32m \u001b[0m\u001b[32mmistral-7B-Instruct\u001b[0m\u001b[32m \u001b[0m\u001b[32m│\u001b[0m\u001b[32m \u001b[0m\u001b[32mtext-to-text \u001b[0m\u001b[32m \u001b[0m\u001b[32m│\u001b[0m\u001b[32m \u001b[0m\u001b[32mcompletion\u001b[0m\u001b[32m \u001b[0m\u001b[32m│\u001b[0m\u001b[32m \u001b[0m\u001b[32mmistralai\u001b[0m\u001b[32m \u001b[0m\u001b[32m│\u001b[0m\n",
       "\u001b[37m    \u001b[0m\u001b[37m    \u001b[0m\u001b[32m└─────────────────────┴───────────────┴────────────┴───────────┘\u001b[0m\n"
      ]
     },
     "metadata": {},
     "output_type": "display_data"
    },
    {
     "name": "stdout",
     "output_type": "stream",
     "text": [
      "Attempting to upload document: /Users/om-college/DataScience/LLM/Gemini/GeminiLLM/CV.pdf\n",
      "Requirement already satisfied: llama-index-readers-file in /Users/om-college/miniconda3/lib/python3.12/site-packages (0.1.25)\n",
      "Requirement already satisfied: beautifulsoup4<5.0.0,>=4.12.3 in /Users/om-college/miniconda3/lib/python3.12/site-packages (from llama-index-readers-file) (4.12.3)\n",
      "Requirement already satisfied: llama-index-core<0.11.0,>=0.10.37.post1 in /Users/om-college/miniconda3/lib/python3.12/site-packages (from llama-index-readers-file) (0.10.44)\n",
      "Requirement already satisfied: pypdf<5.0.0,>=4.0.1 in /Users/om-college/miniconda3/lib/python3.12/site-packages (from llama-index-readers-file) (4.2.0)\n",
      "Requirement already satisfied: striprtf<0.0.27,>=0.0.26 in /Users/om-college/miniconda3/lib/python3.12/site-packages (from llama-index-readers-file) (0.0.26)\n",
      "Requirement already satisfied: soupsieve>1.2 in /Users/om-college/miniconda3/lib/python3.12/site-packages (from beautifulsoup4<5.0.0,>=4.12.3->llama-index-readers-file) (2.5)\n",
      "Requirement already satisfied: PyYAML>=6.0.1 in /Users/om-college/miniconda3/lib/python3.12/site-packages (from llama-index-core<0.11.0,>=0.10.37.post1->llama-index-readers-file) (6.0.1)\n",
      "Requirement already satisfied: SQLAlchemy>=1.4.49 in /Users/om-college/miniconda3/lib/python3.12/site-packages (from SQLAlchemy[asyncio]>=1.4.49->llama-index-core<0.11.0,>=0.10.37.post1->llama-index-readers-file) (2.0.30)\n",
      "Requirement already satisfied: aiohttp<4.0.0,>=3.8.6 in /Users/om-college/miniconda3/lib/python3.12/site-packages (from llama-index-core<0.11.0,>=0.10.37.post1->llama-index-readers-file) (3.9.5)\n",
      "Requirement already satisfied: dataclasses-json in /Users/om-college/miniconda3/lib/python3.12/site-packages (from llama-index-core<0.11.0,>=0.10.37.post1->llama-index-readers-file) (0.6.7)\n",
      "Requirement already satisfied: deprecated>=1.2.9.3 in /Users/om-college/miniconda3/lib/python3.12/site-packages (from llama-index-core<0.11.0,>=0.10.37.post1->llama-index-readers-file) (1.2.14)\n",
      "Requirement already satisfied: dirtyjson<2.0.0,>=1.0.8 in /Users/om-college/miniconda3/lib/python3.12/site-packages (from llama-index-core<0.11.0,>=0.10.37.post1->llama-index-readers-file) (1.0.8)\n",
      "Requirement already satisfied: fsspec>=2023.5.0 in /Users/om-college/miniconda3/lib/python3.12/site-packages (from llama-index-core<0.11.0,>=0.10.37.post1->llama-index-readers-file) (2024.6.0)\n",
      "Requirement already satisfied: httpx in /Users/om-college/miniconda3/lib/python3.12/site-packages (from llama-index-core<0.11.0,>=0.10.37.post1->llama-index-readers-file) (0.27.0)\n",
      "Requirement already satisfied: llamaindex-py-client<0.2.0,>=0.1.18 in /Users/om-college/miniconda3/lib/python3.12/site-packages (from llama-index-core<0.11.0,>=0.10.37.post1->llama-index-readers-file) (0.1.19)\n",
      "Requirement already satisfied: nest-asyncio<2.0.0,>=1.5.8 in /Users/om-college/miniconda3/lib/python3.12/site-packages (from llama-index-core<0.11.0,>=0.10.37.post1->llama-index-readers-file) (1.6.0)\n",
      "Requirement already satisfied: networkx>=3.0 in /Users/om-college/miniconda3/lib/python3.12/site-packages (from llama-index-core<0.11.0,>=0.10.37.post1->llama-index-readers-file) (3.3)\n",
      "Requirement already satisfied: nltk<4.0.0,>=3.8.1 in /Users/om-college/miniconda3/lib/python3.12/site-packages (from llama-index-core<0.11.0,>=0.10.37.post1->llama-index-readers-file) (3.8.1)\n",
      "Requirement already satisfied: numpy in /Users/om-college/miniconda3/lib/python3.12/site-packages (from llama-index-core<0.11.0,>=0.10.37.post1->llama-index-readers-file) (1.26.4)\n",
      "Requirement already satisfied: openai>=1.1.0 in /Users/om-college/miniconda3/lib/python3.12/site-packages (from llama-index-core<0.11.0,>=0.10.37.post1->llama-index-readers-file) (1.34.0)\n",
      "Requirement already satisfied: pandas in /Users/om-college/miniconda3/lib/python3.12/site-packages (from llama-index-core<0.11.0,>=0.10.37.post1->llama-index-readers-file) (2.2.2)\n",
      "Requirement already satisfied: pillow>=9.0.0 in /Users/om-college/miniconda3/lib/python3.12/site-packages (from llama-index-core<0.11.0,>=0.10.37.post1->llama-index-readers-file) (10.3.0)\n",
      "Requirement already satisfied: requests>=2.31.0 in /Users/om-college/miniconda3/lib/python3.12/site-packages (from llama-index-core<0.11.0,>=0.10.37.post1->llama-index-readers-file) (2.31.0)\n",
      "Requirement already satisfied: tenacity<9.0.0,>=8.2.0 in /Users/om-college/miniconda3/lib/python3.12/site-packages (from llama-index-core<0.11.0,>=0.10.37.post1->llama-index-readers-file) (8.3.0)\n",
      "Requirement already satisfied: tiktoken>=0.3.3 in /Users/om-college/miniconda3/lib/python3.12/site-packages (from llama-index-core<0.11.0,>=0.10.37.post1->llama-index-readers-file) (0.7.0)\n",
      "Requirement already satisfied: tqdm<5.0.0,>=4.66.1 in /Users/om-college/miniconda3/lib/python3.12/site-packages (from llama-index-core<0.11.0,>=0.10.37.post1->llama-index-readers-file) (4.66.4)\n",
      "Requirement already satisfied: typing-extensions>=4.5.0 in /Users/om-college/miniconda3/lib/python3.12/site-packages (from llama-index-core<0.11.0,>=0.10.37.post1->llama-index-readers-file) (4.11.0)\n",
      "Requirement already satisfied: typing-inspect>=0.8.0 in /Users/om-college/miniconda3/lib/python3.12/site-packages (from llama-index-core<0.11.0,>=0.10.37.post1->llama-index-readers-file) (0.9.0)\n",
      "Requirement already satisfied: wrapt in /Users/om-college/miniconda3/lib/python3.12/site-packages (from llama-index-core<0.11.0,>=0.10.37.post1->llama-index-readers-file) (1.16.0)\n",
      "Requirement already satisfied: aiosignal>=1.1.2 in /Users/om-college/miniconda3/lib/python3.12/site-packages (from aiohttp<4.0.0,>=3.8.6->llama-index-core<0.11.0,>=0.10.37.post1->llama-index-readers-file) (1.3.1)\n",
      "Requirement already satisfied: attrs>=17.3.0 in /Users/om-college/miniconda3/lib/python3.12/site-packages (from aiohttp<4.0.0,>=3.8.6->llama-index-core<0.11.0,>=0.10.37.post1->llama-index-readers-file) (23.2.0)\n",
      "Requirement already satisfied: frozenlist>=1.1.1 in /Users/om-college/miniconda3/lib/python3.12/site-packages (from aiohttp<4.0.0,>=3.8.6->llama-index-core<0.11.0,>=0.10.37.post1->llama-index-readers-file) (1.4.1)\n",
      "Requirement already satisfied: multidict<7.0,>=4.5 in /Users/om-college/miniconda3/lib/python3.12/site-packages (from aiohttp<4.0.0,>=3.8.6->llama-index-core<0.11.0,>=0.10.37.post1->llama-index-readers-file) (6.0.5)\n",
      "Requirement already satisfied: yarl<2.0,>=1.0 in /Users/om-college/miniconda3/lib/python3.12/site-packages (from aiohttp<4.0.0,>=3.8.6->llama-index-core<0.11.0,>=0.10.37.post1->llama-index-readers-file) (1.9.4)\n",
      "Requirement already satisfied: pydantic>=1.10 in /Users/om-college/miniconda3/lib/python3.12/site-packages (from llamaindex-py-client<0.2.0,>=0.1.18->llama-index-core<0.11.0,>=0.10.37.post1->llama-index-readers-file) (2.7.4)\n",
      "Requirement already satisfied: anyio in /Users/om-college/miniconda3/lib/python3.12/site-packages (from httpx->llama-index-core<0.11.0,>=0.10.37.post1->llama-index-readers-file) (4.4.0)\n",
      "Requirement already satisfied: certifi in /Users/om-college/miniconda3/lib/python3.12/site-packages (from httpx->llama-index-core<0.11.0,>=0.10.37.post1->llama-index-readers-file) (2024.2.2)\n",
      "Requirement already satisfied: httpcore==1.* in /Users/om-college/miniconda3/lib/python3.12/site-packages (from httpx->llama-index-core<0.11.0,>=0.10.37.post1->llama-index-readers-file) (1.0.5)\n",
      "Requirement already satisfied: idna in /Users/om-college/miniconda3/lib/python3.12/site-packages (from httpx->llama-index-core<0.11.0,>=0.10.37.post1->llama-index-readers-file) (3.4)\n",
      "Requirement already satisfied: sniffio in /Users/om-college/miniconda3/lib/python3.12/site-packages (from httpx->llama-index-core<0.11.0,>=0.10.37.post1->llama-index-readers-file) (1.3.1)\n",
      "Requirement already satisfied: h11<0.15,>=0.13 in /Users/om-college/miniconda3/lib/python3.12/site-packages (from httpcore==1.*->httpx->llama-index-core<0.11.0,>=0.10.37.post1->llama-index-readers-file) (0.14.0)\n",
      "Requirement already satisfied: click in /Users/om-college/miniconda3/lib/python3.12/site-packages (from nltk<4.0.0,>=3.8.1->llama-index-core<0.11.0,>=0.10.37.post1->llama-index-readers-file) (8.1.7)\n",
      "Requirement already satisfied: joblib in /Users/om-college/miniconda3/lib/python3.12/site-packages (from nltk<4.0.0,>=3.8.1->llama-index-core<0.11.0,>=0.10.37.post1->llama-index-readers-file) (1.4.2)\n",
      "Requirement already satisfied: regex>=2021.8.3 in /Users/om-college/miniconda3/lib/python3.12/site-packages (from nltk<4.0.0,>=3.8.1->llama-index-core<0.11.0,>=0.10.37.post1->llama-index-readers-file) (2024.5.15)\n",
      "Requirement already satisfied: distro<2,>=1.7.0 in /Users/om-college/miniconda3/lib/python3.12/site-packages (from openai>=1.1.0->llama-index-core<0.11.0,>=0.10.37.post1->llama-index-readers-file) (1.8.0)\n",
      "Requirement already satisfied: charset-normalizer<4,>=2 in /Users/om-college/miniconda3/lib/python3.12/site-packages (from requests>=2.31.0->llama-index-core<0.11.0,>=0.10.37.post1->llama-index-readers-file) (2.0.4)\n",
      "Requirement already satisfied: urllib3<3,>=1.21.1 in /Users/om-college/miniconda3/lib/python3.12/site-packages (from requests>=2.31.0->llama-index-core<0.11.0,>=0.10.37.post1->llama-index-readers-file) (2.1.0)\n",
      "Requirement already satisfied: greenlet!=0.4.17 in /Users/om-college/miniconda3/lib/python3.12/site-packages (from SQLAlchemy[asyncio]>=1.4.49->llama-index-core<0.11.0,>=0.10.37.post1->llama-index-readers-file) (3.0.3)\n",
      "Requirement already satisfied: mypy-extensions>=0.3.0 in /Users/om-college/miniconda3/lib/python3.12/site-packages (from typing-inspect>=0.8.0->llama-index-core<0.11.0,>=0.10.37.post1->llama-index-readers-file) (1.0.0)\n",
      "Requirement already satisfied: marshmallow<4.0.0,>=3.18.0 in /Users/om-college/miniconda3/lib/python3.12/site-packages (from dataclasses-json->llama-index-core<0.11.0,>=0.10.37.post1->llama-index-readers-file) (3.21.3)\n",
      "Requirement already satisfied: python-dateutil>=2.8.2 in /Users/om-college/miniconda3/lib/python3.12/site-packages (from pandas->llama-index-core<0.11.0,>=0.10.37.post1->llama-index-readers-file) (2.9.0.post0)\n",
      "Requirement already satisfied: pytz>=2020.1 in /Users/om-college/miniconda3/lib/python3.12/site-packages (from pandas->llama-index-core<0.11.0,>=0.10.37.post1->llama-index-readers-file) (2024.1)\n",
      "Requirement already satisfied: tzdata>=2022.7 in /Users/om-college/miniconda3/lib/python3.12/site-packages (from pandas->llama-index-core<0.11.0,>=0.10.37.post1->llama-index-readers-file) (2024.1)\n",
      "Requirement already satisfied: packaging>=17.0 in /Users/om-college/miniconda3/lib/python3.12/site-packages (from marshmallow<4.0.0,>=3.18.0->dataclasses-json->llama-index-core<0.11.0,>=0.10.37.post1->llama-index-readers-file) (23.1)\n",
      "Requirement already satisfied: annotated-types>=0.4.0 in /Users/om-college/miniconda3/lib/python3.12/site-packages (from pydantic>=1.10->llamaindex-py-client<0.2.0,>=0.1.18->llama-index-core<0.11.0,>=0.10.37.post1->llama-index-readers-file) (0.7.0)\n",
      "Requirement already satisfied: pydantic-core==2.18.4 in /Users/om-college/miniconda3/lib/python3.12/site-packages (from pydantic>=1.10->llamaindex-py-client<0.2.0,>=0.1.18->llama-index-core<0.11.0,>=0.10.37.post1->llama-index-readers-file) (2.18.4)\n",
      "Requirement already satisfied: six>=1.5 in /Users/om-college/miniconda3/lib/python3.12/site-packages (from python-dateutil>=2.8.2->pandas->llama-index-core<0.11.0,>=0.10.37.post1->llama-index-readers-file) (1.16.0)\n"
     ]
    },
    {
     "data": {
      "text/html": [
       "<pre style=\"white-space:pre;overflow-x:auto;line-height:normal;font-family:Menlo,'DejaVu Sans Mono',consolas,'Courier New',monospace\"><span style=\"color: #7fbfbf; text-decoration-color: #7fbfbf\">2024-06-14 17:17:14 </span><span style=\"color: #000080; text-decoration-color: #000080\">INFO    </span> clarifai.client.input:                                                    <a href=\"file:///Users/om-college/miniconda3/lib/python3.12/site-packages/clarifai/client/input.py\" target=\"_blank\"><span style=\"color: #7f7f7f; text-decoration-color: #7f7f7f\">input.py</span></a><span style=\"color: #7f7f7f; text-decoration-color: #7f7f7f\">:</span><a href=\"file:///Users/om-college/miniconda3/lib/python3.12/site-packages/clarifai/client/input.py#706\" target=\"_blank\"><span style=\"color: #7f7f7f; text-decoration-color: #7f7f7f\">706</span></a>\n",
       "<span style=\"color: #7fbfbf; text-decoration-color: #7fbfbf\">                    </span>         Inputs Uploaded                                                           <span style=\"color: #7f7f7f; text-decoration-color: #7f7f7f\">            </span>\n",
       "<span style=\"color: #7fbfbf; text-decoration-color: #7fbfbf\">                    </span>         code: SUCCESS                                                             <span style=\"color: #7f7f7f; text-decoration-color: #7f7f7f\">            </span>\n",
       "<span style=\"color: #7fbfbf; text-decoration-color: #7fbfbf\">                    </span>         description: <span style=\"color: #008000; text-decoration-color: #008000\">\"Ok\"</span>                                                         <span style=\"color: #7f7f7f; text-decoration-color: #7f7f7f\">            </span>\n",
       "<span style=\"color: #7fbfbf; text-decoration-color: #7fbfbf\">                    </span>         details: <span style=\"color: #008000; text-decoration-color: #008000\">\"All inputs successfully added\"</span>                                  <span style=\"color: #7f7f7f; text-decoration-color: #7f7f7f\">            </span>\n",
       "<span style=\"color: #7fbfbf; text-decoration-color: #7fbfbf\">                    </span>         req_id: <span style=\"color: #008000; text-decoration-color: #008000\">\"f8f246edebf643df84c06b5ed87ace09\"</span>                                <span style=\"color: #7f7f7f; text-decoration-color: #7f7f7f\">            </span>\n",
       "<span style=\"color: #7fbfbf; text-decoration-color: #7fbfbf\">                    </span>                                                                                   <span style=\"color: #7f7f7f; text-decoration-color: #7f7f7f\">            </span>\n",
       "</pre>\n"
      ],
      "text/plain": [
       "\u001b[2;36m2024-06-14 17:17:14\u001b[0m\u001b[2;36m \u001b[0m\u001b[34mINFO    \u001b[0m clarifai.client.input:                                                    \u001b]8;id=674612;file:///Users/om-college/miniconda3/lib/python3.12/site-packages/clarifai/client/input.py\u001b\\\u001b[2minput.py\u001b[0m\u001b]8;;\u001b\\\u001b[2m:\u001b[0m\u001b]8;id=264752;file:///Users/om-college/miniconda3/lib/python3.12/site-packages/clarifai/client/input.py#706\u001b\\\u001b[2m706\u001b[0m\u001b]8;;\u001b\\\n",
       "\u001b[2;36m                    \u001b[0m         Inputs Uploaded                                                           \u001b[2m            \u001b[0m\n",
       "\u001b[2;36m                    \u001b[0m         code: SUCCESS                                                             \u001b[2m            \u001b[0m\n",
       "\u001b[2;36m                    \u001b[0m         description: \u001b[32m\"Ok\"\u001b[0m                                                         \u001b[2m            \u001b[0m\n",
       "\u001b[2;36m                    \u001b[0m         details: \u001b[32m\"All inputs successfully added\"\u001b[0m                                  \u001b[2m            \u001b[0m\n",
       "\u001b[2;36m                    \u001b[0m         req_id: \u001b[32m\"f8f246edebf643df84c06b5ed87ace09\"\u001b[0m                                \u001b[2m            \u001b[0m\n",
       "\u001b[2;36m                    \u001b[0m                                                                                   \u001b[2m            \u001b[0m\n"
      ]
     },
     "metadata": {},
     "output_type": "display_data"
    },
    {
     "name": "stdout",
     "output_type": "stream",
     "text": [
      "Upload response: None\n",
      "Upload response is None, check your file path and internet connection.\n"
     ]
    }
   ],
   "source": [
    "from clarifai.rag import RAG\n",
    "\n",
    "PAT = '318e358a234f4537a4777674696f9807'\n",
    "user_id = \"askompatel-1\"\n",
    "\n",
    "# Set up the RAG agent using the PAT\n",
    "rag_agent = RAG.setup(user_id=user_id, pat=PAT)\n",
    "\n",
    "def upload_document(file_path):\n",
    "        print(f\"Attempting to upload document: {file_path}\")\n",
    "        # Upload the document to Clarifai's vector database\n",
    "        upload_response = rag_agent.upload(file_path=file_path,chunk_size=150,chunk_overlap=30)\n",
    "        print(\"Upload response:\", upload_response)\n",
    "        \n",
    "        if upload_response is None:\n",
    "            print(\"Upload response is None, check your file path and internet connection.\")\n",
    "            return False\n",
    "        \n",
    "        if 'status' in upload_response and upload_response['status'].get('description') == \"Ok\":\n",
    "            print(\"Document uploaded successfully to Clarifai's vector database.\")\n",
    "            return True\n",
    "        else:\n",
    "            print(\"Upload failed with response:\", upload_response)\n",
    "            return False\n",
    "\n",
    "def chat_with_document():\n",
    "    try:\n",
    "        messages = [{\"role\": \"human\", \"content\": \"Summarize this Resume/CV PDF\"}]\n",
    "        chat_response = rag_agent.chat(messages=messages)\n",
    "        print(\"Chat response:\", chat_response)\n",
    "        \n",
    "        if chat_response and 'summary' in chat_response:\n",
    "            print(\"Summarized PDF:\")\n",
    "            print(chat_response['summary'])\n",
    "        else:\n",
    "            print(\"No summary found.\")\n",
    "    except Exception as e:\n",
    "        print(f\"Error during the chat process: {str(e)}\")\n",
    "\n",
    "def start_app():\n",
    "    file_path = \"/Users/om-college/DataScience/LLM/Gemini/GeminiLLM/CV.pdf\"  # Specify your file path here\n",
    "    if upload_document(file_path):\n",
    "        chat_with_document()\n",
    "\n",
    "start_app()"
   ]
  },
  {
   "cell_type": "code",
   "execution_count": 32,
   "id": "5932b7a8",
   "metadata": {},
   "outputs": [
    {
     "data": {
      "text/html": [
       "<pre style=\"white-space:pre;overflow-x:auto;line-height:normal;font-family:Menlo,'DejaVu Sans Mono',consolas,'Courier New',monospace\"><span style=\"color: #7fbfbf; text-decoration-color: #7fbfbf\">2024-06-14 17:19:46 </span><span style=\"color: #000080; text-decoration-color: #000080\">INFO    </span> clarifai.client.user:                                                      <a href=\"file:///Users/om-college/miniconda3/lib/python3.12/site-packages/clarifai/client/user.py\" target=\"_blank\"><span style=\"color: #7f7f7f; text-decoration-color: #7f7f7f\">user.py</span></a><span style=\"color: #7f7f7f; text-decoration-color: #7f7f7f\">:</span><a href=\"file:///Users/om-college/miniconda3/lib/python3.12/site-packages/clarifai/client/user.py#134\" target=\"_blank\"><span style=\"color: #7f7f7f; text-decoration-color: #7f7f7f\">134</span></a>\n",
       "<span style=\"color: #7fbfbf; text-decoration-color: #7fbfbf\">                    </span>         App created                                                                <span style=\"color: #7f7f7f; text-decoration-color: #7f7f7f\">           </span>\n",
       "<span style=\"color: #7fbfbf; text-decoration-color: #7fbfbf\">                    </span>         code: SUCCESS                                                              <span style=\"color: #7f7f7f; text-decoration-color: #7f7f7f\">           </span>\n",
       "<span style=\"color: #7fbfbf; text-decoration-color: #7fbfbf\">                    </span>         description: <span style=\"color: #008000; text-decoration-color: #008000\">\"Ok\"</span>                                                          <span style=\"color: #7f7f7f; text-decoration-color: #7f7f7f\">           </span>\n",
       "<span style=\"color: #7fbfbf; text-decoration-color: #7fbfbf\">                    </span>         req_id: <span style=\"color: #008000; text-decoration-color: #008000\">\"7f0e4c5032264970b11513660436c1df\"</span>                                 <span style=\"color: #7f7f7f; text-decoration-color: #7f7f7f\">           </span>\n",
       "<span style=\"color: #7fbfbf; text-decoration-color: #7fbfbf\">                    </span>                                                                                    <span style=\"color: #7f7f7f; text-decoration-color: #7f7f7f\">           </span>\n",
       "</pre>\n"
      ],
      "text/plain": [
       "\u001b[2;36m2024-06-14 17:19:46\u001b[0m\u001b[2;36m \u001b[0m\u001b[34mINFO    \u001b[0m clarifai.client.user:                                                      \u001b]8;id=172721;file:///Users/om-college/miniconda3/lib/python3.12/site-packages/clarifai/client/user.py\u001b\\\u001b[2muser.py\u001b[0m\u001b]8;;\u001b\\\u001b[2m:\u001b[0m\u001b]8;id=251490;file:///Users/om-college/miniconda3/lib/python3.12/site-packages/clarifai/client/user.py#134\u001b\\\u001b[2m134\u001b[0m\u001b]8;;\u001b\\\n",
       "\u001b[2;36m                    \u001b[0m         App created                                                                \u001b[2m           \u001b[0m\n",
       "\u001b[2;36m                    \u001b[0m         code: SUCCESS                                                              \u001b[2m           \u001b[0m\n",
       "\u001b[2;36m                    \u001b[0m         description: \u001b[32m\"Ok\"\u001b[0m                                                          \u001b[2m           \u001b[0m\n",
       "\u001b[2;36m                    \u001b[0m         req_id: \u001b[32m\"7f0e4c5032264970b11513660436c1df\"\u001b[0m                                 \u001b[2m           \u001b[0m\n",
       "\u001b[2;36m                    \u001b[0m                                                                                    \u001b[2m           \u001b[0m\n"
      ]
     },
     "metadata": {},
     "output_type": "display_data"
    },
    {
     "data": {
      "text/html": [
       "<pre style=\"white-space:pre;overflow-x:auto;line-height:normal;font-family:Menlo,'DejaVu Sans Mono',consolas,'Courier New',monospace\"><span style=\"color: #7fbfbf; text-decoration-color: #7fbfbf\">2024-06-14 17:19:47 </span><span style=\"color: #000080; text-decoration-color: #000080\">INFO    </span> clarifai.client.app:                                                        <a href=\"file:///Users/om-college/miniconda3/lib/python3.12/site-packages/clarifai/client/app.py\" target=\"_blank\"><span style=\"color: #7f7f7f; text-decoration-color: #7f7f7f\">app.py</span></a><span style=\"color: #7f7f7f; text-decoration-color: #7f7f7f\">:</span><a href=\"file:///Users/om-college/miniconda3/lib/python3.12/site-packages/clarifai/client/app.py#343\" target=\"_blank\"><span style=\"color: #7f7f7f; text-decoration-color: #7f7f7f\">343</span></a>\n",
       "<span style=\"color: #7fbfbf; text-decoration-color: #7fbfbf\">                    </span>         Model created                                                               <span style=\"color: #7f7f7f; text-decoration-color: #7f7f7f\">          </span>\n",
       "<span style=\"color: #7fbfbf; text-decoration-color: #7fbfbf\">                    </span>         code: SUCCESS                                                               <span style=\"color: #7f7f7f; text-decoration-color: #7f7f7f\">          </span>\n",
       "<span style=\"color: #7fbfbf; text-decoration-color: #7fbfbf\">                    </span>         description: <span style=\"color: #008000; text-decoration-color: #008000\">\"Ok\"</span>                                                           <span style=\"color: #7f7f7f; text-decoration-color: #7f7f7f\">          </span>\n",
       "<span style=\"color: #7fbfbf; text-decoration-color: #7fbfbf\">                    </span>         req_id: <span style=\"color: #008000; text-decoration-color: #008000\">\"ab8644d0e10f43d3b1088fdcd2230c3e\"</span>                                  <span style=\"color: #7f7f7f; text-decoration-color: #7f7f7f\">          </span>\n",
       "<span style=\"color: #7fbfbf; text-decoration-color: #7fbfbf\">                    </span>                                                                                     <span style=\"color: #7f7f7f; text-decoration-color: #7f7f7f\">          </span>\n",
       "</pre>\n"
      ],
      "text/plain": [
       "\u001b[2;36m2024-06-14 17:19:47\u001b[0m\u001b[2;36m \u001b[0m\u001b[34mINFO    \u001b[0m clarifai.client.app:                                                        \u001b]8;id=271143;file:///Users/om-college/miniconda3/lib/python3.12/site-packages/clarifai/client/app.py\u001b\\\u001b[2mapp.py\u001b[0m\u001b]8;;\u001b\\\u001b[2m:\u001b[0m\u001b]8;id=450016;file:///Users/om-college/miniconda3/lib/python3.12/site-packages/clarifai/client/app.py#343\u001b\\\u001b[2m343\u001b[0m\u001b]8;;\u001b\\\n",
       "\u001b[2;36m                    \u001b[0m         Model created                                                               \u001b[2m          \u001b[0m\n",
       "\u001b[2;36m                    \u001b[0m         code: SUCCESS                                                               \u001b[2m          \u001b[0m\n",
       "\u001b[2;36m                    \u001b[0m         description: \u001b[32m\"Ok\"\u001b[0m                                                           \u001b[2m          \u001b[0m\n",
       "\u001b[2;36m                    \u001b[0m         req_id: \u001b[32m\"ab8644d0e10f43d3b1088fdcd2230c3e\"\u001b[0m                                  \u001b[2m          \u001b[0m\n",
       "\u001b[2;36m                    \u001b[0m                                                                                     \u001b[2m          \u001b[0m\n"
      ]
     },
     "metadata": {},
     "output_type": "display_data"
    },
    {
     "data": {
      "text/html": [
       "<pre style=\"white-space:pre;overflow-x:auto;line-height:normal;font-family:Menlo,'DejaVu Sans Mono',consolas,'Courier New',monospace\"><span style=\"color: #7fbfbf; text-decoration-color: #7fbfbf\">2024-06-14 17:19:48 </span><span style=\"color: #000080; text-decoration-color: #000080\">INFO    </span> clarifai.client.model:                                                    <a href=\"file:///Users/om-college/miniconda3/lib/python3.12/site-packages/clarifai/client/model.py\" target=\"_blank\"><span style=\"color: #7f7f7f; text-decoration-color: #7f7f7f\">model.py</span></a><span style=\"color: #7f7f7f; text-decoration-color: #7f7f7f\">:</span><a href=\"file:///Users/om-college/miniconda3/lib/python3.12/site-packages/clarifai/client/model.py#353\" target=\"_blank\"><span style=\"color: #7f7f7f; text-decoration-color: #7f7f7f\">353</span></a>\n",
       "<span style=\"color: #7fbfbf; text-decoration-color: #7fbfbf\">                    </span>         Model Version created                                                     <span style=\"color: #7f7f7f; text-decoration-color: #7f7f7f\">            </span>\n",
       "<span style=\"color: #7fbfbf; text-decoration-color: #7fbfbf\">                    </span>         code: SUCCESS                                                             <span style=\"color: #7f7f7f; text-decoration-color: #7f7f7f\">            </span>\n",
       "<span style=\"color: #7fbfbf; text-decoration-color: #7fbfbf\">                    </span>         description: <span style=\"color: #008000; text-decoration-color: #008000\">\"Ok\"</span>                                                         <span style=\"color: #7f7f7f; text-decoration-color: #7f7f7f\">            </span>\n",
       "<span style=\"color: #7fbfbf; text-decoration-color: #7fbfbf\">                    </span>         req_id: <span style=\"color: #008000; text-decoration-color: #008000\">\"3803f0ee761646eb8b89fa3efce03d88\"</span>                                <span style=\"color: #7f7f7f; text-decoration-color: #7f7f7f\">            </span>\n",
       "<span style=\"color: #7fbfbf; text-decoration-color: #7fbfbf\">                    </span>                                                                                   <span style=\"color: #7f7f7f; text-decoration-color: #7f7f7f\">            </span>\n",
       "</pre>\n"
      ],
      "text/plain": [
       "\u001b[2;36m2024-06-14 17:19:48\u001b[0m\u001b[2;36m \u001b[0m\u001b[34mINFO    \u001b[0m clarifai.client.model:                                                    \u001b]8;id=592438;file:///Users/om-college/miniconda3/lib/python3.12/site-packages/clarifai/client/model.py\u001b\\\u001b[2mmodel.py\u001b[0m\u001b]8;;\u001b\\\u001b[2m:\u001b[0m\u001b]8;id=479046;file:///Users/om-college/miniconda3/lib/python3.12/site-packages/clarifai/client/model.py#353\u001b\\\u001b[2m353\u001b[0m\u001b]8;;\u001b\\\n",
       "\u001b[2;36m                    \u001b[0m         Model Version created                                                     \u001b[2m            \u001b[0m\n",
       "\u001b[2;36m                    \u001b[0m         code: SUCCESS                                                             \u001b[2m            \u001b[0m\n",
       "\u001b[2;36m                    \u001b[0m         description: \u001b[32m\"Ok\"\u001b[0m                                                         \u001b[2m            \u001b[0m\n",
       "\u001b[2;36m                    \u001b[0m         req_id: \u001b[32m\"3803f0ee761646eb8b89fa3efce03d88\"\u001b[0m                                \u001b[2m            \u001b[0m\n",
       "\u001b[2;36m                    \u001b[0m                                                                                   \u001b[2m            \u001b[0m\n"
      ]
     },
     "metadata": {},
     "output_type": "display_data"
    },
    {
     "data": {
      "text/html": [
       "<pre style=\"white-space:pre;overflow-x:auto;line-height:normal;font-family:Menlo,'DejaVu Sans Mono',consolas,'Courier New',monospace\"><span style=\"color: #7fbfbf; text-decoration-color: #7fbfbf\">2024-06-14 17:19:49 </span><span style=\"color: #000080; text-decoration-color: #000080\">INFO    </span> clarifai.client.app:                                                        <a href=\"file:///Users/om-college/miniconda3/lib/python3.12/site-packages/clarifai/client/app.py\" target=\"_blank\"><span style=\"color: #7f7f7f; text-decoration-color: #7f7f7f\">app.py</span></a><span style=\"color: #7f7f7f; text-decoration-color: #7f7f7f\">:</span><a href=\"file:///Users/om-college/miniconda3/lib/python3.12/site-packages/clarifai/client/app.py#431\" target=\"_blank\"><span style=\"color: #7f7f7f; text-decoration-color: #7f7f7f\">431</span></a>\n",
       "<span style=\"color: #7fbfbf; text-decoration-color: #7fbfbf\">                    </span>         Workflow created                                                            <span style=\"color: #7f7f7f; text-decoration-color: #7f7f7f\">          </span>\n",
       "<span style=\"color: #7fbfbf; text-decoration-color: #7fbfbf\">                    </span>         code: SUCCESS                                                               <span style=\"color: #7f7f7f; text-decoration-color: #7f7f7f\">          </span>\n",
       "<span style=\"color: #7fbfbf; text-decoration-color: #7fbfbf\">                    </span>         description: <span style=\"color: #008000; text-decoration-color: #008000\">\"Ok\"</span>                                                           <span style=\"color: #7f7f7f; text-decoration-color: #7f7f7f\">          </span>\n",
       "<span style=\"color: #7fbfbf; text-decoration-color: #7fbfbf\">                    </span>         req_id: <span style=\"color: #008000; text-decoration-color: #008000\">\"09a87ecc9b63470ab27170665262ed10\"</span>                                  <span style=\"color: #7f7f7f; text-decoration-color: #7f7f7f\">          </span>\n",
       "<span style=\"color: #7fbfbf; text-decoration-color: #7fbfbf\">                    </span>                                                                                     <span style=\"color: #7f7f7f; text-decoration-color: #7f7f7f\">          </span>\n",
       "</pre>\n"
      ],
      "text/plain": [
       "\u001b[2;36m2024-06-14 17:19:49\u001b[0m\u001b[2;36m \u001b[0m\u001b[34mINFO    \u001b[0m clarifai.client.app:                                                        \u001b]8;id=960281;file:///Users/om-college/miniconda3/lib/python3.12/site-packages/clarifai/client/app.py\u001b\\\u001b[2mapp.py\u001b[0m\u001b]8;;\u001b\\\u001b[2m:\u001b[0m\u001b]8;id=645268;file:///Users/om-college/miniconda3/lib/python3.12/site-packages/clarifai/client/app.py#431\u001b\\\u001b[2m431\u001b[0m\u001b]8;;\u001b\\\n",
       "\u001b[2;36m                    \u001b[0m         Workflow created                                                            \u001b[2m          \u001b[0m\n",
       "\u001b[2;36m                    \u001b[0m         code: SUCCESS                                                               \u001b[2m          \u001b[0m\n",
       "\u001b[2;36m                    \u001b[0m         description: \u001b[32m\"Ok\"\u001b[0m                                                           \u001b[2m          \u001b[0m\n",
       "\u001b[2;36m                    \u001b[0m         req_id: \u001b[32m\"09a87ecc9b63470ab27170665262ed10\"\u001b[0m                                  \u001b[2m          \u001b[0m\n",
       "\u001b[2;36m                    \u001b[0m                                                                                     \u001b[2m          \u001b[0m\n"
      ]
     },
     "metadata": {},
     "output_type": "display_data"
    },
    {
     "data": {
      "text/html": [
       "<pre style=\"white-space:pre;overflow-x:auto;line-height:normal;font-family:Menlo,'DejaVu Sans Mono',consolas,'Courier New',monospace\"><span style=\"color: #008000; text-decoration-color: #008000\"> Input</span>\n",
       "<span style=\"color: #c0c0c0; text-decoration-color: #c0c0c0\">╚══ </span><span style=\"color: #c0c0c0; text-decoration-color: #c0c0c0; font-style: italic\">                              Node: rag-prompter                               </span>\n",
       "<span style=\"color: #c0c0c0; text-decoration-color: #c0c0c0\">    </span><span style=\"color: #c0c0c0; text-decoration-color: #c0c0c0\">┏━━━━━━━━━━━━━━━━━━━━━━━━━┳━━━━━━━━━━━━━━━┳━━━━━━━━━━━━━━━━━━━━┳━━━━━━━━━━━━━━┓</span>\n",
       "<span style=\"color: #c0c0c0; text-decoration-color: #c0c0c0\">    </span><span style=\"color: #c0c0c0; text-decoration-color: #c0c0c0\">┃</span><span style=\"color: #000080; text-decoration-color: #000080\"> id                      </span><span style=\"color: #c0c0c0; text-decoration-color: #c0c0c0\">┃</span><span style=\"color: #000080; text-decoration-color: #000080\"> model_type_id </span><span style=\"color: #c0c0c0; text-decoration-color: #c0c0c0\">┃</span><span style=\"color: #000080; text-decoration-color: #000080\"> app_id             </span><span style=\"color: #c0c0c0; text-decoration-color: #c0c0c0\">┃</span><span style=\"color: #000080; text-decoration-color: #000080\"> user_id      </span><span style=\"color: #c0c0c0; text-decoration-color: #c0c0c0\">┃</span>\n",
       "<span style=\"color: #c0c0c0; text-decoration-color: #c0c0c0\">    </span><span style=\"color: #c0c0c0; text-decoration-color: #c0c0c0\">┡━━━━━━━━━━━━━━━━━━━━━━━━━╇━━━━━━━━━━━━━━━╇━━━━━━━━━━━━━━━━━━━━╇━━━━━━━━━━━━━━┩</span>\n",
       "<span style=\"color: #c0c0c0; text-decoration-color: #c0c0c0\">    </span><span style=\"color: #c0c0c0; text-decoration-color: #c0c0c0\">│ rag-prompter-b9204ebed9 │ rag-prompter  │ rag_app_b9204ebed9 │ askompatel-1 │</span>\n",
       "<span style=\"color: #c0c0c0; text-decoration-color: #c0c0c0\">    </span><span style=\"color: #c0c0c0; text-decoration-color: #c0c0c0\">└─────────────────────────┴───────────────┴────────────────────┴──────────────┘</span>\n",
       "<span style=\"color: #c0c0c0; text-decoration-color: #c0c0c0\">    ╚══ </span><span style=\"color: #008000; text-decoration-color: #008000; font-style: italic\">                           Node: llm                            </span>\n",
       "<span style=\"color: #c0c0c0; text-decoration-color: #c0c0c0\">        </span><span style=\"color: #008000; text-decoration-color: #008000\">┏━━━━━━━━━━━━━━━━━━━━━┳━━━━━━━━━━━━━━━┳━━━━━━━━━━━━┳━━━━━━━━━━━┓</span>\n",
       "<span style=\"color: #c0c0c0; text-decoration-color: #c0c0c0\">        </span><span style=\"color: #008000; text-decoration-color: #008000\">┃</span><span style=\"color: #000080; text-decoration-color: #000080\"> id                  </span><span style=\"color: #008000; text-decoration-color: #008000\">┃</span><span style=\"color: #000080; text-decoration-color: #000080\"> model_type_id </span><span style=\"color: #008000; text-decoration-color: #008000\">┃</span><span style=\"color: #000080; text-decoration-color: #000080\"> app_id     </span><span style=\"color: #008000; text-decoration-color: #008000\">┃</span><span style=\"color: #000080; text-decoration-color: #000080\"> user_id   </span><span style=\"color: #008000; text-decoration-color: #008000\">┃</span>\n",
       "<span style=\"color: #c0c0c0; text-decoration-color: #c0c0c0\">        </span><span style=\"color: #008000; text-decoration-color: #008000\">┡━━━━━━━━━━━━━━━━━━━━━╇━━━━━━━━━━━━━━━╇━━━━━━━━━━━━╇━━━━━━━━━━━┩</span>\n",
       "<span style=\"color: #c0c0c0; text-decoration-color: #c0c0c0\">        </span><span style=\"color: #008000; text-decoration-color: #008000\">│ mistral-7B-Instruct │ text-to-text  │ completion │ mistralai │</span>\n",
       "<span style=\"color: #c0c0c0; text-decoration-color: #c0c0c0\">        </span><span style=\"color: #008000; text-decoration-color: #008000\">└─────────────────────┴───────────────┴────────────┴───────────┘</span>\n",
       "</pre>\n"
      ],
      "text/plain": [
       "\u001b[32m Input\u001b[0m\n",
       "\u001b[37m╚══ \u001b[0m\u001b[3;37m                              Node: rag-prompter                               \u001b[0m\n",
       "\u001b[37m    \u001b[0m\u001b[37m┏━━━━━━━━━━━━━━━━━━━━━━━━━┳━━━━━━━━━━━━━━━┳━━━━━━━━━━━━━━━━━━━━┳━━━━━━━━━━━━━━┓\u001b[0m\n",
       "\u001b[37m    \u001b[0m\u001b[37m┃\u001b[0m\u001b[34m \u001b[0m\u001b[34mid                     \u001b[0m\u001b[34m \u001b[0m\u001b[37m┃\u001b[0m\u001b[34m \u001b[0m\u001b[34mmodel_type_id\u001b[0m\u001b[34m \u001b[0m\u001b[37m┃\u001b[0m\u001b[34m \u001b[0m\u001b[34mapp_id            \u001b[0m\u001b[34m \u001b[0m\u001b[37m┃\u001b[0m\u001b[34m \u001b[0m\u001b[34muser_id     \u001b[0m\u001b[34m \u001b[0m\u001b[37m┃\u001b[0m\n",
       "\u001b[37m    \u001b[0m\u001b[37m┡━━━━━━━━━━━━━━━━━━━━━━━━━╇━━━━━━━━━━━━━━━╇━━━━━━━━━━━━━━━━━━━━╇━━━━━━━━━━━━━━┩\u001b[0m\n",
       "\u001b[37m    \u001b[0m\u001b[37m│\u001b[0m\u001b[37m \u001b[0m\u001b[37mrag-prompter-b9204ebed9\u001b[0m\u001b[37m \u001b[0m\u001b[37m│\u001b[0m\u001b[37m \u001b[0m\u001b[37mrag-prompter \u001b[0m\u001b[37m \u001b[0m\u001b[37m│\u001b[0m\u001b[37m \u001b[0m\u001b[37mrag_app_b9204ebed9\u001b[0m\u001b[37m \u001b[0m\u001b[37m│\u001b[0m\u001b[37m \u001b[0m\u001b[37maskompatel-1\u001b[0m\u001b[37m \u001b[0m\u001b[37m│\u001b[0m\n",
       "\u001b[37m    \u001b[0m\u001b[37m└─────────────────────────┴───────────────┴────────────────────┴──────────────┘\u001b[0m\n",
       "\u001b[37m    \u001b[0m\u001b[37m╚══ \u001b[0m\u001b[3;32m                           Node: llm                            \u001b[0m\n",
       "\u001b[37m    \u001b[0m\u001b[37m    \u001b[0m\u001b[32m┏━━━━━━━━━━━━━━━━━━━━━┳━━━━━━━━━━━━━━━┳━━━━━━━━━━━━┳━━━━━━━━━━━┓\u001b[0m\n",
       "\u001b[37m    \u001b[0m\u001b[37m    \u001b[0m\u001b[32m┃\u001b[0m\u001b[34m \u001b[0m\u001b[34mid                 \u001b[0m\u001b[34m \u001b[0m\u001b[32m┃\u001b[0m\u001b[34m \u001b[0m\u001b[34mmodel_type_id\u001b[0m\u001b[34m \u001b[0m\u001b[32m┃\u001b[0m\u001b[34m \u001b[0m\u001b[34mapp_id    \u001b[0m\u001b[34m \u001b[0m\u001b[32m┃\u001b[0m\u001b[34m \u001b[0m\u001b[34muser_id  \u001b[0m\u001b[34m \u001b[0m\u001b[32m┃\u001b[0m\n",
       "\u001b[37m    \u001b[0m\u001b[37m    \u001b[0m\u001b[32m┡━━━━━━━━━━━━━━━━━━━━━╇━━━━━━━━━━━━━━━╇━━━━━━━━━━━━╇━━━━━━━━━━━┩\u001b[0m\n",
       "\u001b[37m    \u001b[0m\u001b[37m    \u001b[0m\u001b[32m│\u001b[0m\u001b[32m \u001b[0m\u001b[32mmistral-7B-Instruct\u001b[0m\u001b[32m \u001b[0m\u001b[32m│\u001b[0m\u001b[32m \u001b[0m\u001b[32mtext-to-text \u001b[0m\u001b[32m \u001b[0m\u001b[32m│\u001b[0m\u001b[32m \u001b[0m\u001b[32mcompletion\u001b[0m\u001b[32m \u001b[0m\u001b[32m│\u001b[0m\u001b[32m \u001b[0m\u001b[32mmistralai\u001b[0m\u001b[32m \u001b[0m\u001b[32m│\u001b[0m\n",
       "\u001b[37m    \u001b[0m\u001b[37m    \u001b[0m\u001b[32m└─────────────────────┴───────────────┴────────────┴───────────┘\u001b[0m\n"
      ]
     },
     "metadata": {},
     "output_type": "display_data"
    },
    {
     "name": "stdout",
     "output_type": "stream",
     "text": [
      "Attempting to upload document: /Users/om-college/DataScience/LLM/Gemini/GeminiLLM/CV.pdf\n",
      "Requirement already satisfied: llama-index-readers-file in /Users/om-college/miniconda3/lib/python3.12/site-packages (0.1.25)\n",
      "Requirement already satisfied: beautifulsoup4<5.0.0,>=4.12.3 in /Users/om-college/miniconda3/lib/python3.12/site-packages (from llama-index-readers-file) (4.12.3)\n",
      "Requirement already satisfied: llama-index-core<0.11.0,>=0.10.37.post1 in /Users/om-college/miniconda3/lib/python3.12/site-packages (from llama-index-readers-file) (0.10.44)\n",
      "Requirement already satisfied: pypdf<5.0.0,>=4.0.1 in /Users/om-college/miniconda3/lib/python3.12/site-packages (from llama-index-readers-file) (4.2.0)\n",
      "Requirement already satisfied: striprtf<0.0.27,>=0.0.26 in /Users/om-college/miniconda3/lib/python3.12/site-packages (from llama-index-readers-file) (0.0.26)\n",
      "Requirement already satisfied: soupsieve>1.2 in /Users/om-college/miniconda3/lib/python3.12/site-packages (from beautifulsoup4<5.0.0,>=4.12.3->llama-index-readers-file) (2.5)\n",
      "Requirement already satisfied: PyYAML>=6.0.1 in /Users/om-college/miniconda3/lib/python3.12/site-packages (from llama-index-core<0.11.0,>=0.10.37.post1->llama-index-readers-file) (6.0.1)\n",
      "Requirement already satisfied: SQLAlchemy>=1.4.49 in /Users/om-college/miniconda3/lib/python3.12/site-packages (from SQLAlchemy[asyncio]>=1.4.49->llama-index-core<0.11.0,>=0.10.37.post1->llama-index-readers-file) (2.0.30)\n",
      "Requirement already satisfied: aiohttp<4.0.0,>=3.8.6 in /Users/om-college/miniconda3/lib/python3.12/site-packages (from llama-index-core<0.11.0,>=0.10.37.post1->llama-index-readers-file) (3.9.5)\n",
      "Requirement already satisfied: dataclasses-json in /Users/om-college/miniconda3/lib/python3.12/site-packages (from llama-index-core<0.11.0,>=0.10.37.post1->llama-index-readers-file) (0.6.7)\n",
      "Requirement already satisfied: deprecated>=1.2.9.3 in /Users/om-college/miniconda3/lib/python3.12/site-packages (from llama-index-core<0.11.0,>=0.10.37.post1->llama-index-readers-file) (1.2.14)\n",
      "Requirement already satisfied: dirtyjson<2.0.0,>=1.0.8 in /Users/om-college/miniconda3/lib/python3.12/site-packages (from llama-index-core<0.11.0,>=0.10.37.post1->llama-index-readers-file) (1.0.8)\n",
      "Requirement already satisfied: fsspec>=2023.5.0 in /Users/om-college/miniconda3/lib/python3.12/site-packages (from llama-index-core<0.11.0,>=0.10.37.post1->llama-index-readers-file) (2024.6.0)\n",
      "Requirement already satisfied: httpx in /Users/om-college/miniconda3/lib/python3.12/site-packages (from llama-index-core<0.11.0,>=0.10.37.post1->llama-index-readers-file) (0.27.0)\n",
      "Requirement already satisfied: llamaindex-py-client<0.2.0,>=0.1.18 in /Users/om-college/miniconda3/lib/python3.12/site-packages (from llama-index-core<0.11.0,>=0.10.37.post1->llama-index-readers-file) (0.1.19)\n",
      "Requirement already satisfied: nest-asyncio<2.0.0,>=1.5.8 in /Users/om-college/miniconda3/lib/python3.12/site-packages (from llama-index-core<0.11.0,>=0.10.37.post1->llama-index-readers-file) (1.6.0)\n",
      "Requirement already satisfied: networkx>=3.0 in /Users/om-college/miniconda3/lib/python3.12/site-packages (from llama-index-core<0.11.0,>=0.10.37.post1->llama-index-readers-file) (3.3)\n",
      "Requirement already satisfied: nltk<4.0.0,>=3.8.1 in /Users/om-college/miniconda3/lib/python3.12/site-packages (from llama-index-core<0.11.0,>=0.10.37.post1->llama-index-readers-file) (3.8.1)\n",
      "Requirement already satisfied: numpy in /Users/om-college/miniconda3/lib/python3.12/site-packages (from llama-index-core<0.11.0,>=0.10.37.post1->llama-index-readers-file) (1.26.4)\n",
      "Requirement already satisfied: openai>=1.1.0 in /Users/om-college/miniconda3/lib/python3.12/site-packages (from llama-index-core<0.11.0,>=0.10.37.post1->llama-index-readers-file) (1.34.0)\n",
      "Requirement already satisfied: pandas in /Users/om-college/miniconda3/lib/python3.12/site-packages (from llama-index-core<0.11.0,>=0.10.37.post1->llama-index-readers-file) (2.2.2)\n",
      "Requirement already satisfied: pillow>=9.0.0 in /Users/om-college/miniconda3/lib/python3.12/site-packages (from llama-index-core<0.11.0,>=0.10.37.post1->llama-index-readers-file) (10.3.0)\n",
      "Requirement already satisfied: requests>=2.31.0 in /Users/om-college/miniconda3/lib/python3.12/site-packages (from llama-index-core<0.11.0,>=0.10.37.post1->llama-index-readers-file) (2.31.0)\n",
      "Requirement already satisfied: tenacity<9.0.0,>=8.2.0 in /Users/om-college/miniconda3/lib/python3.12/site-packages (from llama-index-core<0.11.0,>=0.10.37.post1->llama-index-readers-file) (8.3.0)\n",
      "Requirement already satisfied: tiktoken>=0.3.3 in /Users/om-college/miniconda3/lib/python3.12/site-packages (from llama-index-core<0.11.0,>=0.10.37.post1->llama-index-readers-file) (0.7.0)\n",
      "Requirement already satisfied: tqdm<5.0.0,>=4.66.1 in /Users/om-college/miniconda3/lib/python3.12/site-packages (from llama-index-core<0.11.0,>=0.10.37.post1->llama-index-readers-file) (4.66.4)\n",
      "Requirement already satisfied: typing-extensions>=4.5.0 in /Users/om-college/miniconda3/lib/python3.12/site-packages (from llama-index-core<0.11.0,>=0.10.37.post1->llama-index-readers-file) (4.11.0)\n",
      "Requirement already satisfied: typing-inspect>=0.8.0 in /Users/om-college/miniconda3/lib/python3.12/site-packages (from llama-index-core<0.11.0,>=0.10.37.post1->llama-index-readers-file) (0.9.0)\n",
      "Requirement already satisfied: wrapt in /Users/om-college/miniconda3/lib/python3.12/site-packages (from llama-index-core<0.11.0,>=0.10.37.post1->llama-index-readers-file) (1.16.0)\n",
      "Requirement already satisfied: aiosignal>=1.1.2 in /Users/om-college/miniconda3/lib/python3.12/site-packages (from aiohttp<4.0.0,>=3.8.6->llama-index-core<0.11.0,>=0.10.37.post1->llama-index-readers-file) (1.3.1)\n",
      "Requirement already satisfied: attrs>=17.3.0 in /Users/om-college/miniconda3/lib/python3.12/site-packages (from aiohttp<4.0.0,>=3.8.6->llama-index-core<0.11.0,>=0.10.37.post1->llama-index-readers-file) (23.2.0)\n",
      "Requirement already satisfied: frozenlist>=1.1.1 in /Users/om-college/miniconda3/lib/python3.12/site-packages (from aiohttp<4.0.0,>=3.8.6->llama-index-core<0.11.0,>=0.10.37.post1->llama-index-readers-file) (1.4.1)\n",
      "Requirement already satisfied: multidict<7.0,>=4.5 in /Users/om-college/miniconda3/lib/python3.12/site-packages (from aiohttp<4.0.0,>=3.8.6->llama-index-core<0.11.0,>=0.10.37.post1->llama-index-readers-file) (6.0.5)\n",
      "Requirement already satisfied: yarl<2.0,>=1.0 in /Users/om-college/miniconda3/lib/python3.12/site-packages (from aiohttp<4.0.0,>=3.8.6->llama-index-core<0.11.0,>=0.10.37.post1->llama-index-readers-file) (1.9.4)\n",
      "Requirement already satisfied: pydantic>=1.10 in /Users/om-college/miniconda3/lib/python3.12/site-packages (from llamaindex-py-client<0.2.0,>=0.1.18->llama-index-core<0.11.0,>=0.10.37.post1->llama-index-readers-file) (2.7.4)\n",
      "Requirement already satisfied: anyio in /Users/om-college/miniconda3/lib/python3.12/site-packages (from httpx->llama-index-core<0.11.0,>=0.10.37.post1->llama-index-readers-file) (4.4.0)\n",
      "Requirement already satisfied: certifi in /Users/om-college/miniconda3/lib/python3.12/site-packages (from httpx->llama-index-core<0.11.0,>=0.10.37.post1->llama-index-readers-file) (2024.2.2)\n",
      "Requirement already satisfied: httpcore==1.* in /Users/om-college/miniconda3/lib/python3.12/site-packages (from httpx->llama-index-core<0.11.0,>=0.10.37.post1->llama-index-readers-file) (1.0.5)\n",
      "Requirement already satisfied: idna in /Users/om-college/miniconda3/lib/python3.12/site-packages (from httpx->llama-index-core<0.11.0,>=0.10.37.post1->llama-index-readers-file) (3.4)\n",
      "Requirement already satisfied: sniffio in /Users/om-college/miniconda3/lib/python3.12/site-packages (from httpx->llama-index-core<0.11.0,>=0.10.37.post1->llama-index-readers-file) (1.3.1)\n",
      "Requirement already satisfied: h11<0.15,>=0.13 in /Users/om-college/miniconda3/lib/python3.12/site-packages (from httpcore==1.*->httpx->llama-index-core<0.11.0,>=0.10.37.post1->llama-index-readers-file) (0.14.0)\n",
      "Requirement already satisfied: click in /Users/om-college/miniconda3/lib/python3.12/site-packages (from nltk<4.0.0,>=3.8.1->llama-index-core<0.11.0,>=0.10.37.post1->llama-index-readers-file) (8.1.7)\n",
      "Requirement already satisfied: joblib in /Users/om-college/miniconda3/lib/python3.12/site-packages (from nltk<4.0.0,>=3.8.1->llama-index-core<0.11.0,>=0.10.37.post1->llama-index-readers-file) (1.4.2)\n",
      "Requirement already satisfied: regex>=2021.8.3 in /Users/om-college/miniconda3/lib/python3.12/site-packages (from nltk<4.0.0,>=3.8.1->llama-index-core<0.11.0,>=0.10.37.post1->llama-index-readers-file) (2024.5.15)\n",
      "Requirement already satisfied: distro<2,>=1.7.0 in /Users/om-college/miniconda3/lib/python3.12/site-packages (from openai>=1.1.0->llama-index-core<0.11.0,>=0.10.37.post1->llama-index-readers-file) (1.8.0)\n",
      "Requirement already satisfied: charset-normalizer<4,>=2 in /Users/om-college/miniconda3/lib/python3.12/site-packages (from requests>=2.31.0->llama-index-core<0.11.0,>=0.10.37.post1->llama-index-readers-file) (2.0.4)\n",
      "Requirement already satisfied: urllib3<3,>=1.21.1 in /Users/om-college/miniconda3/lib/python3.12/site-packages (from requests>=2.31.0->llama-index-core<0.11.0,>=0.10.37.post1->llama-index-readers-file) (2.1.0)\n",
      "Requirement already satisfied: greenlet!=0.4.17 in /Users/om-college/miniconda3/lib/python3.12/site-packages (from SQLAlchemy[asyncio]>=1.4.49->llama-index-core<0.11.0,>=0.10.37.post1->llama-index-readers-file) (3.0.3)\n",
      "Requirement already satisfied: mypy-extensions>=0.3.0 in /Users/om-college/miniconda3/lib/python3.12/site-packages (from typing-inspect>=0.8.0->llama-index-core<0.11.0,>=0.10.37.post1->llama-index-readers-file) (1.0.0)\n",
      "Requirement already satisfied: marshmallow<4.0.0,>=3.18.0 in /Users/om-college/miniconda3/lib/python3.12/site-packages (from dataclasses-json->llama-index-core<0.11.0,>=0.10.37.post1->llama-index-readers-file) (3.21.3)\n",
      "Requirement already satisfied: python-dateutil>=2.8.2 in /Users/om-college/miniconda3/lib/python3.12/site-packages (from pandas->llama-index-core<0.11.0,>=0.10.37.post1->llama-index-readers-file) (2.9.0.post0)\n",
      "Requirement already satisfied: pytz>=2020.1 in /Users/om-college/miniconda3/lib/python3.12/site-packages (from pandas->llama-index-core<0.11.0,>=0.10.37.post1->llama-index-readers-file) (2024.1)\n",
      "Requirement already satisfied: tzdata>=2022.7 in /Users/om-college/miniconda3/lib/python3.12/site-packages (from pandas->llama-index-core<0.11.0,>=0.10.37.post1->llama-index-readers-file) (2024.1)\n",
      "Requirement already satisfied: packaging>=17.0 in /Users/om-college/miniconda3/lib/python3.12/site-packages (from marshmallow<4.0.0,>=3.18.0->dataclasses-json->llama-index-core<0.11.0,>=0.10.37.post1->llama-index-readers-file) (23.1)\n",
      "Requirement already satisfied: annotated-types>=0.4.0 in /Users/om-college/miniconda3/lib/python3.12/site-packages (from pydantic>=1.10->llamaindex-py-client<0.2.0,>=0.1.18->llama-index-core<0.11.0,>=0.10.37.post1->llama-index-readers-file) (0.7.0)\n",
      "Requirement already satisfied: pydantic-core==2.18.4 in /Users/om-college/miniconda3/lib/python3.12/site-packages (from pydantic>=1.10->llamaindex-py-client<0.2.0,>=0.1.18->llama-index-core<0.11.0,>=0.10.37.post1->llama-index-readers-file) (2.18.4)\n",
      "Requirement already satisfied: six>=1.5 in /Users/om-college/miniconda3/lib/python3.12/site-packages (from python-dateutil>=2.8.2->pandas->llama-index-core<0.11.0,>=0.10.37.post1->llama-index-readers-file) (1.16.0)\n"
     ]
    },
    {
     "data": {
      "text/html": [
       "<pre style=\"white-space:pre;overflow-x:auto;line-height:normal;font-family:Menlo,'DejaVu Sans Mono',consolas,'Courier New',monospace\"><span style=\"color: #7fbfbf; text-decoration-color: #7fbfbf\">2024-06-14 17:19:53 </span><span style=\"color: #000080; text-decoration-color: #000080\">INFO    </span> clarifai.client.input:                                                    <a href=\"file:///Users/om-college/miniconda3/lib/python3.12/site-packages/clarifai/client/input.py\" target=\"_blank\"><span style=\"color: #7f7f7f; text-decoration-color: #7f7f7f\">input.py</span></a><span style=\"color: #7f7f7f; text-decoration-color: #7f7f7f\">:</span><a href=\"file:///Users/om-college/miniconda3/lib/python3.12/site-packages/clarifai/client/input.py#706\" target=\"_blank\"><span style=\"color: #7f7f7f; text-decoration-color: #7f7f7f\">706</span></a>\n",
       "<span style=\"color: #7fbfbf; text-decoration-color: #7fbfbf\">                    </span>         Inputs Uploaded                                                           <span style=\"color: #7f7f7f; text-decoration-color: #7f7f7f\">            </span>\n",
       "<span style=\"color: #7fbfbf; text-decoration-color: #7fbfbf\">                    </span>         code: SUCCESS                                                             <span style=\"color: #7f7f7f; text-decoration-color: #7f7f7f\">            </span>\n",
       "<span style=\"color: #7fbfbf; text-decoration-color: #7fbfbf\">                    </span>         description: <span style=\"color: #008000; text-decoration-color: #008000\">\"Ok\"</span>                                                         <span style=\"color: #7f7f7f; text-decoration-color: #7f7f7f\">            </span>\n",
       "<span style=\"color: #7fbfbf; text-decoration-color: #7fbfbf\">                    </span>         details: <span style=\"color: #008000; text-decoration-color: #008000\">\"All inputs successfully added\"</span>                                  <span style=\"color: #7f7f7f; text-decoration-color: #7f7f7f\">            </span>\n",
       "<span style=\"color: #7fbfbf; text-decoration-color: #7fbfbf\">                    </span>         req_id: <span style=\"color: #008000; text-decoration-color: #008000\">\"159d874d0e7f42709a83cc08089ae293\"</span>                                <span style=\"color: #7f7f7f; text-decoration-color: #7f7f7f\">            </span>\n",
       "<span style=\"color: #7fbfbf; text-decoration-color: #7fbfbf\">                    </span>                                                                                   <span style=\"color: #7f7f7f; text-decoration-color: #7f7f7f\">            </span>\n",
       "</pre>\n"
      ],
      "text/plain": [
       "\u001b[2;36m2024-06-14 17:19:53\u001b[0m\u001b[2;36m \u001b[0m\u001b[34mINFO    \u001b[0m clarifai.client.input:                                                    \u001b]8;id=401164;file:///Users/om-college/miniconda3/lib/python3.12/site-packages/clarifai/client/input.py\u001b\\\u001b[2minput.py\u001b[0m\u001b]8;;\u001b\\\u001b[2m:\u001b[0m\u001b]8;id=862734;file:///Users/om-college/miniconda3/lib/python3.12/site-packages/clarifai/client/input.py#706\u001b\\\u001b[2m706\u001b[0m\u001b]8;;\u001b\\\n",
       "\u001b[2;36m                    \u001b[0m         Inputs Uploaded                                                           \u001b[2m            \u001b[0m\n",
       "\u001b[2;36m                    \u001b[0m         code: SUCCESS                                                             \u001b[2m            \u001b[0m\n",
       "\u001b[2;36m                    \u001b[0m         description: \u001b[32m\"Ok\"\u001b[0m                                                         \u001b[2m            \u001b[0m\n",
       "\u001b[2;36m                    \u001b[0m         details: \u001b[32m\"All inputs successfully added\"\u001b[0m                                  \u001b[2m            \u001b[0m\n",
       "\u001b[2;36m                    \u001b[0m         req_id: \u001b[32m\"159d874d0e7f42709a83cc08089ae293\"\u001b[0m                                \u001b[2m            \u001b[0m\n",
       "\u001b[2;36m                    \u001b[0m                                                                                   \u001b[2m            \u001b[0m\n"
      ]
     },
     "metadata": {},
     "output_type": "display_data"
    },
    {
     "name": "stdout",
     "output_type": "stream",
     "text": [
      "Upload response: None\n",
      "Upload response is None, check your file path and internet connection.\n"
     ]
    }
   ],
   "source": [
    "from clarifai.rag import RAG\n",
    "\n",
    "PAT = '318e358a234f4537a4777674696f9807'\n",
    "user_id = \"askompatel-1\"\n",
    "\n",
    "\n",
    "def upload_document(file_path):\n",
    "    try:\n",
    "        print(f\"Attempting to upload document: {file_path}\")\n",
    "        \n",
    "        # Upload the document to Clarifai's vector database\n",
    "        upload_response = rag_agent.upload(file_path=file_path)\n",
    "        print(\"Upload response:\", upload_response)\n",
    "        \n",
    "        if upload_response is None:\n",
    "            print(\"Upload response is None, check your file path and internet connection.\")\n",
    "            return False\n",
    "        \n",
    "        # Check if the response contains the necessary information\n",
    "        if 'status' in upload_response and upload_response['status'].get('description') == \"Ok\":\n",
    "            print(\"Document uploaded successfully to Clarifai's vector database.\")\n",
    "            return True\n",
    "        else:\n",
    "            print(\"Upload failed with response:\", upload_response)\n",
    "            return False\n",
    "    except FileNotFoundError:\n",
    "        print(f\"Error: File '{file_path}' not found.\")\n",
    "        return False\n",
    "    except Exception as e:\n",
    "        print(f\"Error uploading document: {str(e)}\")\n",
    "        return False\n",
    "\n",
    "def chat_with_document():\n",
    "    try:\n",
    "        messages = [{\"role\": \"human\", \"content\": \"Summarize this Cv/Resume PDF\"}]\n",
    "        chat_response = rag_agent.chat(messages=messages)\n",
    "        print(\"Chat response:\", chat_response)\n",
    "        \n",
    "        if chat_response and 'summary' in chat_response:\n",
    "            print(\"Summarized PDF:\")\n",
    "            print(chat_response['summary'])\n",
    "        else:\n",
    "            print(\"No summary found.\")\n",
    "    except Exception as e:\n",
    "        print(f\"Error during the chat process: {str(e)}\")\n",
    "\n",
    "def start_app():\n",
    "    file_path = \"/Users/om-college/DataScience/LLM/Gemini/GeminiLLM/CV.pdf\"\n",
    "    if upload_document(file_path):\n",
    "        chat_with_document()\n",
    "\n",
    "start_app()"
   ]
  },
  {
   "cell_type": "code",
   "execution_count": null,
   "id": "0793df18",
   "metadata": {},
   "outputs": [],
   "source": []
  }
 ],
 "metadata": {
  "kernelspec": {
   "display_name": "Python 3",
   "language": "python",
   "name": "python3"
  },
  "language_info": {
   "codemirror_mode": {
    "name": "ipython",
    "version": 3
   },
   "file_extension": ".py",
   "mimetype": "text/x-python",
   "name": "python",
   "nbconvert_exporter": "python",
   "pygments_lexer": "ipython3",
   "version": "3.12.1"
  }
 },
 "nbformat": 4,
 "nbformat_minor": 5
}
