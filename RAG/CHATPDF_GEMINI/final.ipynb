{
 "cells": [
  {
   "cell_type": "code",
   "execution_count": 1,
   "metadata": {},
   "outputs": [
    {
     "name": "stdout",
     "output_type": "stream",
     "text": [
      "Requirement already satisfied: clarifai in /Users/om-college/miniconda3/lib/python3.12/site-packages (10.5.0)\n",
      "Requirement already satisfied: clarifai-grpc>=10.5.0 in /Users/om-college/miniconda3/lib/python3.12/site-packages (from clarifai) (10.5.2)\n",
      "Requirement already satisfied: numpy>=1.22.0 in /Users/om-college/miniconda3/lib/python3.12/site-packages (from clarifai) (1.26.4)\n",
      "Requirement already satisfied: tqdm>=4.65.0 in /Users/om-college/miniconda3/lib/python3.12/site-packages (from clarifai) (4.66.4)\n",
      "Requirement already satisfied: tritonclient>=2.34.0 in /Users/om-college/miniconda3/lib/python3.12/site-packages (from clarifai) (2.46.0)\n",
      "Requirement already satisfied: rich>=13.4.2 in /Users/om-college/miniconda3/lib/python3.12/site-packages (from clarifai) (13.7.1)\n",
      "Requirement already satisfied: PyYAML>=6.0.1 in /Users/om-college/miniconda3/lib/python3.12/site-packages (from clarifai) (6.0.1)\n",
      "Requirement already satisfied: schema==0.7.5 in /Users/om-college/miniconda3/lib/python3.12/site-packages (from clarifai) (0.7.5)\n",
      "Requirement already satisfied: Pillow>=9.5.0 in /Users/om-college/miniconda3/lib/python3.12/site-packages (from clarifai) (10.3.0)\n",
      "Requirement already satisfied: inquirerpy==0.3.4 in /Users/om-college/miniconda3/lib/python3.12/site-packages (from clarifai) (0.3.4)\n",
      "Requirement already satisfied: tabulate>=0.9.0 in /Users/om-college/miniconda3/lib/python3.12/site-packages (from clarifai) (0.9.0)\n",
      "Requirement already satisfied: pfzy<0.4.0,>=0.3.1 in /Users/om-college/miniconda3/lib/python3.12/site-packages (from inquirerpy==0.3.4->clarifai) (0.3.4)\n",
      "Requirement already satisfied: prompt-toolkit<4.0.0,>=3.0.1 in /Users/om-college/miniconda3/lib/python3.12/site-packages (from inquirerpy==0.3.4->clarifai) (3.0.47)\n",
      "Requirement already satisfied: contextlib2>=0.5.5 in /Users/om-college/miniconda3/lib/python3.12/site-packages (from schema==0.7.5->clarifai) (21.6.0)\n",
      "Requirement already satisfied: grpcio>=1.44.0 in /Users/om-college/miniconda3/lib/python3.12/site-packages (from clarifai-grpc>=10.5.0->clarifai) (1.64.1)\n",
      "Requirement already satisfied: protobuf>=3.20.3 in /Users/om-college/miniconda3/lib/python3.12/site-packages (from clarifai-grpc>=10.5.0->clarifai) (5.27.1)\n",
      "Requirement already satisfied: googleapis-common-protos>=1.53.0 in /Users/om-college/miniconda3/lib/python3.12/site-packages (from clarifai-grpc>=10.5.0->clarifai) (1.63.1)\n",
      "Requirement already satisfied: requests>=2.25.1 in /Users/om-college/miniconda3/lib/python3.12/site-packages (from clarifai-grpc>=10.5.0->clarifai) (2.31.0)\n",
      "Requirement already satisfied: markdown-it-py>=2.2.0 in /Users/om-college/miniconda3/lib/python3.12/site-packages (from rich>=13.4.2->clarifai) (3.0.0)\n",
      "Requirement already satisfied: pygments<3.0.0,>=2.13.0 in /Users/om-college/miniconda3/lib/python3.12/site-packages (from rich>=13.4.2->clarifai) (2.18.0)\n",
      "Requirement already satisfied: python-rapidjson>=0.9.1 in /Users/om-college/miniconda3/lib/python3.12/site-packages (from tritonclient>=2.34.0->clarifai) (1.17)\n",
      "Requirement already satisfied: urllib3>=2.0.7 in /Users/om-college/miniconda3/lib/python3.12/site-packages (from tritonclient>=2.34.0->clarifai) (2.1.0)\n",
      "Requirement already satisfied: mdurl~=0.1 in /Users/om-college/miniconda3/lib/python3.12/site-packages (from markdown-it-py>=2.2.0->rich>=13.4.2->clarifai) (0.1.2)\n",
      "Requirement already satisfied: wcwidth in /Users/om-college/miniconda3/lib/python3.12/site-packages (from prompt-toolkit<4.0.0,>=3.0.1->inquirerpy==0.3.4->clarifai) (0.2.13)\n",
      "Requirement already satisfied: charset-normalizer<4,>=2 in /Users/om-college/miniconda3/lib/python3.12/site-packages (from requests>=2.25.1->clarifai-grpc>=10.5.0->clarifai) (2.0.4)\n",
      "Requirement already satisfied: idna<4,>=2.5 in /Users/om-college/miniconda3/lib/python3.12/site-packages (from requests>=2.25.1->clarifai-grpc>=10.5.0->clarifai) (3.4)\n",
      "Requirement already satisfied: certifi>=2017.4.17 in /Users/om-college/miniconda3/lib/python3.12/site-packages (from requests>=2.25.1->clarifai-grpc>=10.5.0->clarifai) (2024.2.2)\n",
      "Collecting llama-index-core==0.10.24\n",
      "  Using cached llama_index_core-0.10.24-py3-none-any.whl.metadata (3.6 kB)\n",
      "Requirement already satisfied: PyYAML>=6.0.1 in /Users/om-college/miniconda3/lib/python3.12/site-packages (from llama-index-core==0.10.24) (6.0.1)\n",
      "Requirement already satisfied: SQLAlchemy>=1.4.49 in /Users/om-college/miniconda3/lib/python3.12/site-packages (from SQLAlchemy[asyncio]>=1.4.49->llama-index-core==0.10.24) (2.0.30)\n",
      "Requirement already satisfied: aiohttp<4.0.0,>=3.8.6 in /Users/om-college/miniconda3/lib/python3.12/site-packages (from llama-index-core==0.10.24) (3.9.5)\n",
      "Requirement already satisfied: dataclasses-json in /Users/om-college/miniconda3/lib/python3.12/site-packages (from llama-index-core==0.10.24) (0.6.7)\n",
      "Requirement already satisfied: deprecated>=1.2.9.3 in /Users/om-college/miniconda3/lib/python3.12/site-packages (from llama-index-core==0.10.24) (1.2.14)\n",
      "Requirement already satisfied: dirtyjson<2.0.0,>=1.0.8 in /Users/om-college/miniconda3/lib/python3.12/site-packages (from llama-index-core==0.10.24) (1.0.8)\n",
      "Requirement already satisfied: fsspec>=2023.5.0 in /Users/om-college/miniconda3/lib/python3.12/site-packages (from llama-index-core==0.10.24) (2024.6.0)\n",
      "Requirement already satisfied: httpx in /Users/om-college/miniconda3/lib/python3.12/site-packages (from llama-index-core==0.10.24) (0.27.0)\n",
      "Requirement already satisfied: llamaindex-py-client<0.2.0,>=0.1.13 in /Users/om-college/miniconda3/lib/python3.12/site-packages (from llama-index-core==0.10.24) (0.1.19)\n",
      "Requirement already satisfied: nest-asyncio<2.0.0,>=1.5.8 in /Users/om-college/miniconda3/lib/python3.12/site-packages (from llama-index-core==0.10.24) (1.6.0)\n",
      "Requirement already satisfied: networkx>=3.0 in /Users/om-college/miniconda3/lib/python3.12/site-packages (from llama-index-core==0.10.24) (3.3)\n",
      "Requirement already satisfied: nltk<4.0.0,>=3.8.1 in /Users/om-college/miniconda3/lib/python3.12/site-packages (from llama-index-core==0.10.24) (3.8.1)\n",
      "Requirement already satisfied: numpy in /Users/om-college/miniconda3/lib/python3.12/site-packages (from llama-index-core==0.10.24) (1.26.4)\n",
      "Requirement already satisfied: openai>=1.1.0 in /Users/om-college/miniconda3/lib/python3.12/site-packages (from llama-index-core==0.10.24) (1.34.0)\n",
      "Requirement already satisfied: pandas in /Users/om-college/miniconda3/lib/python3.12/site-packages (from llama-index-core==0.10.24) (2.2.2)\n",
      "Requirement already satisfied: pillow>=9.0.0 in /Users/om-college/miniconda3/lib/python3.12/site-packages (from llama-index-core==0.10.24) (10.3.0)\n",
      "Requirement already satisfied: requests>=2.31.0 in /Users/om-college/miniconda3/lib/python3.12/site-packages (from llama-index-core==0.10.24) (2.31.0)\n",
      "Requirement already satisfied: tenacity<9.0.0,>=8.2.0 in /Users/om-college/miniconda3/lib/python3.12/site-packages (from llama-index-core==0.10.24) (8.3.0)\n",
      "Requirement already satisfied: tiktoken>=0.3.3 in /Users/om-college/miniconda3/lib/python3.12/site-packages (from llama-index-core==0.10.24) (0.7.0)\n",
      "Requirement already satisfied: tqdm<5.0.0,>=4.66.1 in /Users/om-college/miniconda3/lib/python3.12/site-packages (from llama-index-core==0.10.24) (4.66.4)\n",
      "Requirement already satisfied: typing-extensions>=4.5.0 in /Users/om-college/miniconda3/lib/python3.12/site-packages (from llama-index-core==0.10.24) (4.11.0)\n",
      "Requirement already satisfied: typing-inspect>=0.8.0 in /Users/om-college/miniconda3/lib/python3.12/site-packages (from llama-index-core==0.10.24) (0.9.0)\n",
      "Requirement already satisfied: aiosignal>=1.1.2 in /Users/om-college/miniconda3/lib/python3.12/site-packages (from aiohttp<4.0.0,>=3.8.6->llama-index-core==0.10.24) (1.3.1)\n",
      "Requirement already satisfied: attrs>=17.3.0 in /Users/om-college/miniconda3/lib/python3.12/site-packages (from aiohttp<4.0.0,>=3.8.6->llama-index-core==0.10.24) (23.2.0)\n",
      "Requirement already satisfied: frozenlist>=1.1.1 in /Users/om-college/miniconda3/lib/python3.12/site-packages (from aiohttp<4.0.0,>=3.8.6->llama-index-core==0.10.24) (1.4.1)\n",
      "Requirement already satisfied: multidict<7.0,>=4.5 in /Users/om-college/miniconda3/lib/python3.12/site-packages (from aiohttp<4.0.0,>=3.8.6->llama-index-core==0.10.24) (6.0.5)\n",
      "Requirement already satisfied: yarl<2.0,>=1.0 in /Users/om-college/miniconda3/lib/python3.12/site-packages (from aiohttp<4.0.0,>=3.8.6->llama-index-core==0.10.24) (1.9.4)\n",
      "Requirement already satisfied: wrapt<2,>=1.10 in /Users/om-college/miniconda3/lib/python3.12/site-packages (from deprecated>=1.2.9.3->llama-index-core==0.10.24) (1.16.0)\n",
      "Requirement already satisfied: pydantic>=1.10 in /Users/om-college/miniconda3/lib/python3.12/site-packages (from llamaindex-py-client<0.2.0,>=0.1.13->llama-index-core==0.10.24) (2.7.4)\n",
      "Requirement already satisfied: anyio in /Users/om-college/miniconda3/lib/python3.12/site-packages (from httpx->llama-index-core==0.10.24) (4.4.0)\n",
      "Requirement already satisfied: certifi in /Users/om-college/miniconda3/lib/python3.12/site-packages (from httpx->llama-index-core==0.10.24) (2024.2.2)\n",
      "Requirement already satisfied: httpcore==1.* in /Users/om-college/miniconda3/lib/python3.12/site-packages (from httpx->llama-index-core==0.10.24) (1.0.5)\n",
      "Requirement already satisfied: idna in /Users/om-college/miniconda3/lib/python3.12/site-packages (from httpx->llama-index-core==0.10.24) (3.4)\n",
      "Requirement already satisfied: sniffio in /Users/om-college/miniconda3/lib/python3.12/site-packages (from httpx->llama-index-core==0.10.24) (1.3.1)\n",
      "Requirement already satisfied: h11<0.15,>=0.13 in /Users/om-college/miniconda3/lib/python3.12/site-packages (from httpcore==1.*->httpx->llama-index-core==0.10.24) (0.14.0)\n",
      "Requirement already satisfied: click in /Users/om-college/miniconda3/lib/python3.12/site-packages (from nltk<4.0.0,>=3.8.1->llama-index-core==0.10.24) (8.1.7)\n",
      "Requirement already satisfied: joblib in /Users/om-college/miniconda3/lib/python3.12/site-packages (from nltk<4.0.0,>=3.8.1->llama-index-core==0.10.24) (1.4.2)\n",
      "Requirement already satisfied: regex>=2021.8.3 in /Users/om-college/miniconda3/lib/python3.12/site-packages (from nltk<4.0.0,>=3.8.1->llama-index-core==0.10.24) (2024.5.15)\n",
      "Requirement already satisfied: distro<2,>=1.7.0 in /Users/om-college/miniconda3/lib/python3.12/site-packages (from openai>=1.1.0->llama-index-core==0.10.24) (1.8.0)\n",
      "Requirement already satisfied: charset-normalizer<4,>=2 in /Users/om-college/miniconda3/lib/python3.12/site-packages (from requests>=2.31.0->llama-index-core==0.10.24) (2.0.4)\n",
      "Requirement already satisfied: urllib3<3,>=1.21.1 in /Users/om-college/miniconda3/lib/python3.12/site-packages (from requests>=2.31.0->llama-index-core==0.10.24) (2.1.0)\n",
      "Requirement already satisfied: greenlet!=0.4.17 in /Users/om-college/miniconda3/lib/python3.12/site-packages (from SQLAlchemy[asyncio]>=1.4.49->llama-index-core==0.10.24) (3.0.3)\n",
      "Requirement already satisfied: mypy-extensions>=0.3.0 in /Users/om-college/miniconda3/lib/python3.12/site-packages (from typing-inspect>=0.8.0->llama-index-core==0.10.24) (1.0.0)\n",
      "Requirement already satisfied: marshmallow<4.0.0,>=3.18.0 in /Users/om-college/miniconda3/lib/python3.12/site-packages (from dataclasses-json->llama-index-core==0.10.24) (3.21.3)\n",
      "Requirement already satisfied: python-dateutil>=2.8.2 in /Users/om-college/miniconda3/lib/python3.12/site-packages (from pandas->llama-index-core==0.10.24) (2.9.0.post0)\n",
      "Requirement already satisfied: pytz>=2020.1 in /Users/om-college/miniconda3/lib/python3.12/site-packages (from pandas->llama-index-core==0.10.24) (2024.1)\n",
      "Requirement already satisfied: tzdata>=2022.7 in /Users/om-college/miniconda3/lib/python3.12/site-packages (from pandas->llama-index-core==0.10.24) (2024.1)\n",
      "Requirement already satisfied: packaging>=17.0 in /Users/om-college/miniconda3/lib/python3.12/site-packages (from marshmallow<4.0.0,>=3.18.0->dataclasses-json->llama-index-core==0.10.24) (23.1)\n",
      "Requirement already satisfied: annotated-types>=0.4.0 in /Users/om-college/miniconda3/lib/python3.12/site-packages (from pydantic>=1.10->llamaindex-py-client<0.2.0,>=0.1.13->llama-index-core==0.10.24) (0.7.0)\n",
      "Requirement already satisfied: pydantic-core==2.18.4 in /Users/om-college/miniconda3/lib/python3.12/site-packages (from pydantic>=1.10->llamaindex-py-client<0.2.0,>=0.1.13->llama-index-core==0.10.24) (2.18.4)\n",
      "Requirement already satisfied: six>=1.5 in /Users/om-college/miniconda3/lib/python3.12/site-packages (from python-dateutil>=2.8.2->pandas->llama-index-core==0.10.24) (1.16.0)\n",
      "Using cached llama_index_core-0.10.24-py3-none-any.whl (15.4 MB)\n",
      "Installing collected packages: llama-index-core\n",
      "  Attempting uninstall: llama-index-core\n",
      "    Found existing installation: llama-index-core 0.10.44\n",
      "    Uninstalling llama-index-core-0.10.44:\n",
      "      Successfully uninstalled llama-index-core-0.10.44\n",
      "\u001b[31mERROR: pip's dependency resolver does not currently take into account all the packages that are installed. This behaviour is the source of the following dependency conflicts.\n",
      "llama-index-readers-file 0.1.25 requires llama-index-core<0.11.0,>=0.10.37.post1, but you have llama-index-core 0.10.24 which is incompatible.\u001b[0m\u001b[31m\n",
      "\u001b[0mSuccessfully installed llama-index-core-0.10.24\n",
      "Requirement already satisfied: clarifai in /Users/om-college/miniconda3/lib/python3.12/site-packages (10.5.0)\n",
      "Requirement already satisfied: ipywidgets in /Users/om-college/miniconda3/lib/python3.12/site-packages (8.1.3)\n",
      "Requirement already satisfied: clarifai-grpc>=10.5.0 in /Users/om-college/miniconda3/lib/python3.12/site-packages (from clarifai) (10.5.2)\n",
      "Requirement already satisfied: numpy>=1.22.0 in /Users/om-college/miniconda3/lib/python3.12/site-packages (from clarifai) (1.26.4)\n",
      "Requirement already satisfied: tqdm>=4.65.0 in /Users/om-college/miniconda3/lib/python3.12/site-packages (from clarifai) (4.66.4)\n",
      "Requirement already satisfied: tritonclient>=2.34.0 in /Users/om-college/miniconda3/lib/python3.12/site-packages (from clarifai) (2.46.0)\n",
      "Requirement already satisfied: rich>=13.4.2 in /Users/om-college/miniconda3/lib/python3.12/site-packages (from clarifai) (13.7.1)\n",
      "Requirement already satisfied: PyYAML>=6.0.1 in /Users/om-college/miniconda3/lib/python3.12/site-packages (from clarifai) (6.0.1)\n",
      "Requirement already satisfied: schema==0.7.5 in /Users/om-college/miniconda3/lib/python3.12/site-packages (from clarifai) (0.7.5)\n",
      "Requirement already satisfied: Pillow>=9.5.0 in /Users/om-college/miniconda3/lib/python3.12/site-packages (from clarifai) (10.3.0)\n",
      "Requirement already satisfied: inquirerpy==0.3.4 in /Users/om-college/miniconda3/lib/python3.12/site-packages (from clarifai) (0.3.4)\n",
      "Requirement already satisfied: tabulate>=0.9.0 in /Users/om-college/miniconda3/lib/python3.12/site-packages (from clarifai) (0.9.0)\n",
      "Requirement already satisfied: pfzy<0.4.0,>=0.3.1 in /Users/om-college/miniconda3/lib/python3.12/site-packages (from inquirerpy==0.3.4->clarifai) (0.3.4)\n",
      "Requirement already satisfied: prompt-toolkit<4.0.0,>=3.0.1 in /Users/om-college/miniconda3/lib/python3.12/site-packages (from inquirerpy==0.3.4->clarifai) (3.0.47)\n",
      "Requirement already satisfied: contextlib2>=0.5.5 in /Users/om-college/miniconda3/lib/python3.12/site-packages (from schema==0.7.5->clarifai) (21.6.0)\n",
      "Requirement already satisfied: comm>=0.1.3 in /Users/om-college/miniconda3/lib/python3.12/site-packages (from ipywidgets) (0.2.2)\n",
      "Requirement already satisfied: ipython>=6.1.0 in /Users/om-college/miniconda3/lib/python3.12/site-packages (from ipywidgets) (8.25.0)\n",
      "Requirement already satisfied: traitlets>=4.3.1 in /Users/om-college/miniconda3/lib/python3.12/site-packages (from ipywidgets) (5.14.3)\n",
      "Requirement already satisfied: widgetsnbextension~=4.0.11 in /Users/om-college/miniconda3/lib/python3.12/site-packages (from ipywidgets) (4.0.11)\n",
      "Requirement already satisfied: jupyterlab-widgets~=3.0.11 in /Users/om-college/miniconda3/lib/python3.12/site-packages (from ipywidgets) (3.0.11)\n",
      "Requirement already satisfied: grpcio>=1.44.0 in /Users/om-college/miniconda3/lib/python3.12/site-packages (from clarifai-grpc>=10.5.0->clarifai) (1.64.1)\n",
      "Requirement already satisfied: protobuf>=3.20.3 in /Users/om-college/miniconda3/lib/python3.12/site-packages (from clarifai-grpc>=10.5.0->clarifai) (5.27.1)\n",
      "Requirement already satisfied: googleapis-common-protos>=1.53.0 in /Users/om-college/miniconda3/lib/python3.12/site-packages (from clarifai-grpc>=10.5.0->clarifai) (1.63.1)\n",
      "Requirement already satisfied: requests>=2.25.1 in /Users/om-college/miniconda3/lib/python3.12/site-packages (from clarifai-grpc>=10.5.0->clarifai) (2.31.0)\n",
      "Requirement already satisfied: decorator in /Users/om-college/miniconda3/lib/python3.12/site-packages (from ipython>=6.1.0->ipywidgets) (5.1.1)\n",
      "Requirement already satisfied: jedi>=0.16 in /Users/om-college/miniconda3/lib/python3.12/site-packages (from ipython>=6.1.0->ipywidgets) (0.19.1)\n",
      "Requirement already satisfied: matplotlib-inline in /Users/om-college/miniconda3/lib/python3.12/site-packages (from ipython>=6.1.0->ipywidgets) (0.1.7)\n",
      "Requirement already satisfied: pygments>=2.4.0 in /Users/om-college/miniconda3/lib/python3.12/site-packages (from ipython>=6.1.0->ipywidgets) (2.18.0)\n",
      "Requirement already satisfied: stack-data in /Users/om-college/miniconda3/lib/python3.12/site-packages (from ipython>=6.1.0->ipywidgets) (0.6.3)\n",
      "Requirement already satisfied: pexpect>4.3 in /Users/om-college/miniconda3/lib/python3.12/site-packages (from ipython>=6.1.0->ipywidgets) (4.9.0)\n",
      "Requirement already satisfied: markdown-it-py>=2.2.0 in /Users/om-college/miniconda3/lib/python3.12/site-packages (from rich>=13.4.2->clarifai) (3.0.0)\n",
      "Requirement already satisfied: python-rapidjson>=0.9.1 in /Users/om-college/miniconda3/lib/python3.12/site-packages (from tritonclient>=2.34.0->clarifai) (1.17)\n",
      "Requirement already satisfied: urllib3>=2.0.7 in /Users/om-college/miniconda3/lib/python3.12/site-packages (from tritonclient>=2.34.0->clarifai) (2.1.0)\n",
      "Requirement already satisfied: parso<0.9.0,>=0.8.3 in /Users/om-college/miniconda3/lib/python3.12/site-packages (from jedi>=0.16->ipython>=6.1.0->ipywidgets) (0.8.4)\n",
      "Requirement already satisfied: mdurl~=0.1 in /Users/om-college/miniconda3/lib/python3.12/site-packages (from markdown-it-py>=2.2.0->rich>=13.4.2->clarifai) (0.1.2)\n",
      "Requirement already satisfied: ptyprocess>=0.5 in /Users/om-college/miniconda3/lib/python3.12/site-packages (from pexpect>4.3->ipython>=6.1.0->ipywidgets) (0.7.0)\n",
      "Requirement already satisfied: wcwidth in /Users/om-college/miniconda3/lib/python3.12/site-packages (from prompt-toolkit<4.0.0,>=3.0.1->inquirerpy==0.3.4->clarifai) (0.2.13)\n",
      "Requirement already satisfied: charset-normalizer<4,>=2 in /Users/om-college/miniconda3/lib/python3.12/site-packages (from requests>=2.25.1->clarifai-grpc>=10.5.0->clarifai) (2.0.4)\n",
      "Requirement already satisfied: idna<4,>=2.5 in /Users/om-college/miniconda3/lib/python3.12/site-packages (from requests>=2.25.1->clarifai-grpc>=10.5.0->clarifai) (3.4)\n",
      "Requirement already satisfied: certifi>=2017.4.17 in /Users/om-college/miniconda3/lib/python3.12/site-packages (from requests>=2.25.1->clarifai-grpc>=10.5.0->clarifai) (2024.2.2)\n",
      "Requirement already satisfied: executing>=1.2.0 in /Users/om-college/miniconda3/lib/python3.12/site-packages (from stack-data->ipython>=6.1.0->ipywidgets) (2.0.1)\n",
      "Requirement already satisfied: asttokens>=2.1.0 in /Users/om-college/miniconda3/lib/python3.12/site-packages (from stack-data->ipython>=6.1.0->ipywidgets) (2.4.1)\n",
      "Requirement already satisfied: pure-eval in /Users/om-college/miniconda3/lib/python3.12/site-packages (from stack-data->ipython>=6.1.0->ipywidgets) (0.2.2)\n",
      "Requirement already satisfied: six>=1.12.0 in /Users/om-college/miniconda3/lib/python3.12/site-packages (from asttokens>=2.1.0->stack-data->ipython>=6.1.0->ipywidgets) (1.16.0)\n"
     ]
    }
   ],
   "source": [
    "!pip install clarifai\n",
    "!pip install llama-index-core==0.10.24\n",
    "!pip install clarifai ipywidgets"
   ]
  },
  {
   "cell_type": "code",
   "execution_count": 3,
   "metadata": {},
   "outputs": [],
   "source": [
    "from clarifai.rag import RAG\n"
   ]
  },
  {
   "cell_type": "code",
   "execution_count": 4,
   "metadata": {},
   "outputs": [
    {
     "data": {
      "text/html": [
       "<pre style=\"white-space:pre;overflow-x:auto;line-height:normal;font-family:Menlo,'DejaVu Sans Mono',consolas,'Courier New',monospace\"><span style=\"color: #7fbfbf; text-decoration-color: #7fbfbf\">2024-06-15 15:22:03 </span><span style=\"color: #000080; text-decoration-color: #000080\">INFO    </span> clarifai.client.user:                                                      <a href=\"file:///Users/om-college/miniconda3/lib/python3.12/site-packages/clarifai/client/user.py\" target=\"_blank\"><span style=\"color: #7f7f7f; text-decoration-color: #7f7f7f\">user.py</span></a><span style=\"color: #7f7f7f; text-decoration-color: #7f7f7f\">:</span><a href=\"file:///Users/om-college/miniconda3/lib/python3.12/site-packages/clarifai/client/user.py#134\" target=\"_blank\"><span style=\"color: #7f7f7f; text-decoration-color: #7f7f7f\">134</span></a>\n",
       "<span style=\"color: #7fbfbf; text-decoration-color: #7fbfbf\">                    </span>         App created                                                                <span style=\"color: #7f7f7f; text-decoration-color: #7f7f7f\">           </span>\n",
       "<span style=\"color: #7fbfbf; text-decoration-color: #7fbfbf\">                    </span>         code: SUCCESS                                                              <span style=\"color: #7f7f7f; text-decoration-color: #7f7f7f\">           </span>\n",
       "<span style=\"color: #7fbfbf; text-decoration-color: #7fbfbf\">                    </span>         description: <span style=\"color: #008000; text-decoration-color: #008000\">\"Ok\"</span>                                                          <span style=\"color: #7f7f7f; text-decoration-color: #7f7f7f\">           </span>\n",
       "<span style=\"color: #7fbfbf; text-decoration-color: #7fbfbf\">                    </span>         req_id: <span style=\"color: #008000; text-decoration-color: #008000\">\"16b49ffc540e47d9835f8001e26acc87\"</span>                                 <span style=\"color: #7f7f7f; text-decoration-color: #7f7f7f\">           </span>\n",
       "<span style=\"color: #7fbfbf; text-decoration-color: #7fbfbf\">                    </span>                                                                                    <span style=\"color: #7f7f7f; text-decoration-color: #7f7f7f\">           </span>\n",
       "</pre>\n"
      ],
      "text/plain": [
       "\u001b[2;36m2024-06-15 15:22:03\u001b[0m\u001b[2;36m \u001b[0m\u001b[34mINFO    \u001b[0m clarifai.client.user:                                                      \u001b]8;id=640679;file:///Users/om-college/miniconda3/lib/python3.12/site-packages/clarifai/client/user.py\u001b\\\u001b[2muser.py\u001b[0m\u001b]8;;\u001b\\\u001b[2m:\u001b[0m\u001b]8;id=217913;file:///Users/om-college/miniconda3/lib/python3.12/site-packages/clarifai/client/user.py#134\u001b\\\u001b[2m134\u001b[0m\u001b]8;;\u001b\\\n",
       "\u001b[2;36m                    \u001b[0m         App created                                                                \u001b[2m           \u001b[0m\n",
       "\u001b[2;36m                    \u001b[0m         code: SUCCESS                                                              \u001b[2m           \u001b[0m\n",
       "\u001b[2;36m                    \u001b[0m         description: \u001b[32m\"Ok\"\u001b[0m                                                          \u001b[2m           \u001b[0m\n",
       "\u001b[2;36m                    \u001b[0m         req_id: \u001b[32m\"16b49ffc540e47d9835f8001e26acc87\"\u001b[0m                                 \u001b[2m           \u001b[0m\n",
       "\u001b[2;36m                    \u001b[0m                                                                                    \u001b[2m           \u001b[0m\n"
      ]
     },
     "metadata": {},
     "output_type": "display_data"
    },
    {
     "data": {
      "text/html": [
       "<pre style=\"white-space:pre;overflow-x:auto;line-height:normal;font-family:Menlo,'DejaVu Sans Mono',consolas,'Courier New',monospace\"><span style=\"color: #7fbfbf; text-decoration-color: #7fbfbf\">2024-06-15 15:22:04 </span><span style=\"color: #000080; text-decoration-color: #000080\">INFO    </span> clarifai.client.app:                                                        <a href=\"file:///Users/om-college/miniconda3/lib/python3.12/site-packages/clarifai/client/app.py\" target=\"_blank\"><span style=\"color: #7f7f7f; text-decoration-color: #7f7f7f\">app.py</span></a><span style=\"color: #7f7f7f; text-decoration-color: #7f7f7f\">:</span><a href=\"file:///Users/om-college/miniconda3/lib/python3.12/site-packages/clarifai/client/app.py#343\" target=\"_blank\"><span style=\"color: #7f7f7f; text-decoration-color: #7f7f7f\">343</span></a>\n",
       "<span style=\"color: #7fbfbf; text-decoration-color: #7fbfbf\">                    </span>         Model created                                                               <span style=\"color: #7f7f7f; text-decoration-color: #7f7f7f\">          </span>\n",
       "<span style=\"color: #7fbfbf; text-decoration-color: #7fbfbf\">                    </span>         code: SUCCESS                                                               <span style=\"color: #7f7f7f; text-decoration-color: #7f7f7f\">          </span>\n",
       "<span style=\"color: #7fbfbf; text-decoration-color: #7fbfbf\">                    </span>         description: <span style=\"color: #008000; text-decoration-color: #008000\">\"Ok\"</span>                                                           <span style=\"color: #7f7f7f; text-decoration-color: #7f7f7f\">          </span>\n",
       "<span style=\"color: #7fbfbf; text-decoration-color: #7fbfbf\">                    </span>         req_id: <span style=\"color: #008000; text-decoration-color: #008000\">\"344e4665c3cf4efeb891615ceb04c77d\"</span>                                  <span style=\"color: #7f7f7f; text-decoration-color: #7f7f7f\">          </span>\n",
       "<span style=\"color: #7fbfbf; text-decoration-color: #7fbfbf\">                    </span>                                                                                     <span style=\"color: #7f7f7f; text-decoration-color: #7f7f7f\">          </span>\n",
       "</pre>\n"
      ],
      "text/plain": [
       "\u001b[2;36m2024-06-15 15:22:04\u001b[0m\u001b[2;36m \u001b[0m\u001b[34mINFO    \u001b[0m clarifai.client.app:                                                        \u001b]8;id=363077;file:///Users/om-college/miniconda3/lib/python3.12/site-packages/clarifai/client/app.py\u001b\\\u001b[2mapp.py\u001b[0m\u001b]8;;\u001b\\\u001b[2m:\u001b[0m\u001b]8;id=734349;file:///Users/om-college/miniconda3/lib/python3.12/site-packages/clarifai/client/app.py#343\u001b\\\u001b[2m343\u001b[0m\u001b]8;;\u001b\\\n",
       "\u001b[2;36m                    \u001b[0m         Model created                                                               \u001b[2m          \u001b[0m\n",
       "\u001b[2;36m                    \u001b[0m         code: SUCCESS                                                               \u001b[2m          \u001b[0m\n",
       "\u001b[2;36m                    \u001b[0m         description: \u001b[32m\"Ok\"\u001b[0m                                                           \u001b[2m          \u001b[0m\n",
       "\u001b[2;36m                    \u001b[0m         req_id: \u001b[32m\"344e4665c3cf4efeb891615ceb04c77d\"\u001b[0m                                  \u001b[2m          \u001b[0m\n",
       "\u001b[2;36m                    \u001b[0m                                                                                     \u001b[2m          \u001b[0m\n"
      ]
     },
     "metadata": {},
     "output_type": "display_data"
    },
    {
     "data": {
      "text/html": [
       "<pre style=\"white-space:pre;overflow-x:auto;line-height:normal;font-family:Menlo,'DejaVu Sans Mono',consolas,'Courier New',monospace\"><span style=\"color: #7fbfbf; text-decoration-color: #7fbfbf\">2024-06-15 15:22:05 </span><span style=\"color: #000080; text-decoration-color: #000080\">INFO    </span> clarifai.client.model:                                                    <a href=\"file:///Users/om-college/miniconda3/lib/python3.12/site-packages/clarifai/client/model.py\" target=\"_blank\"><span style=\"color: #7f7f7f; text-decoration-color: #7f7f7f\">model.py</span></a><span style=\"color: #7f7f7f; text-decoration-color: #7f7f7f\">:</span><a href=\"file:///Users/om-college/miniconda3/lib/python3.12/site-packages/clarifai/client/model.py#353\" target=\"_blank\"><span style=\"color: #7f7f7f; text-decoration-color: #7f7f7f\">353</span></a>\n",
       "<span style=\"color: #7fbfbf; text-decoration-color: #7fbfbf\">                    </span>         Model Version created                                                     <span style=\"color: #7f7f7f; text-decoration-color: #7f7f7f\">            </span>\n",
       "<span style=\"color: #7fbfbf; text-decoration-color: #7fbfbf\">                    </span>         code: SUCCESS                                                             <span style=\"color: #7f7f7f; text-decoration-color: #7f7f7f\">            </span>\n",
       "<span style=\"color: #7fbfbf; text-decoration-color: #7fbfbf\">                    </span>         description: <span style=\"color: #008000; text-decoration-color: #008000\">\"Ok\"</span>                                                         <span style=\"color: #7f7f7f; text-decoration-color: #7f7f7f\">            </span>\n",
       "<span style=\"color: #7fbfbf; text-decoration-color: #7fbfbf\">                    </span>         req_id: <span style=\"color: #008000; text-decoration-color: #008000\">\"50d68ae4f66841cfa5cf3c0c8d37a7ae\"</span>                                <span style=\"color: #7f7f7f; text-decoration-color: #7f7f7f\">            </span>\n",
       "<span style=\"color: #7fbfbf; text-decoration-color: #7fbfbf\">                    </span>                                                                                   <span style=\"color: #7f7f7f; text-decoration-color: #7f7f7f\">            </span>\n",
       "</pre>\n"
      ],
      "text/plain": [
       "\u001b[2;36m2024-06-15 15:22:05\u001b[0m\u001b[2;36m \u001b[0m\u001b[34mINFO    \u001b[0m clarifai.client.model:                                                    \u001b]8;id=166450;file:///Users/om-college/miniconda3/lib/python3.12/site-packages/clarifai/client/model.py\u001b\\\u001b[2mmodel.py\u001b[0m\u001b]8;;\u001b\\\u001b[2m:\u001b[0m\u001b]8;id=907088;file:///Users/om-college/miniconda3/lib/python3.12/site-packages/clarifai/client/model.py#353\u001b\\\u001b[2m353\u001b[0m\u001b]8;;\u001b\\\n",
       "\u001b[2;36m                    \u001b[0m         Model Version created                                                     \u001b[2m            \u001b[0m\n",
       "\u001b[2;36m                    \u001b[0m         code: SUCCESS                                                             \u001b[2m            \u001b[0m\n",
       "\u001b[2;36m                    \u001b[0m         description: \u001b[32m\"Ok\"\u001b[0m                                                         \u001b[2m            \u001b[0m\n",
       "\u001b[2;36m                    \u001b[0m         req_id: \u001b[32m\"50d68ae4f66841cfa5cf3c0c8d37a7ae\"\u001b[0m                                \u001b[2m            \u001b[0m\n",
       "\u001b[2;36m                    \u001b[0m                                                                                   \u001b[2m            \u001b[0m\n"
      ]
     },
     "metadata": {},
     "output_type": "display_data"
    },
    {
     "data": {
      "text/html": [
       "<pre style=\"white-space:pre;overflow-x:auto;line-height:normal;font-family:Menlo,'DejaVu Sans Mono',consolas,'Courier New',monospace\"><span style=\"color: #7fbfbf; text-decoration-color: #7fbfbf\">2024-06-15 15:22:06 </span><span style=\"color: #000080; text-decoration-color: #000080\">INFO    </span> clarifai.client.app:                                                        <a href=\"file:///Users/om-college/miniconda3/lib/python3.12/site-packages/clarifai/client/app.py\" target=\"_blank\"><span style=\"color: #7f7f7f; text-decoration-color: #7f7f7f\">app.py</span></a><span style=\"color: #7f7f7f; text-decoration-color: #7f7f7f\">:</span><a href=\"file:///Users/om-college/miniconda3/lib/python3.12/site-packages/clarifai/client/app.py#431\" target=\"_blank\"><span style=\"color: #7f7f7f; text-decoration-color: #7f7f7f\">431</span></a>\n",
       "<span style=\"color: #7fbfbf; text-decoration-color: #7fbfbf\">                    </span>         Workflow created                                                            <span style=\"color: #7f7f7f; text-decoration-color: #7f7f7f\">          </span>\n",
       "<span style=\"color: #7fbfbf; text-decoration-color: #7fbfbf\">                    </span>         code: SUCCESS                                                               <span style=\"color: #7f7f7f; text-decoration-color: #7f7f7f\">          </span>\n",
       "<span style=\"color: #7fbfbf; text-decoration-color: #7fbfbf\">                    </span>         description: <span style=\"color: #008000; text-decoration-color: #008000\">\"Ok\"</span>                                                           <span style=\"color: #7f7f7f; text-decoration-color: #7f7f7f\">          </span>\n",
       "<span style=\"color: #7fbfbf; text-decoration-color: #7fbfbf\">                    </span>         req_id: <span style=\"color: #008000; text-decoration-color: #008000\">\"8c1444d88a4448dfbc6f0bb5088c7a03\"</span>                                  <span style=\"color: #7f7f7f; text-decoration-color: #7f7f7f\">          </span>\n",
       "<span style=\"color: #7fbfbf; text-decoration-color: #7fbfbf\">                    </span>                                                                                     <span style=\"color: #7f7f7f; text-decoration-color: #7f7f7f\">          </span>\n",
       "</pre>\n"
      ],
      "text/plain": [
       "\u001b[2;36m2024-06-15 15:22:06\u001b[0m\u001b[2;36m \u001b[0m\u001b[34mINFO    \u001b[0m clarifai.client.app:                                                        \u001b]8;id=837931;file:///Users/om-college/miniconda3/lib/python3.12/site-packages/clarifai/client/app.py\u001b\\\u001b[2mapp.py\u001b[0m\u001b]8;;\u001b\\\u001b[2m:\u001b[0m\u001b]8;id=678033;file:///Users/om-college/miniconda3/lib/python3.12/site-packages/clarifai/client/app.py#431\u001b\\\u001b[2m431\u001b[0m\u001b]8;;\u001b\\\n",
       "\u001b[2;36m                    \u001b[0m         Workflow created                                                            \u001b[2m          \u001b[0m\n",
       "\u001b[2;36m                    \u001b[0m         code: SUCCESS                                                               \u001b[2m          \u001b[0m\n",
       "\u001b[2;36m                    \u001b[0m         description: \u001b[32m\"Ok\"\u001b[0m                                                           \u001b[2m          \u001b[0m\n",
       "\u001b[2;36m                    \u001b[0m         req_id: \u001b[32m\"8c1444d88a4448dfbc6f0bb5088c7a03\"\u001b[0m                                  \u001b[2m          \u001b[0m\n",
       "\u001b[2;36m                    \u001b[0m                                                                                     \u001b[2m          \u001b[0m\n"
      ]
     },
     "metadata": {},
     "output_type": "display_data"
    },
    {
     "data": {
      "text/html": [
       "<pre style=\"white-space:pre;overflow-x:auto;line-height:normal;font-family:Menlo,'DejaVu Sans Mono',consolas,'Courier New',monospace\"><span style=\"color: #008000; text-decoration-color: #008000\"> Input</span>\n",
       "<span style=\"color: #c0c0c0; text-decoration-color: #c0c0c0\">╚══ </span><span style=\"color: #c0c0c0; text-decoration-color: #c0c0c0; font-style: italic\">                              Node: rag-prompter                               </span>\n",
       "<span style=\"color: #c0c0c0; text-decoration-color: #c0c0c0\">    </span><span style=\"color: #c0c0c0; text-decoration-color: #c0c0c0\">┏━━━━━━━━━━━━━━━━━━━━━━━━━┳━━━━━━━━━━━━━━━┳━━━━━━━━━━━━━━━━━━━━┳━━━━━━━━━━━━━━┓</span>\n",
       "<span style=\"color: #c0c0c0; text-decoration-color: #c0c0c0\">    </span><span style=\"color: #c0c0c0; text-decoration-color: #c0c0c0\">┃</span><span style=\"color: #000080; text-decoration-color: #000080\"> id                      </span><span style=\"color: #c0c0c0; text-decoration-color: #c0c0c0\">┃</span><span style=\"color: #000080; text-decoration-color: #000080\"> model_type_id </span><span style=\"color: #c0c0c0; text-decoration-color: #c0c0c0\">┃</span><span style=\"color: #000080; text-decoration-color: #000080\"> app_id             </span><span style=\"color: #c0c0c0; text-decoration-color: #c0c0c0\">┃</span><span style=\"color: #000080; text-decoration-color: #000080\"> user_id      </span><span style=\"color: #c0c0c0; text-decoration-color: #c0c0c0\">┃</span>\n",
       "<span style=\"color: #c0c0c0; text-decoration-color: #c0c0c0\">    </span><span style=\"color: #c0c0c0; text-decoration-color: #c0c0c0\">┡━━━━━━━━━━━━━━━━━━━━━━━━━╇━━━━━━━━━━━━━━━╇━━━━━━━━━━━━━━━━━━━━╇━━━━━━━━━━━━━━┩</span>\n",
       "<span style=\"color: #c0c0c0; text-decoration-color: #c0c0c0\">    </span><span style=\"color: #c0c0c0; text-decoration-color: #c0c0c0\">│ rag-prompter-1a8e10601e │ rag-prompter  │ rag_app_1a8e10601e │ askompatel-1 │</span>\n",
       "<span style=\"color: #c0c0c0; text-decoration-color: #c0c0c0\">    </span><span style=\"color: #c0c0c0; text-decoration-color: #c0c0c0\">└─────────────────────────┴───────────────┴────────────────────┴──────────────┘</span>\n",
       "<span style=\"color: #c0c0c0; text-decoration-color: #c0c0c0\">    ╚══ </span><span style=\"color: #008000; text-decoration-color: #008000; font-style: italic\">                           Node: llm                            </span>\n",
       "<span style=\"color: #c0c0c0; text-decoration-color: #c0c0c0\">        </span><span style=\"color: #008000; text-decoration-color: #008000\">┏━━━━━━━━━━━━━━━━━━━━━┳━━━━━━━━━━━━━━━┳━━━━━━━━━━━━┳━━━━━━━━━━━┓</span>\n",
       "<span style=\"color: #c0c0c0; text-decoration-color: #c0c0c0\">        </span><span style=\"color: #008000; text-decoration-color: #008000\">┃</span><span style=\"color: #000080; text-decoration-color: #000080\"> id                  </span><span style=\"color: #008000; text-decoration-color: #008000\">┃</span><span style=\"color: #000080; text-decoration-color: #000080\"> model_type_id </span><span style=\"color: #008000; text-decoration-color: #008000\">┃</span><span style=\"color: #000080; text-decoration-color: #000080\"> app_id     </span><span style=\"color: #008000; text-decoration-color: #008000\">┃</span><span style=\"color: #000080; text-decoration-color: #000080\"> user_id   </span><span style=\"color: #008000; text-decoration-color: #008000\">┃</span>\n",
       "<span style=\"color: #c0c0c0; text-decoration-color: #c0c0c0\">        </span><span style=\"color: #008000; text-decoration-color: #008000\">┡━━━━━━━━━━━━━━━━━━━━━╇━━━━━━━━━━━━━━━╇━━━━━━━━━━━━╇━━━━━━━━━━━┩</span>\n",
       "<span style=\"color: #c0c0c0; text-decoration-color: #c0c0c0\">        </span><span style=\"color: #008000; text-decoration-color: #008000\">│ mistral-7B-Instruct │ text-to-text  │ completion │ mistralai │</span>\n",
       "<span style=\"color: #c0c0c0; text-decoration-color: #c0c0c0\">        </span><span style=\"color: #008000; text-decoration-color: #008000\">└─────────────────────┴───────────────┴────────────┴───────────┘</span>\n",
       "</pre>\n"
      ],
      "text/plain": [
       "\u001b[32m Input\u001b[0m\n",
       "\u001b[37m╚══ \u001b[0m\u001b[3;37m                              Node: rag-prompter                               \u001b[0m\n",
       "\u001b[37m    \u001b[0m\u001b[37m┏━━━━━━━━━━━━━━━━━━━━━━━━━┳━━━━━━━━━━━━━━━┳━━━━━━━━━━━━━━━━━━━━┳━━━━━━━━━━━━━━┓\u001b[0m\n",
       "\u001b[37m    \u001b[0m\u001b[37m┃\u001b[0m\u001b[34m \u001b[0m\u001b[34mid                     \u001b[0m\u001b[34m \u001b[0m\u001b[37m┃\u001b[0m\u001b[34m \u001b[0m\u001b[34mmodel_type_id\u001b[0m\u001b[34m \u001b[0m\u001b[37m┃\u001b[0m\u001b[34m \u001b[0m\u001b[34mapp_id            \u001b[0m\u001b[34m \u001b[0m\u001b[37m┃\u001b[0m\u001b[34m \u001b[0m\u001b[34muser_id     \u001b[0m\u001b[34m \u001b[0m\u001b[37m┃\u001b[0m\n",
       "\u001b[37m    \u001b[0m\u001b[37m┡━━━━━━━━━━━━━━━━━━━━━━━━━╇━━━━━━━━━━━━━━━╇━━━━━━━━━━━━━━━━━━━━╇━━━━━━━━━━━━━━┩\u001b[0m\n",
       "\u001b[37m    \u001b[0m\u001b[37m│\u001b[0m\u001b[37m \u001b[0m\u001b[37mrag-prompter-1a8e10601e\u001b[0m\u001b[37m \u001b[0m\u001b[37m│\u001b[0m\u001b[37m \u001b[0m\u001b[37mrag-prompter \u001b[0m\u001b[37m \u001b[0m\u001b[37m│\u001b[0m\u001b[37m \u001b[0m\u001b[37mrag_app_1a8e10601e\u001b[0m\u001b[37m \u001b[0m\u001b[37m│\u001b[0m\u001b[37m \u001b[0m\u001b[37maskompatel-1\u001b[0m\u001b[37m \u001b[0m\u001b[37m│\u001b[0m\n",
       "\u001b[37m    \u001b[0m\u001b[37m└─────────────────────────┴───────────────┴────────────────────┴──────────────┘\u001b[0m\n",
       "\u001b[37m    \u001b[0m\u001b[37m╚══ \u001b[0m\u001b[3;32m                           Node: llm                            \u001b[0m\n",
       "\u001b[37m    \u001b[0m\u001b[37m    \u001b[0m\u001b[32m┏━━━━━━━━━━━━━━━━━━━━━┳━━━━━━━━━━━━━━━┳━━━━━━━━━━━━┳━━━━━━━━━━━┓\u001b[0m\n",
       "\u001b[37m    \u001b[0m\u001b[37m    \u001b[0m\u001b[32m┃\u001b[0m\u001b[34m \u001b[0m\u001b[34mid                 \u001b[0m\u001b[34m \u001b[0m\u001b[32m┃\u001b[0m\u001b[34m \u001b[0m\u001b[34mmodel_type_id\u001b[0m\u001b[34m \u001b[0m\u001b[32m┃\u001b[0m\u001b[34m \u001b[0m\u001b[34mapp_id    \u001b[0m\u001b[34m \u001b[0m\u001b[32m┃\u001b[0m\u001b[34m \u001b[0m\u001b[34muser_id  \u001b[0m\u001b[34m \u001b[0m\u001b[32m┃\u001b[0m\n",
       "\u001b[37m    \u001b[0m\u001b[37m    \u001b[0m\u001b[32m┡━━━━━━━━━━━━━━━━━━━━━╇━━━━━━━━━━━━━━━╇━━━━━━━━━━━━╇━━━━━━━━━━━┩\u001b[0m\n",
       "\u001b[37m    \u001b[0m\u001b[37m    \u001b[0m\u001b[32m│\u001b[0m\u001b[32m \u001b[0m\u001b[32mmistral-7B-Instruct\u001b[0m\u001b[32m \u001b[0m\u001b[32m│\u001b[0m\u001b[32m \u001b[0m\u001b[32mtext-to-text \u001b[0m\u001b[32m \u001b[0m\u001b[32m│\u001b[0m\u001b[32m \u001b[0m\u001b[32mcompletion\u001b[0m\u001b[32m \u001b[0m\u001b[32m│\u001b[0m\u001b[32m \u001b[0m\u001b[32mmistralai\u001b[0m\u001b[32m \u001b[0m\u001b[32m│\u001b[0m\n",
       "\u001b[37m    \u001b[0m\u001b[37m    \u001b[0m\u001b[32m└─────────────────────┴───────────────┴────────────┴───────────┘\u001b[0m\n"
      ]
     },
     "metadata": {},
     "output_type": "display_data"
    }
   ],
   "source": [
    "PAT = 'XXXXXXXXXXXXXXXXXXXXXXX' #original PAT changed as its public repo\n",
    "user_id = \"askompatel-1\"\n",
    "rag_agent = RAG.setup(user_id=user_id, pat=PAT)"
   ]
  },
  {
   "cell_type": "code",
   "execution_count": 5,
   "metadata": {},
   "outputs": [],
   "source": [
    "def upload_document(file_path):\n",
    "    try:\n",
    "        print(f\"Attempting to upload document: {file_path}\")\n",
    "        \n",
    "        # Upload the document to Clarifai's vector database\n",
    "        upload_response = rag_agent.upload(file_path=file_path)\n",
    "        print(\"Upload response:\", upload_response)\n",
    "        \n",
    "        if upload_response is None:\n",
    "            print(\"Upload response is None, check your file path and internet connection.\")\n",
    "            return False\n",
    "        \n",
    "        # Check if the response contains the necessary information\n",
    "        if 'status' in upload_response and upload_response['status'].get('description') == \"Ok\":\n",
    "            print(\"Document uploaded successfully to Clarifai's vector database.\")\n",
    "            return True\n",
    "        else:\n",
    "            print(\"Upload failed with response:\", upload_response)\n",
    "            return False\n",
    "    except FileNotFoundError:\n",
    "        print(f\"Error: File '{file_path}' not found.\")\n",
    "        return False\n",
    "    except Exception as e:\n",
    "        print(f\"Error uploading document: {str(e)}\")\n",
    "        return False"
   ]
  },
  {
   "cell_type": "code",
   "execution_count": 7,
   "metadata": {},
   "outputs": [],
   "source": [
    "def chat_with_document():\n",
    "    try:\n",
    "        messages = [{\"role\": \"human\", \"content\": \"Summarize this Cv/Resume PDF\"}]\n",
    "        chat_response = rag_agent.chat(messages=messages)\n",
    "        print(\"Chat response:\", chat_response)\n",
    "        \n",
    "        if chat_response and 'summary' in chat_response:\n",
    "            print(\"Summarized PDF:\")\n",
    "            print(chat_response['summary'])\n",
    "        else:\n",
    "            print(\"No summary found.\")\n",
    "    except Exception as e:\n",
    "        print(f\"Error during the chat process: {str(e)}\")"
   ]
  },
  {
   "cell_type": "code",
   "execution_count": 10,
   "metadata": {},
   "outputs": [],
   "source": [
    "def start_app():\n",
    "    file_path = \"CV.pdf\" \n",
    "    if upload_document(file_path):\n",
    "        chat_with_document()"
   ]
  },
  {
   "cell_type": "code",
   "execution_count": 11,
   "metadata": {},
   "outputs": [
    {
     "name": "stdout",
     "output_type": "stream",
     "text": [
      "Attempting to upload document: /Users/om-college/DataScience/LLM/Gemini/GeminiLLM/CV.pdf\n",
      "Requirement already satisfied: llama-index-readers-file in /Users/om-college/miniconda3/lib/python3.12/site-packages (0.1.25)\n",
      "Requirement already satisfied: beautifulsoup4<5.0.0,>=4.12.3 in /Users/om-college/miniconda3/lib/python3.12/site-packages (from llama-index-readers-file) (4.12.3)\n",
      "Requirement already satisfied: llama-index-core<0.11.0,>=0.10.37.post1 in /Users/om-college/miniconda3/lib/python3.12/site-packages (from llama-index-readers-file) (0.10.45)\n",
      "Requirement already satisfied: pypdf<5.0.0,>=4.0.1 in /Users/om-college/miniconda3/lib/python3.12/site-packages (from llama-index-readers-file) (4.2.0)\n",
      "Requirement already satisfied: striprtf<0.0.27,>=0.0.26 in /Users/om-college/miniconda3/lib/python3.12/site-packages (from llama-index-readers-file) (0.0.26)\n",
      "Requirement already satisfied: soupsieve>1.2 in /Users/om-college/miniconda3/lib/python3.12/site-packages (from beautifulsoup4<5.0.0,>=4.12.3->llama-index-readers-file) (2.5)\n",
      "Requirement already satisfied: PyYAML>=6.0.1 in /Users/om-college/miniconda3/lib/python3.12/site-packages (from llama-index-core<0.11.0,>=0.10.37.post1->llama-index-readers-file) (6.0.1)\n",
      "Requirement already satisfied: SQLAlchemy>=1.4.49 in /Users/om-college/miniconda3/lib/python3.12/site-packages (from SQLAlchemy[asyncio]>=1.4.49->llama-index-core<0.11.0,>=0.10.37.post1->llama-index-readers-file) (2.0.30)\n",
      "Requirement already satisfied: aiohttp<4.0.0,>=3.8.6 in /Users/om-college/miniconda3/lib/python3.12/site-packages (from llama-index-core<0.11.0,>=0.10.37.post1->llama-index-readers-file) (3.9.5)\n",
      "Requirement already satisfied: dataclasses-json in /Users/om-college/miniconda3/lib/python3.12/site-packages (from llama-index-core<0.11.0,>=0.10.37.post1->llama-index-readers-file) (0.6.7)\n",
      "Requirement already satisfied: deprecated>=1.2.9.3 in /Users/om-college/miniconda3/lib/python3.12/site-packages (from llama-index-core<0.11.0,>=0.10.37.post1->llama-index-readers-file) (1.2.14)\n",
      "Requirement already satisfied: dirtyjson<2.0.0,>=1.0.8 in /Users/om-college/miniconda3/lib/python3.12/site-packages (from llama-index-core<0.11.0,>=0.10.37.post1->llama-index-readers-file) (1.0.8)\n",
      "Requirement already satisfied: fsspec>=2023.5.0 in /Users/om-college/miniconda3/lib/python3.12/site-packages (from llama-index-core<0.11.0,>=0.10.37.post1->llama-index-readers-file) (2024.6.0)\n",
      "Requirement already satisfied: httpx in /Users/om-college/miniconda3/lib/python3.12/site-packages (from llama-index-core<0.11.0,>=0.10.37.post1->llama-index-readers-file) (0.27.0)\n",
      "Requirement already satisfied: llamaindex-py-client<0.2.0,>=0.1.18 in /Users/om-college/miniconda3/lib/python3.12/site-packages (from llama-index-core<0.11.0,>=0.10.37.post1->llama-index-readers-file) (0.1.19)\n",
      "Requirement already satisfied: nest-asyncio<2.0.0,>=1.5.8 in /Users/om-college/miniconda3/lib/python3.12/site-packages (from llama-index-core<0.11.0,>=0.10.37.post1->llama-index-readers-file) (1.6.0)\n",
      "Requirement already satisfied: networkx>=3.0 in /Users/om-college/miniconda3/lib/python3.12/site-packages (from llama-index-core<0.11.0,>=0.10.37.post1->llama-index-readers-file) (3.3)\n",
      "Requirement already satisfied: nltk<4.0.0,>=3.8.1 in /Users/om-college/miniconda3/lib/python3.12/site-packages (from llama-index-core<0.11.0,>=0.10.37.post1->llama-index-readers-file) (3.8.1)\n",
      "Requirement already satisfied: numpy in /Users/om-college/miniconda3/lib/python3.12/site-packages (from llama-index-core<0.11.0,>=0.10.37.post1->llama-index-readers-file) (1.26.4)\n",
      "Requirement already satisfied: openai>=1.1.0 in /Users/om-college/miniconda3/lib/python3.12/site-packages (from llama-index-core<0.11.0,>=0.10.37.post1->llama-index-readers-file) (1.34.0)\n",
      "Requirement already satisfied: pandas in /Users/om-college/miniconda3/lib/python3.12/site-packages (from llama-index-core<0.11.0,>=0.10.37.post1->llama-index-readers-file) (2.2.2)\n",
      "Requirement already satisfied: pillow>=9.0.0 in /Users/om-college/miniconda3/lib/python3.12/site-packages (from llama-index-core<0.11.0,>=0.10.37.post1->llama-index-readers-file) (10.3.0)\n",
      "Requirement already satisfied: requests>=2.31.0 in /Users/om-college/miniconda3/lib/python3.12/site-packages (from llama-index-core<0.11.0,>=0.10.37.post1->llama-index-readers-file) (2.31.0)\n",
      "Requirement already satisfied: tenacity<9.0.0,>=8.2.0 in /Users/om-college/miniconda3/lib/python3.12/site-packages (from llama-index-core<0.11.0,>=0.10.37.post1->llama-index-readers-file) (8.3.0)\n",
      "Requirement already satisfied: tiktoken>=0.3.3 in /Users/om-college/miniconda3/lib/python3.12/site-packages (from llama-index-core<0.11.0,>=0.10.37.post1->llama-index-readers-file) (0.7.0)\n",
      "Requirement already satisfied: tqdm<5.0.0,>=4.66.1 in /Users/om-college/miniconda3/lib/python3.12/site-packages (from llama-index-core<0.11.0,>=0.10.37.post1->llama-index-readers-file) (4.66.4)\n",
      "Requirement already satisfied: typing-extensions>=4.5.0 in /Users/om-college/miniconda3/lib/python3.12/site-packages (from llama-index-core<0.11.0,>=0.10.37.post1->llama-index-readers-file) (4.11.0)\n",
      "Requirement already satisfied: typing-inspect>=0.8.0 in /Users/om-college/miniconda3/lib/python3.12/site-packages (from llama-index-core<0.11.0,>=0.10.37.post1->llama-index-readers-file) (0.9.0)\n",
      "Requirement already satisfied: wrapt in /Users/om-college/miniconda3/lib/python3.12/site-packages (from llama-index-core<0.11.0,>=0.10.37.post1->llama-index-readers-file) (1.16.0)\n",
      "Requirement already satisfied: aiosignal>=1.1.2 in /Users/om-college/miniconda3/lib/python3.12/site-packages (from aiohttp<4.0.0,>=3.8.6->llama-index-core<0.11.0,>=0.10.37.post1->llama-index-readers-file) (1.3.1)\n",
      "Requirement already satisfied: attrs>=17.3.0 in /Users/om-college/miniconda3/lib/python3.12/site-packages (from aiohttp<4.0.0,>=3.8.6->llama-index-core<0.11.0,>=0.10.37.post1->llama-index-readers-file) (23.2.0)\n",
      "Requirement already satisfied: frozenlist>=1.1.1 in /Users/om-college/miniconda3/lib/python3.12/site-packages (from aiohttp<4.0.0,>=3.8.6->llama-index-core<0.11.0,>=0.10.37.post1->llama-index-readers-file) (1.4.1)\n",
      "Requirement already satisfied: multidict<7.0,>=4.5 in /Users/om-college/miniconda3/lib/python3.12/site-packages (from aiohttp<4.0.0,>=3.8.6->llama-index-core<0.11.0,>=0.10.37.post1->llama-index-readers-file) (6.0.5)\n",
      "Requirement already satisfied: yarl<2.0,>=1.0 in /Users/om-college/miniconda3/lib/python3.12/site-packages (from aiohttp<4.0.0,>=3.8.6->llama-index-core<0.11.0,>=0.10.37.post1->llama-index-readers-file) (1.9.4)\n",
      "Requirement already satisfied: pydantic>=1.10 in /Users/om-college/miniconda3/lib/python3.12/site-packages (from llamaindex-py-client<0.2.0,>=0.1.18->llama-index-core<0.11.0,>=0.10.37.post1->llama-index-readers-file) (2.7.4)\n",
      "Requirement already satisfied: anyio in /Users/om-college/miniconda3/lib/python3.12/site-packages (from httpx->llama-index-core<0.11.0,>=0.10.37.post1->llama-index-readers-file) (4.4.0)\n",
      "Requirement already satisfied: certifi in /Users/om-college/miniconda3/lib/python3.12/site-packages (from httpx->llama-index-core<0.11.0,>=0.10.37.post1->llama-index-readers-file) (2024.2.2)\n",
      "Requirement already satisfied: httpcore==1.* in /Users/om-college/miniconda3/lib/python3.12/site-packages (from httpx->llama-index-core<0.11.0,>=0.10.37.post1->llama-index-readers-file) (1.0.5)\n",
      "Requirement already satisfied: idna in /Users/om-college/miniconda3/lib/python3.12/site-packages (from httpx->llama-index-core<0.11.0,>=0.10.37.post1->llama-index-readers-file) (3.4)\n",
      "Requirement already satisfied: sniffio in /Users/om-college/miniconda3/lib/python3.12/site-packages (from httpx->llama-index-core<0.11.0,>=0.10.37.post1->llama-index-readers-file) (1.3.1)\n",
      "Requirement already satisfied: h11<0.15,>=0.13 in /Users/om-college/miniconda3/lib/python3.12/site-packages (from httpcore==1.*->httpx->llama-index-core<0.11.0,>=0.10.37.post1->llama-index-readers-file) (0.14.0)\n",
      "Requirement already satisfied: click in /Users/om-college/miniconda3/lib/python3.12/site-packages (from nltk<4.0.0,>=3.8.1->llama-index-core<0.11.0,>=0.10.37.post1->llama-index-readers-file) (8.1.7)\n",
      "Requirement already satisfied: joblib in /Users/om-college/miniconda3/lib/python3.12/site-packages (from nltk<4.0.0,>=3.8.1->llama-index-core<0.11.0,>=0.10.37.post1->llama-index-readers-file) (1.4.2)\n",
      "Requirement already satisfied: regex>=2021.8.3 in /Users/om-college/miniconda3/lib/python3.12/site-packages (from nltk<4.0.0,>=3.8.1->llama-index-core<0.11.0,>=0.10.37.post1->llama-index-readers-file) (2024.5.15)\n",
      "Requirement already satisfied: distro<2,>=1.7.0 in /Users/om-college/miniconda3/lib/python3.12/site-packages (from openai>=1.1.0->llama-index-core<0.11.0,>=0.10.37.post1->llama-index-readers-file) (1.8.0)\n",
      "Requirement already satisfied: charset-normalizer<4,>=2 in /Users/om-college/miniconda3/lib/python3.12/site-packages (from requests>=2.31.0->llama-index-core<0.11.0,>=0.10.37.post1->llama-index-readers-file) (2.0.4)\n",
      "Requirement already satisfied: urllib3<3,>=1.21.1 in /Users/om-college/miniconda3/lib/python3.12/site-packages (from requests>=2.31.0->llama-index-core<0.11.0,>=0.10.37.post1->llama-index-readers-file) (2.1.0)\n",
      "Requirement already satisfied: greenlet!=0.4.17 in /Users/om-college/miniconda3/lib/python3.12/site-packages (from SQLAlchemy[asyncio]>=1.4.49->llama-index-core<0.11.0,>=0.10.37.post1->llama-index-readers-file) (3.0.3)\n",
      "Requirement already satisfied: mypy-extensions>=0.3.0 in /Users/om-college/miniconda3/lib/python3.12/site-packages (from typing-inspect>=0.8.0->llama-index-core<0.11.0,>=0.10.37.post1->llama-index-readers-file) (1.0.0)\n",
      "Requirement already satisfied: marshmallow<4.0.0,>=3.18.0 in /Users/om-college/miniconda3/lib/python3.12/site-packages (from dataclasses-json->llama-index-core<0.11.0,>=0.10.37.post1->llama-index-readers-file) (3.21.3)\n",
      "Requirement already satisfied: python-dateutil>=2.8.2 in /Users/om-college/miniconda3/lib/python3.12/site-packages (from pandas->llama-index-core<0.11.0,>=0.10.37.post1->llama-index-readers-file) (2.9.0.post0)\n",
      "Requirement already satisfied: pytz>=2020.1 in /Users/om-college/miniconda3/lib/python3.12/site-packages (from pandas->llama-index-core<0.11.0,>=0.10.37.post1->llama-index-readers-file) (2024.1)\n",
      "Requirement already satisfied: tzdata>=2022.7 in /Users/om-college/miniconda3/lib/python3.12/site-packages (from pandas->llama-index-core<0.11.0,>=0.10.37.post1->llama-index-readers-file) (2024.1)\n",
      "Requirement already satisfied: packaging>=17.0 in /Users/om-college/miniconda3/lib/python3.12/site-packages (from marshmallow<4.0.0,>=3.18.0->dataclasses-json->llama-index-core<0.11.0,>=0.10.37.post1->llama-index-readers-file) (23.1)\n",
      "Requirement already satisfied: annotated-types>=0.4.0 in /Users/om-college/miniconda3/lib/python3.12/site-packages (from pydantic>=1.10->llamaindex-py-client<0.2.0,>=0.1.18->llama-index-core<0.11.0,>=0.10.37.post1->llama-index-readers-file) (0.7.0)\n",
      "Requirement already satisfied: pydantic-core==2.18.4 in /Users/om-college/miniconda3/lib/python3.12/site-packages (from pydantic>=1.10->llamaindex-py-client<0.2.0,>=0.1.18->llama-index-core<0.11.0,>=0.10.37.post1->llama-index-readers-file) (2.18.4)\n",
      "Requirement already satisfied: six>=1.5 in /Users/om-college/miniconda3/lib/python3.12/site-packages (from python-dateutil>=2.8.2->pandas->llama-index-core<0.11.0,>=0.10.37.post1->llama-index-readers-file) (1.16.0)\n"
     ]
    },
    {
     "data": {
      "text/html": [
       "<pre style=\"white-space:pre;overflow-x:auto;line-height:normal;font-family:Menlo,'DejaVu Sans Mono',consolas,'Courier New',monospace\"><span style=\"color: #7fbfbf; text-decoration-color: #7fbfbf\">2024-06-15 15:23:38 </span><span style=\"color: #000080; text-decoration-color: #000080\">INFO    </span> clarifai.client.input:                                                    <a href=\"file:///Users/om-college/miniconda3/lib/python3.12/site-packages/clarifai/client/input.py\" target=\"_blank\"><span style=\"color: #7f7f7f; text-decoration-color: #7f7f7f\">input.py</span></a><span style=\"color: #7f7f7f; text-decoration-color: #7f7f7f\">:</span><a href=\"file:///Users/om-college/miniconda3/lib/python3.12/site-packages/clarifai/client/input.py#706\" target=\"_blank\"><span style=\"color: #7f7f7f; text-decoration-color: #7f7f7f\">706</span></a>\n",
       "<span style=\"color: #7fbfbf; text-decoration-color: #7fbfbf\">                    </span>         Inputs Uploaded                                                           <span style=\"color: #7f7f7f; text-decoration-color: #7f7f7f\">            </span>\n",
       "<span style=\"color: #7fbfbf; text-decoration-color: #7fbfbf\">                    </span>         code: SUCCESS                                                             <span style=\"color: #7f7f7f; text-decoration-color: #7f7f7f\">            </span>\n",
       "<span style=\"color: #7fbfbf; text-decoration-color: #7fbfbf\">                    </span>         description: <span style=\"color: #008000; text-decoration-color: #008000\">\"Ok\"</span>                                                         <span style=\"color: #7f7f7f; text-decoration-color: #7f7f7f\">            </span>\n",
       "<span style=\"color: #7fbfbf; text-decoration-color: #7fbfbf\">                    </span>         details: <span style=\"color: #008000; text-decoration-color: #008000\">\"All inputs successfully added\"</span>                                  <span style=\"color: #7f7f7f; text-decoration-color: #7f7f7f\">            </span>\n",
       "<span style=\"color: #7fbfbf; text-decoration-color: #7fbfbf\">                    </span>         req_id: <span style=\"color: #008000; text-decoration-color: #008000\">\"a04759b5910641d2830140364d140bb5\"</span>                                <span style=\"color: #7f7f7f; text-decoration-color: #7f7f7f\">            </span>\n",
       "<span style=\"color: #7fbfbf; text-decoration-color: #7fbfbf\">                    </span>                                                                                   <span style=\"color: #7f7f7f; text-decoration-color: #7f7f7f\">            </span>\n",
       "</pre>\n"
      ],
      "text/plain": [
       "\u001b[2;36m2024-06-15 15:23:38\u001b[0m\u001b[2;36m \u001b[0m\u001b[34mINFO    \u001b[0m clarifai.client.input:                                                    \u001b]8;id=198756;file:///Users/om-college/miniconda3/lib/python3.12/site-packages/clarifai/client/input.py\u001b\\\u001b[2minput.py\u001b[0m\u001b]8;;\u001b\\\u001b[2m:\u001b[0m\u001b]8;id=308212;file:///Users/om-college/miniconda3/lib/python3.12/site-packages/clarifai/client/input.py#706\u001b\\\u001b[2m706\u001b[0m\u001b]8;;\u001b\\\n",
       "\u001b[2;36m                    \u001b[0m         Inputs Uploaded                                                           \u001b[2m            \u001b[0m\n",
       "\u001b[2;36m                    \u001b[0m         code: SUCCESS                                                             \u001b[2m            \u001b[0m\n",
       "\u001b[2;36m                    \u001b[0m         description: \u001b[32m\"Ok\"\u001b[0m                                                         \u001b[2m            \u001b[0m\n",
       "\u001b[2;36m                    \u001b[0m         details: \u001b[32m\"All inputs successfully added\"\u001b[0m                                  \u001b[2m            \u001b[0m\n",
       "\u001b[2;36m                    \u001b[0m         req_id: \u001b[32m\"a04759b5910641d2830140364d140bb5\"\u001b[0m                                \u001b[2m            \u001b[0m\n",
       "\u001b[2;36m                    \u001b[0m                                                                                   \u001b[2m            \u001b[0m\n"
      ]
     },
     "metadata": {},
     "output_type": "display_data"
    },
    {
     "name": "stdout",
     "output_type": "stream",
     "text": [
      "Upload response: None\n",
      "Upload response is None, check your file path and internet connection.\n"
     ]
    }
   ],
   "source": [
    "start_app()"
   ]
  },
  {
   "cell_type": "code",
   "execution_count": null,
   "metadata": {},
   "outputs": [],
   "source": []
  }
 ],
 "metadata": {
  "kernelspec": {
   "display_name": "base",
   "language": "python",
   "name": "python3"
  },
  "language_info": {
   "codemirror_mode": {
    "name": "ipython",
    "version": 3
   },
   "file_extension": ".py",
   "mimetype": "text/x-python",
   "name": "python",
   "nbconvert_exporter": "python",
   "pygments_lexer": "ipython3",
   "version": "3.12.1"
  }
 },
 "nbformat": 4,
 "nbformat_minor": 2
}
